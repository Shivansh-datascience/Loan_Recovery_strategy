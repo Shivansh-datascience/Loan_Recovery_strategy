{
  "cells": [
    {
      "cell_type": "markdown",
      "metadata": {
        "id": "AyVszPkA34LS"
      },
      "source": [
        "# Loan Recovery Strategy Model"
      ]
    },
    {
      "cell_type": "markdown",
      "metadata": {
        "id": "uBKvPN7I6Z7l"
      },
      "source": [
        "importing all packages required for strategy model"
      ]
    },
    {
      "cell_type": "markdown",
      "metadata": {
        "id": "aayUHd-P6mIi"
      },
      "source": [
        "1. Data preprocessing Packages"
      ]
    },
    {
      "cell_type": "code",
      "execution_count": null,
      "metadata": {
        "id": "VyEVmmgt4C6K"
      },
      "outputs": [],
      "source": [
        "import pandas as pd\n",
        "from pyspark.sql.session import SparkSession\n",
        "import numpy as np\n",
        "import logging\n",
        "import warnings\n",
        "warnings.filterwarnings('ignore')"
      ]
    },
    {
      "cell_type": "markdown",
      "metadata": {
        "id": "f27j8iJU6z0O"
      },
      "source": [
        "2.Visualization and distribution packages"
      ]
    },
    {
      "cell_type": "code",
      "execution_count": null,
      "metadata": {
        "id": "asYBfSm86_G3"
      },
      "outputs": [],
      "source": [
        "import matplotlib.pyplot as plt\n",
        "import seaborn as sns\n",
        "import plotly.express as px\n",
        "import plotly.graph_objects as go\n",
        "from plotly.subplots import make_subplots"
      ]
    },
    {
      "cell_type": "markdown",
      "metadata": {
        "id": "6lWS2dQs7XBv"
      },
      "source": [
        "3). Statistical Testing and Data Transformation library"
      ]
    },
    {
      "cell_type": "code",
      "execution_count": null,
      "metadata": {
        "id": "0vK9hp6o7V89"
      },
      "outputs": [],
      "source": [
        "from scipy import stats\n",
        "from sklearn.preprocessing import LabelEncoder , OneHotEncoder , StandardScaler , MinMaxScaler\n",
        "from sklearn.model_selection import train_test_split\n",
        "from sklearn.feature_selection import chi2 , RFE\n",
        "from sklearn.pipeline import Pipeline\n",
        "from sklearn.decomposition import PCA"
      ]
    },
    {
      "cell_type": "markdown",
      "metadata": {
        "id": "rAOMtXDp8TfC"
      },
      "source": [
        "4). Model buliding Pakages"
      ]
    },
    {
      "cell_type": "markdown",
      "metadata": {
        "id": "1znZJwbV7f3V"
      },
      "source": []
    },
    {
      "cell_type": "code",
      "execution_count": null,
      "metadata": {
        "id": "d45DB-Hc7fFr"
      },
      "outputs": [],
      "source": [
        "\n",
        "\n",
        "from sklearn.cluster import KMeans , DBSCAN"
      ]
    },
    {
      "cell_type": "markdown",
      "metadata": {
        "id": "Gt4-tSPe-MOS"
      },
      "source": [
        "# Importing Data from Google colab environment"
      ]
    },
    {
      "cell_type": "code",
      "execution_count": null,
      "metadata": {
        "colab": {
          "base_uri": "https://localhost:8080/"
        },
        "id": "ZTDjJnW6-KJW",
        "outputId": "c80d707d-746d-4561-ae05-e7ef5ce4c0ff"
      },
      "outputs": [
        {
          "output_type": "stream",
          "name": "stdout",
          "text": [
            "<pyspark.sql.session.SparkSession object at 0x7c40ab9b6c90>\n"
          ]
        }
      ],
      "source": [
        "file_path = \"/content/loan_data.csv\"\n",
        "\n",
        "\n",
        "spark = SparkSession.builder.appName('Session').getOrCreate()\n",
        "print(spark)"
      ]
    },
    {
      "cell_type": "code",
      "execution_count": null,
      "metadata": {
        "colab": {
          "base_uri": "https://localhost:8080/"
        },
        "id": "uKrCVjbT-nEk",
        "outputId": "e3220a3e-e65d-41b7-c4b2-4ebd32b2ad5a"
      },
      "outputs": [
        {
          "output_type": "stream",
          "name": "stdout",
          "text": [
            "DataFrame[_c0: int, Borrower_ID: string, Age: int, Gender: string, Employment_Type: string, Monthly_Income: int, Num_Dependents: int, Loan_ID: string, Loan_Amount: int, Loan_Tenure: int, Interest_Rate: double, Loan_Type: string, Collateral_Value: double, Outstanding_Loan_Amount: double, Monthly_EMI: double, Payment_History: string, Num_Missed_Payments: int, Days_Past_Due: int, Recovery_Status: string, Collection_Attempts: int, Collection_Method: string, Legal_Action_Taken: string]\n",
            "+---+-----------+---+------+---------------+--------------+--------------+-------+-----------+-----------+-------------+---------+----------------+-----------------------+-----------+---------------+-------------------+-------------+-------------------+-------------------+-----------------+------------------+\n",
            "|_c0|Borrower_ID|Age|Gender|Employment_Type|Monthly_Income|Num_Dependents|Loan_ID|Loan_Amount|Loan_Tenure|Interest_Rate|Loan_Type|Collateral_Value|Outstanding_Loan_Amount|Monthly_EMI|Payment_History|Num_Missed_Payments|Days_Past_Due|    Recovery_Status|Collection_Attempts|Collection_Method|Legal_Action_Taken|\n",
            "+---+-----------+---+------+---------------+--------------+--------------+-------+-----------+-----------+-------------+---------+----------------+-----------------------+-----------+---------------+-------------------+-------------+-------------------+-------------------+-----------------+------------------+\n",
            "|  0|      BRW_1| 59|  Male|       Salaried|        215422|             0|   LN_1|    1445796|         60|        12.39|     Home|1727997.25789665|       291413.005791598|    4856.88|        On-Time|                  0|            0|Partially Recovered|                  1| Settlement Offer|                No|\n",
            "|  1|      BRW_2| 49|Female|       Salaried|         60893|             0|   LN_2|    1044620|         12|        13.47|     Auto|1180032.36168975|       665204.153912951|   55433.68|        On-Time|                  0|            0|    Fully Recovered|                  2| Settlement Offer|                No|\n",
            "|  2|      BRW_3| 35|  Male|       Salaried|        116520|             1|   LN_3|    1923410|         72|         7.74|     Home|2622539.93058324|       1031371.99739342|   14324.61|        Delayed|                  2|          124|    Fully Recovered|                  2|     Legal Notice|                No|\n",
            "|  3|      BRW_4| 63|Female|       Salaried|        140818|             2|   LN_4|    1811663|         36|        12.23|     Home|1145492.68010532|       224973.921257009|    6249.28|        On-Time|                  1|           56|    Fully Recovered|                  2|            Calls|                No|\n",
            "|  4|      BRW_5| 28|  Male|       Salaried|         76272|             1|   LN_5|      88578|         48|        16.13| Personal|             0.0|       39189.8920078819|     816.46|        On-Time|                  1|           69|    Fully Recovered|                  0|  Debt Collectors|                No|\n",
            "|  5|      BRW_6| 41|  Male|       Salaried|        238224|             3|   LN_6|     664741|         36|        15.86|     Auto|982214.627829724|       129965.525042383|    3610.15|        On-Time|                  1|          111|Partially Recovered|                  6|     Legal Notice|                No|\n",
            "|  6|      BRW_7| 59|Female|  Self-Employed|         82649|             1|   LN_7|    1514110|         60|        17.06|     Home|1639218.85925618|       875490.423272566|   14591.51|        On-Time|                  0|            0|Partially Recovered|                  8|  Debt Collectors|                No|\n",
            "|  7|      BRW_8| 39|  Male|       Salaried|         79674|             0|   LN_8|     912147|         12|         9.76| Personal|             0.0|       416121.380852301|   34676.78|        Delayed|                  0|            0|    Fully Recovered|                  0| Settlement Offer|                No|\n",
            "|  8|      BRW_9| 43|  Male|  Self-Employed|        159832|             3|   LN_9|     258859|         72|         9.13|     Home|387116.943602344|       168733.801500595|    2343.53|        On-Time|                  3|          124|    Fully Recovered|                  3| Settlement Offer|                No|\n",
            "|  9|     BRW_10| 31|  Male|  Self-Employed|        167999|             0|  LN_10|     161435|         60|        14.74| Personal|             0.0|       133190.654768456|    2219.84|        Delayed|                  0|            0|Partially Recovered|                  6|     Legal Notice|                No|\n",
            "| 10|     BRW_11| 31|  Male| Business Owner|        101475|             2|  LN_11|     790389|         24|         10.6|     Auto|1115645.71266238|       292208.248217513|   12175.34|        On-Time|                  0|            0|    Fully Recovered|                  0|            Calls|                No|\n",
            "| 11|     BRW_12| 44|Female|  Self-Employed|         76367|             0|  LN_12|    1250114|         60|         6.14|     Home|901978.843110403|       1207474.97886154|   20124.58|        On-Time|                  0|            0|    Fully Recovered|                  1| Settlement Offer|                No|\n",
            "| 12|     BRW_13| 56|  Male|  Self-Employed|        244027|             0|  LN_13|    1980750|         60|         8.68| Business|1101617.90111599|       1152937.23333495|   19215.62|        Delayed|                  1|            7|        Written Off|                  8|  Debt Collectors|                No|\n",
            "| 13|     BRW_14| 60|  Male| Business Owner|        158660|             1|  LN_14|      95475|         48|        10.44| Personal|             0.0|        62675.682610002|    1305.74|         Missed|                  3|           99|    Fully Recovered|                  2|  Debt Collectors|                No|\n",
            "| 14|     BRW_15| 44|  Male| Business Owner|        136750|             0|  LN_15|     896574|         36|          8.8|     Auto|677486.364880482|       638903.237117243|   17747.31|        Delayed|                  0|            0|        Written Off|                  9|     Legal Notice|                No|\n",
            "| 15|     BRW_16| 23|Female|       Salaried|        247750|             3|  LN_16|    1839096|         36|         9.32|     Home|1889788.19662024|       1287474.56067148|   35763.18|        On-Time|                  1|           86|    Fully Recovered|                  3|  Debt Collectors|                No|\n",
            "| 16|     BRW_17| 42|  Male|       Salaried|        133154|             3|  LN_17|    1256212|         24|         8.82|     Auto|843667.415463697|       703320.021155911|    29305.0|        On-Time|                  3|          171|    Fully Recovered|                  3|            Calls|                No|\n",
            "| 17|     BRW_18| 22|  Male|       Salaried|        198305|             2|  LN_18|    1252060|         36|         5.54| Personal|             0.0|       608360.756499746|   16898.91|        Delayed|                  1|          173|    Fully Recovered|                  0| Settlement Offer|                No|\n",
            "| 18|     BRW_19| 44|Female|       Salaried|         59738|             3|  LN_19|    1192102|         72|        13.28|     Home|795680.096359383|       176912.428353803|    2457.12|        On-Time|                  3|          103|        Written Off|                  3|  Debt Collectors|               Yes|\n",
            "| 19|     BRW_20| 64|Female|  Self-Employed|         48397|             1|  LN_20|    1149577|         12|        12.76|     Auto| 1106575.4021005|       137808.141805415|   11484.01|        On-Time|                  2|           42|    Fully Recovered|                  2|  Debt Collectors|                No|\n",
            "+---+-----------+---+------+---------------+--------------+--------------+-------+-----------+-----------+-------------+---------+----------------+-----------------------+-----------+---------------+-------------------+-------------+-------------------+-------------------+-----------------+------------------+\n",
            "only showing top 20 rows\n",
            "\n",
            "     _c0 Borrower_ID  Age  Gender Employment_Type  Monthly_Income  \\\n",
            "0      0       BRW_1   59    Male        Salaried          215422   \n",
            "1      1       BRW_2   49  Female        Salaried           60893   \n",
            "2      2       BRW_3   35    Male        Salaried          116520   \n",
            "3      3       BRW_4   63  Female        Salaried          140818   \n",
            "4      4       BRW_5   28    Male        Salaried           76272   \n",
            "..   ...         ...  ...     ...             ...             ...   \n",
            "495  495     BRW_496   46  Female        Salaried          248483   \n",
            "496  496     BRW_497   30  Female        Salaried          243590   \n",
            "497  497     BRW_498   46  Female        Salaried          113864   \n",
            "498  498     BRW_499   54    Male        Salaried          158401   \n",
            "499  499     BRW_500   61    Male   Self-Employed           40169   \n",
            "\n",
            "     Num_Dependents Loan_ID  Loan_Amount  Loan_Tenure  ...  Collateral_Value  \\\n",
            "0                 0    LN_1      1445796           60  ...      1.727997e+06   \n",
            "1                 0    LN_2      1044620           12  ...      1.180032e+06   \n",
            "2                 1    LN_3      1923410           72  ...      2.622540e+06   \n",
            "3                 2    LN_4      1811663           36  ...      1.145493e+06   \n",
            "4                 1    LN_5        88578           48  ...      0.000000e+00   \n",
            "..              ...     ...          ...          ...  ...               ...   \n",
            "495               1  LN_496       740796           72  ...      0.000000e+00   \n",
            "496               3  LN_497      1408126           60  ...      0.000000e+00   \n",
            "497               2  LN_498       375203           48  ...      0.000000e+00   \n",
            "498               2  LN_499      1769890           24  ...      1.272774e+06   \n",
            "499               1  LN_500       394866           12  ...      0.000000e+00   \n",
            "\n",
            "    Outstanding_Loan_Amount  Monthly_EMI  Payment_History  \\\n",
            "0              2.914130e+05      4856.88          On-Time   \n",
            "1              6.652042e+05     55433.68          On-Time   \n",
            "2              1.031372e+06     14324.61          Delayed   \n",
            "3              2.249739e+05      6249.28          On-Time   \n",
            "4              3.918989e+04       816.46          On-Time   \n",
            "..                      ...          ...              ...   \n",
            "495            4.135285e+05      5743.45          Delayed   \n",
            "496            3.173740e+05      5289.57          Delayed   \n",
            "497            3.300302e+05      6875.63          Delayed   \n",
            "498            1.565339e+06     65222.46          On-Time   \n",
            "499            1.881581e+05     15679.84          On-Time   \n",
            "\n",
            "     Num_Missed_Payments Days_Past_Due      Recovery_Status  \\\n",
            "0                      0             0  Partially Recovered   \n",
            "1                      0             0      Fully Recovered   \n",
            "2                      2           124      Fully Recovered   \n",
            "3                      1            56      Fully Recovered   \n",
            "4                      1            69      Fully Recovered   \n",
            "..                   ...           ...                  ...   \n",
            "495                    2           169      Fully Recovered   \n",
            "496                    2           102  Partially Recovered   \n",
            "497                    3           140      Fully Recovered   \n",
            "498                    3             9  Partially Recovered   \n",
            "499                    1           116          Written Off   \n",
            "\n",
            "     Collection_Attempts Collection_Method  Legal_Action_Taken  \n",
            "0                      1  Settlement Offer                  No  \n",
            "1                      2  Settlement Offer                  No  \n",
            "2                      2      Legal Notice                  No  \n",
            "3                      2             Calls                  No  \n",
            "4                      0   Debt Collectors                  No  \n",
            "..                   ...               ...                 ...  \n",
            "495                    2  Settlement Offer                  No  \n",
            "496                    9  Settlement Offer                  No  \n",
            "497                    3  Settlement Offer                  No  \n",
            "498                    9             Calls                  No  \n",
            "499                    6  Settlement Offer                 Yes  \n",
            "\n",
            "[500 rows x 22 columns]\n"
          ]
        }
      ],
      "source": [
        "#setting the info and warning alert\n",
        "info = logging.basicConfig(level=logging.INFO)\n",
        "warning = logging.basicConfig(level=logging.WARNING)\n",
        "try:\n",
        "  spark_csv = spark.read.csv(file_path , header = True , inferSchema = True)\n",
        "  print(spark_csv)\n",
        "  spark_csv.show()\n",
        "except Exception as e:\n",
        "  print(e)\n",
        "\n",
        "#storing the spark frame into dataframe\n",
        "try:\n",
        "  loan_df = spark_csv.toPandas()\n",
        "  print(loan_df)\n",
        "except Exception as e:\n",
        "  print(e)"
      ]
    },
    {
      "cell_type": "code",
      "execution_count": null,
      "metadata": {
        "colab": {
          "base_uri": "https://localhost:8080/"
        },
        "id": "uR6EpBYf_w4j",
        "outputId": "3cfdcda7-71b1-406d-f2b1-37421398d33d"
      },
      "outputs": [
        {
          "output_type": "stream",
          "name": "stdout",
          "text": [
            " loan dataset has 500 rows and 22 columns\n",
            " loan dataset has ['_c0', 'Borrower_ID', 'Age', 'Gender', 'Employment_Type', 'Monthly_Income', 'Num_Dependents', 'Loan_ID', 'Loan_Amount', 'Loan_Tenure', 'Interest_Rate', 'Loan_Type', 'Collateral_Value', 'Outstanding_Loan_Amount', 'Monthly_EMI', 'Payment_History', 'Num_Missed_Payments', 'Days_Past_Due', 'Recovery_Status', 'Collection_Attempts', 'Collection_Method', 'Legal_Action_Taken']\n",
            " loan dataset memory usage is 70132\n",
            " loan dataset top 5 rows are    _c0 Borrower_ID  Age  Gender Employment_Type  Monthly_Income  \\\n",
            "0    0       BRW_1   59    Male        Salaried          215422   \n",
            "1    1       BRW_2   49  Female        Salaried           60893   \n",
            "2    2       BRW_3   35    Male        Salaried          116520   \n",
            "3    3       BRW_4   63  Female        Salaried          140818   \n",
            "4    4       BRW_5   28    Male        Salaried           76272   \n",
            "\n",
            "   Num_Dependents Loan_ID  Loan_Amount  Loan_Tenure  ...  Collateral_Value  \\\n",
            "0               0    LN_1      1445796           60  ...      1.727997e+06   \n",
            "1               0    LN_2      1044620           12  ...      1.180032e+06   \n",
            "2               1    LN_3      1923410           72  ...      2.622540e+06   \n",
            "3               2    LN_4      1811663           36  ...      1.145493e+06   \n",
            "4               1    LN_5        88578           48  ...      0.000000e+00   \n",
            "\n",
            "  Outstanding_Loan_Amount  Monthly_EMI  Payment_History  Num_Missed_Payments  \\\n",
            "0            2.914130e+05      4856.88          On-Time                    0   \n",
            "1            6.652042e+05     55433.68          On-Time                    0   \n",
            "2            1.031372e+06     14324.61          Delayed                    2   \n",
            "3            2.249739e+05      6249.28          On-Time                    1   \n",
            "4            3.918989e+04       816.46          On-Time                    1   \n",
            "\n",
            "  Days_Past_Due      Recovery_Status  Collection_Attempts Collection_Method  \\\n",
            "0             0  Partially Recovered                    1  Settlement Offer   \n",
            "1             0      Fully Recovered                    2  Settlement Offer   \n",
            "2           124      Fully Recovered                    2      Legal Notice   \n",
            "3            56      Fully Recovered                    2             Calls   \n",
            "4            69      Fully Recovered                    0   Debt Collectors   \n",
            "\n",
            "   Legal_Action_Taken  \n",
            "0                  No  \n",
            "1                  No  \n",
            "2                  No  \n",
            "3                  No  \n",
            "4                  No  \n",
            "\n",
            "[5 rows x 22 columns]\n",
            " loan dataset last 5 rows are      _c0 Borrower_ID  Age  Gender Employment_Type  Monthly_Income  \\\n",
            "495  495     BRW_496   46  Female        Salaried          248483   \n",
            "496  496     BRW_497   30  Female        Salaried          243590   \n",
            "497  497     BRW_498   46  Female        Salaried          113864   \n",
            "498  498     BRW_499   54    Male        Salaried          158401   \n",
            "499  499     BRW_500   61    Male   Self-Employed           40169   \n",
            "\n",
            "     Num_Dependents Loan_ID  Loan_Amount  Loan_Tenure  ...  Collateral_Value  \\\n",
            "495               1  LN_496       740796           72  ...      0.000000e+00   \n",
            "496               3  LN_497      1408126           60  ...      0.000000e+00   \n",
            "497               2  LN_498       375203           48  ...      0.000000e+00   \n",
            "498               2  LN_499      1769890           24  ...      1.272774e+06   \n",
            "499               1  LN_500       394866           12  ...      0.000000e+00   \n",
            "\n",
            "    Outstanding_Loan_Amount  Monthly_EMI  Payment_History  \\\n",
            "495            4.135285e+05      5743.45          Delayed   \n",
            "496            3.173740e+05      5289.57          Delayed   \n",
            "497            3.300302e+05      6875.63          Delayed   \n",
            "498            1.565339e+06     65222.46          On-Time   \n",
            "499            1.881581e+05     15679.84          On-Time   \n",
            "\n",
            "     Num_Missed_Payments Days_Past_Due      Recovery_Status  \\\n",
            "495                    2           169      Fully Recovered   \n",
            "496                    2           102  Partially Recovered   \n",
            "497                    3           140      Fully Recovered   \n",
            "498                    3             9  Partially Recovered   \n",
            "499                    1           116          Written Off   \n",
            "\n",
            "     Collection_Attempts Collection_Method  Legal_Action_Taken  \n",
            "495                    2  Settlement Offer                  No  \n",
            "496                    9  Settlement Offer                  No  \n",
            "497                    3  Settlement Offer                  No  \n",
            "498                    9             Calls                  No  \n",
            "499                    6  Settlement Offer                 Yes  \n",
            "\n",
            "[5 rows x 22 columns]\n"
          ]
        }
      ],
      "source": [
        "print(f\" loan dataset has {loan_df.shape[0]} rows and {loan_df.shape[1]} columns\")\n",
        "print(f\" loan dataset has {loan_df.columns.tolist()}\")\n",
        "print(f\" loan dataset memory usage is {loan_df.memory_usage().sum()}\")\n",
        "print(f\" loan dataset top 5 rows are {loan_df.head(5)}\")\n",
        "print(f\" loan dataset last 5 rows are {loan_df.tail(5)}\")"
      ]
    },
    {
      "cell_type": "markdown",
      "metadata": {
        "id": "rfSuRzD7_kM3"
      },
      "source": [
        "# Data Cleaning"
      ]
    },
    {
      "cell_type": "markdown",
      "metadata": {
        "id": "ev4Y94Q7_r9K"
      },
      "source": [
        "1).Identifying the null values and duplicate values"
      ]
    },
    {
      "cell_type": "code",
      "execution_count": null,
      "metadata": {
        "colab": {
          "base_uri": "https://localhost:8080/"
        },
        "id": "c3ZQrtBs_q1J",
        "outputId": "15e04e8e-ddfe-4745-d307-943df33d19fe"
      },
      "outputs": [
        {
          "output_type": "stream",
          "name": "stdout",
          "text": [
            " percentage of null values is 0.0 %\n"
          ]
        }
      ],
      "source": [
        "#identify the null values in all columns\n",
        "def identify_null_columns(loan_df):\n",
        "  null_values = loan_df.isnull().sum()\n",
        "  return null_values\n",
        "\n",
        "null_values = identify_null_columns(loan_df)\n",
        "percentage = (null_values.sum()/len(loan_df))*100\n",
        "print(f\" percentage of null values is {percentage} %\")"
      ]
    },
    {
      "cell_type": "markdown",
      "metadata": {
        "id": "WlsmrvWAAn8m"
      },
      "source": [
        "2). identifying the duplicate values that may be generated"
      ]
    },
    {
      "cell_type": "code",
      "execution_count": null,
      "metadata": {
        "colab": {
          "base_uri": "https://localhost:8080/"
        },
        "id": "ax0a1B_dAVlM",
        "outputId": "09099241-3c13-40e4-aa1c-6621e2352386"
      },
      "outputs": [
        {
          "output_type": "stream",
          "name": "stdout",
          "text": [
            " percentage of duplicate values is 0.0 %\n"
          ]
        }
      ],
      "source": [
        "#identify the columns which consist of duplicate values\n",
        "def identify_duplicate_columns(loan_df):\n",
        "  dupliacte_values = loan_df.duplicated().sum()\n",
        "  return dupliacte_values\n",
        "\n",
        "duplicate_values = identify_duplicate_columns(loan_df)\n",
        "percentage_duplicate = (duplicate_values/len(loan_df))*100\n",
        "print(f\" percentage of duplicate values is {percentage_duplicate} %\")"
      ]
    },
    {
      "cell_type": "markdown",
      "metadata": {
        "id": "7ibZxoriBD13"
      },
      "source": [
        "3). arranging the columns with appropiate datatype"
      ]
    },
    {
      "cell_type": "code",
      "execution_count": null,
      "metadata": {
        "colab": {
          "base_uri": "https://localhost:8080/"
        },
        "id": "kOC_usk4A-Ag",
        "outputId": "67179f09-1a9f-44f3-a0d7-d74f19731434"
      },
      "outputs": [
        {
          "output_type": "stream",
          "name": "stdout",
          "text": [
            " integer columns are []\n",
            " float columns are ['Interest_Rate', 'Collateral_Value', 'Outstanding_Loan_Amount', 'Monthly_EMI']\n",
            " categorical columns are ['_c0', 'Borrower_ID', 'Age', 'Gender', 'Employment_Type', 'Monthly_Income', 'Num_Dependents', 'Loan_ID', 'Loan_Amount', 'Loan_Tenure', 'Loan_Type', 'Payment_History', 'Num_Missed_Payments', 'Days_Past_Due', 'Recovery_Status', 'Collection_Attempts', 'Collection_Method', 'Legal_Action_Taken']\n"
          ]
        }
      ],
      "source": [
        "#creating an list of all three datatype\n",
        "int_columns = []\n",
        "float_columns = []\n",
        "categorical_columns = []\n",
        "\n",
        "for columns in loan_df.columns:\n",
        "  if loan_df[columns].dtype == 'int64':\n",
        "    int_columns.append(columns)\n",
        "  elif loan_df[columns].dtype == 'float64':\n",
        "    float_columns.append(columns)\n",
        "  else:\n",
        "    categorical_columns.append(columns)\n",
        "\n",
        "print(f\" integer columns are {int_columns}\")\n",
        "print(f\" float columns are {float_columns}\")\n",
        "print(f\" categorical columns are {categorical_columns}\")"
      ]
    },
    {
      "cell_type": "markdown",
      "metadata": {
        "id": "g2LIuxSRBrHL"
      },
      "source": [
        "from Above observation we Conclude that\n",
        "1. Age column must be type of integer data type but assigned with categorical datatype\n",
        "2. Monthly income must be type of integer data type\n",
        "3. num of dependents should be of integer\n",
        "4. Loan ID and Loan tenure , Num _missed payments"
      ]
    },
    {
      "cell_type": "code",
      "execution_count": null,
      "metadata": {
        "id": "RUiWlrMHBkR6"
      },
      "outputs": [],
      "source": [
        "#changing the data type for columns for data consistancy\n",
        "loan_df['Age'] = loan_df['Age'].astype('int64')\n",
        "loan_df['Outstanding_loan_amount'] = loan_df['Outstanding_Loan_Amount'].astype('int64')\n",
        "loan_df['Num_Dependents'] = loan_df['Num_Dependents'].astype('int64')\n",
        "loan_df['Monthly_EMI'] = loan_df['Monthly_EMI'].astype('int64')\n",
        "loan_df['Loan_Tenure'] - loan_df['Loan_Tenure'].astype('int64')\n",
        "loan_df['Num_Missed_Payments'] = loan_df['Num_Missed_Payments'].astype('int64')\n",
        "loan_df['Collateral_Value'] = loan_df['Collateral_Value'].astype('int64')\n",
        "loan_df['Monthly_Income'] = loan_df['Monthly_Income'].astype('int64')"
      ]
    },
    {
      "cell_type": "markdown",
      "metadata": {
        "id": "qxU5v3vqrZbN"
      },
      "source": [
        "descriptive summary of columns"
      ]
    },
    {
      "cell_type": "code",
      "execution_count": null,
      "metadata": {
        "colab": {
          "base_uri": "https://localhost:8080/"
        },
        "id": "Xuz4LQ92rSB-",
        "outputId": "44b78e11-528f-4e80-b304-21b53444491a"
      },
      "outputs": [
        {
          "output_type": "stream",
          "name": "stdout",
          "text": [
            " descriptive summary of columns are               _c0         Age  Monthly_Income  Num_Dependents   Loan_Amount  \\\n",
            "count  500.000000  500.000000      500.000000      500.000000  5.000000e+02   \n",
            "mean   249.500000   43.116000   134829.920000        1.476000  1.024907e+06   \n",
            "std    144.481833   12.733217    68969.356746        1.145447  5.907556e+05   \n",
            "min      0.000000   21.000000    15207.000000        0.000000  5.413800e+04   \n",
            "25%    124.750000   32.000000    76343.250000        0.000000  4.629848e+05   \n",
            "50%    249.500000   44.000000   134929.500000        1.000000  9.971240e+05   \n",
            "75%    374.250000   53.000000   193086.250000        3.000000  1.557952e+06   \n",
            "max    499.000000   64.000000   249746.000000        3.000000  1.995325e+06   \n",
            "\n",
            "       Loan_Tenure  Interest_Rate  Collateral_Value  Outstanding_Loan_Amount  \\\n",
            "count    500.00000     500.000000      5.000000e+02             5.000000e+02   \n",
            "mean      46.10400      11.192820      6.032237e+05             5.627260e+05   \n",
            "std       18.23706       3.775209      7.457129e+05             4.723581e+05   \n",
            "min       12.00000       5.020000      0.000000e+00             1.571283e+04   \n",
            "25%       36.00000       7.907500      0.000000e+00             1.822072e+05   \n",
            "50%       48.00000      10.915000      2.327680e+05             4.133240e+05   \n",
            "75%       60.00000      14.577500      1.111105e+06             8.324787e+05   \n",
            "max       72.00000      17.970000      2.744395e+06             1.932396e+06   \n",
            "\n",
            "         Monthly_EMI  Num_Missed_Payments  Days_Past_Due  Collection_Attempts  \\\n",
            "count     500.000000           500.000000     500.000000           500.000000   \n",
            "mean    15861.040000             1.912000      70.678000             3.000000   \n",
            "std     18709.226826             2.110252      60.211038             2.807805   \n",
            "min       261.000000             0.000000       0.000000             0.000000   \n",
            "25%      4038.750000             1.000000       4.000000             1.000000   \n",
            "50%      9330.000000             2.000000      66.500000             2.000000   \n",
            "75%     20439.250000             3.000000     122.250000             4.000000   \n",
            "max    127849.000000            12.000000     180.000000            10.000000   \n",
            "\n",
            "       Outstanding_loan_amount  \n",
            "count             5.000000e+02  \n",
            "mean              5.627255e+05  \n",
            "std               4.723580e+05  \n",
            "min               1.571200e+04  \n",
            "25%               1.822068e+05  \n",
            "50%               4.133235e+05  \n",
            "75%               8.324780e+05  \n",
            "max               1.932395e+06  \n"
          ]
        }
      ],
      "source": [
        "print(f\" descriptive summary of columns are {loan_df.describe()}\")"
      ]
    },
    {
      "cell_type": "markdown",
      "metadata": {
        "id": "_5uv53jN4yhN"
      },
      "source": [
        "How does monthly income correlate with the ability to repay loans?"
      ]
    },
    {
      "cell_type": "code",
      "execution_count": null,
      "metadata": {
        "colab": {
          "base_uri": "https://localhost:8080/",
          "height": 611
        },
        "id": "rw1gFotx3QgG",
        "outputId": "b1fad336-fb33-406c-b330-439028eb133e"
      },
      "outputs": [
        {
          "name": "stdout",
          "output_type": "stream",
          "text": [
            "       Recovery_Status  Monthly_Income\n",
            "0      Fully Recovered   136311.469595\n",
            "1  Partially Recovered   133904.980519\n",
            "2          Written Off   128907.960000\n"
          ]
        },
        {
          "data": {
            "text/html": [
              "<html>\n",
              "<head><meta charset=\"utf-8\" /></head>\n",
              "<body>\n",
              "    <div>            <script src=\"https://cdnjs.cloudflare.com/ajax/libs/mathjax/2.7.5/MathJax.js?config=TeX-AMS-MML_SVG\"></script><script type=\"text/javascript\">if (window.MathJax && window.MathJax.Hub && window.MathJax.Hub.Config) {window.MathJax.Hub.Config({SVG: {font: \"STIX-Web\"}});}</script>                <script type=\"text/javascript\">window.PlotlyConfig = {MathJaxConfig: 'local'};</script>\n",
              "        <script charset=\"utf-8\" src=\"https://cdn.plot.ly/plotly-2.35.2.min.js\"></script>                <div id=\"d4c1d1ea-fd12-4d6c-8023-acef31d3f4fe\" class=\"plotly-graph-div\" style=\"height:525px; width:100%;\"></div>            <script type=\"text/javascript\">                                    window.PLOTLYENV=window.PLOTLYENV || {};                                    if (document.getElementById(\"d4c1d1ea-fd12-4d6c-8023-acef31d3f4fe\")) {                    Plotly.newPlot(                        \"d4c1d1ea-fd12-4d6c-8023-acef31d3f4fe\",                        [{\"alignmentgroup\":\"True\",\"bingroup\":\"x\",\"histfunc\":\"sum\",\"hovertemplate\":\"Recovery_Status=%{x}\\u003cbr\\u003esum of Monthly_Income=%{y}\\u003cextra\\u003e\\u003c\\u002fextra\\u003e\",\"legendgroup\":\"Fully Recovered\",\"marker\":{\"color\":\"#636efa\",\"pattern\":{\"shape\":\"\"}},\"name\":\"Fully Recovered\",\"offsetgroup\":\"Fully Recovered\",\"orientation\":\"v\",\"showlegend\":true,\"x\":[\"Fully Recovered\"],\"xaxis\":\"x\",\"y\":[136311.4695945946],\"yaxis\":\"y\",\"type\":\"histogram\"},{\"alignmentgroup\":\"True\",\"bingroup\":\"x\",\"histfunc\":\"sum\",\"hovertemplate\":\"Recovery_Status=%{x}\\u003cbr\\u003esum of Monthly_Income=%{y}\\u003cextra\\u003e\\u003c\\u002fextra\\u003e\",\"legendgroup\":\"Partially Recovered\",\"marker\":{\"color\":\"#EF553B\",\"pattern\":{\"shape\":\"\"}},\"name\":\"Partially Recovered\",\"offsetgroup\":\"Partially Recovered\",\"orientation\":\"v\",\"showlegend\":true,\"x\":[\"Partially Recovered\"],\"xaxis\":\"x\",\"y\":[133904.9805194805],\"yaxis\":\"y\",\"type\":\"histogram\"},{\"alignmentgroup\":\"True\",\"bingroup\":\"x\",\"histfunc\":\"sum\",\"hovertemplate\":\"Recovery_Status=%{x}\\u003cbr\\u003esum of Monthly_Income=%{y}\\u003cextra\\u003e\\u003c\\u002fextra\\u003e\",\"legendgroup\":\"Written Off\",\"marker\":{\"color\":\"#00cc96\",\"pattern\":{\"shape\":\"\"}},\"name\":\"Written Off\",\"offsetgroup\":\"Written Off\",\"orientation\":\"v\",\"showlegend\":true,\"x\":[\"Written Off\"],\"xaxis\":\"x\",\"y\":[128907.96],\"yaxis\":\"y\",\"type\":\"histogram\"}],                        {\"template\":{\"data\":{\"histogram2dcontour\":[{\"type\":\"histogram2dcontour\",\"colorbar\":{\"outlinewidth\":0,\"ticks\":\"\"},\"colorscale\":[[0.0,\"#0d0887\"],[0.1111111111111111,\"#46039f\"],[0.2222222222222222,\"#7201a8\"],[0.3333333333333333,\"#9c179e\"],[0.4444444444444444,\"#bd3786\"],[0.5555555555555556,\"#d8576b\"],[0.6666666666666666,\"#ed7953\"],[0.7777777777777778,\"#fb9f3a\"],[0.8888888888888888,\"#fdca26\"],[1.0,\"#f0f921\"]]}],\"choropleth\":[{\"type\":\"choropleth\",\"colorbar\":{\"outlinewidth\":0,\"ticks\":\"\"}}],\"histogram2d\":[{\"type\":\"histogram2d\",\"colorbar\":{\"outlinewidth\":0,\"ticks\":\"\"},\"colorscale\":[[0.0,\"#0d0887\"],[0.1111111111111111,\"#46039f\"],[0.2222222222222222,\"#7201a8\"],[0.3333333333333333,\"#9c179e\"],[0.4444444444444444,\"#bd3786\"],[0.5555555555555556,\"#d8576b\"],[0.6666666666666666,\"#ed7953\"],[0.7777777777777778,\"#fb9f3a\"],[0.8888888888888888,\"#fdca26\"],[1.0,\"#f0f921\"]]}],\"heatmap\":[{\"type\":\"heatmap\",\"colorbar\":{\"outlinewidth\":0,\"ticks\":\"\"},\"colorscale\":[[0.0,\"#0d0887\"],[0.1111111111111111,\"#46039f\"],[0.2222222222222222,\"#7201a8\"],[0.3333333333333333,\"#9c179e\"],[0.4444444444444444,\"#bd3786\"],[0.5555555555555556,\"#d8576b\"],[0.6666666666666666,\"#ed7953\"],[0.7777777777777778,\"#fb9f3a\"],[0.8888888888888888,\"#fdca26\"],[1.0,\"#f0f921\"]]}],\"heatmapgl\":[{\"type\":\"heatmapgl\",\"colorbar\":{\"outlinewidth\":0,\"ticks\":\"\"},\"colorscale\":[[0.0,\"#0d0887\"],[0.1111111111111111,\"#46039f\"],[0.2222222222222222,\"#7201a8\"],[0.3333333333333333,\"#9c179e\"],[0.4444444444444444,\"#bd3786\"],[0.5555555555555556,\"#d8576b\"],[0.6666666666666666,\"#ed7953\"],[0.7777777777777778,\"#fb9f3a\"],[0.8888888888888888,\"#fdca26\"],[1.0,\"#f0f921\"]]}],\"contourcarpet\":[{\"type\":\"contourcarpet\",\"colorbar\":{\"outlinewidth\":0,\"ticks\":\"\"}}],\"contour\":[{\"type\":\"contour\",\"colorbar\":{\"outlinewidth\":0,\"ticks\":\"\"},\"colorscale\":[[0.0,\"#0d0887\"],[0.1111111111111111,\"#46039f\"],[0.2222222222222222,\"#7201a8\"],[0.3333333333333333,\"#9c179e\"],[0.4444444444444444,\"#bd3786\"],[0.5555555555555556,\"#d8576b\"],[0.6666666666666666,\"#ed7953\"],[0.7777777777777778,\"#fb9f3a\"],[0.8888888888888888,\"#fdca26\"],[1.0,\"#f0f921\"]]}],\"surface\":[{\"type\":\"surface\",\"colorbar\":{\"outlinewidth\":0,\"ticks\":\"\"},\"colorscale\":[[0.0,\"#0d0887\"],[0.1111111111111111,\"#46039f\"],[0.2222222222222222,\"#7201a8\"],[0.3333333333333333,\"#9c179e\"],[0.4444444444444444,\"#bd3786\"],[0.5555555555555556,\"#d8576b\"],[0.6666666666666666,\"#ed7953\"],[0.7777777777777778,\"#fb9f3a\"],[0.8888888888888888,\"#fdca26\"],[1.0,\"#f0f921\"]]}],\"mesh3d\":[{\"type\":\"mesh3d\",\"colorbar\":{\"outlinewidth\":0,\"ticks\":\"\"}}],\"scatter\":[{\"fillpattern\":{\"fillmode\":\"overlay\",\"size\":10,\"solidity\":0.2},\"type\":\"scatter\"}],\"parcoords\":[{\"type\":\"parcoords\",\"line\":{\"colorbar\":{\"outlinewidth\":0,\"ticks\":\"\"}}}],\"scatterpolargl\":[{\"type\":\"scatterpolargl\",\"marker\":{\"colorbar\":{\"outlinewidth\":0,\"ticks\":\"\"}}}],\"bar\":[{\"error_x\":{\"color\":\"#2a3f5f\"},\"error_y\":{\"color\":\"#2a3f5f\"},\"marker\":{\"line\":{\"color\":\"#E5ECF6\",\"width\":0.5},\"pattern\":{\"fillmode\":\"overlay\",\"size\":10,\"solidity\":0.2}},\"type\":\"bar\"}],\"scattergeo\":[{\"type\":\"scattergeo\",\"marker\":{\"colorbar\":{\"outlinewidth\":0,\"ticks\":\"\"}}}],\"scatterpolar\":[{\"type\":\"scatterpolar\",\"marker\":{\"colorbar\":{\"outlinewidth\":0,\"ticks\":\"\"}}}],\"histogram\":[{\"marker\":{\"pattern\":{\"fillmode\":\"overlay\",\"size\":10,\"solidity\":0.2}},\"type\":\"histogram\"}],\"scattergl\":[{\"type\":\"scattergl\",\"marker\":{\"colorbar\":{\"outlinewidth\":0,\"ticks\":\"\"}}}],\"scatter3d\":[{\"type\":\"scatter3d\",\"line\":{\"colorbar\":{\"outlinewidth\":0,\"ticks\":\"\"}},\"marker\":{\"colorbar\":{\"outlinewidth\":0,\"ticks\":\"\"}}}],\"scattermapbox\":[{\"type\":\"scattermapbox\",\"marker\":{\"colorbar\":{\"outlinewidth\":0,\"ticks\":\"\"}}}],\"scatterternary\":[{\"type\":\"scatterternary\",\"marker\":{\"colorbar\":{\"outlinewidth\":0,\"ticks\":\"\"}}}],\"scattercarpet\":[{\"type\":\"scattercarpet\",\"marker\":{\"colorbar\":{\"outlinewidth\":0,\"ticks\":\"\"}}}],\"carpet\":[{\"aaxis\":{\"endlinecolor\":\"#2a3f5f\",\"gridcolor\":\"white\",\"linecolor\":\"white\",\"minorgridcolor\":\"white\",\"startlinecolor\":\"#2a3f5f\"},\"baxis\":{\"endlinecolor\":\"#2a3f5f\",\"gridcolor\":\"white\",\"linecolor\":\"white\",\"minorgridcolor\":\"white\",\"startlinecolor\":\"#2a3f5f\"},\"type\":\"carpet\"}],\"table\":[{\"cells\":{\"fill\":{\"color\":\"#EBF0F8\"},\"line\":{\"color\":\"white\"}},\"header\":{\"fill\":{\"color\":\"#C8D4E3\"},\"line\":{\"color\":\"white\"}},\"type\":\"table\"}],\"barpolar\":[{\"marker\":{\"line\":{\"color\":\"#E5ECF6\",\"width\":0.5},\"pattern\":{\"fillmode\":\"overlay\",\"size\":10,\"solidity\":0.2}},\"type\":\"barpolar\"}],\"pie\":[{\"automargin\":true,\"type\":\"pie\"}]},\"layout\":{\"autotypenumbers\":\"strict\",\"colorway\":[\"#636efa\",\"#EF553B\",\"#00cc96\",\"#ab63fa\",\"#FFA15A\",\"#19d3f3\",\"#FF6692\",\"#B6E880\",\"#FF97FF\",\"#FECB52\"],\"font\":{\"color\":\"#2a3f5f\"},\"hovermode\":\"closest\",\"hoverlabel\":{\"align\":\"left\"},\"paper_bgcolor\":\"white\",\"plot_bgcolor\":\"#E5ECF6\",\"polar\":{\"bgcolor\":\"#E5ECF6\",\"angularaxis\":{\"gridcolor\":\"white\",\"linecolor\":\"white\",\"ticks\":\"\"},\"radialaxis\":{\"gridcolor\":\"white\",\"linecolor\":\"white\",\"ticks\":\"\"}},\"ternary\":{\"bgcolor\":\"#E5ECF6\",\"aaxis\":{\"gridcolor\":\"white\",\"linecolor\":\"white\",\"ticks\":\"\"},\"baxis\":{\"gridcolor\":\"white\",\"linecolor\":\"white\",\"ticks\":\"\"},\"caxis\":{\"gridcolor\":\"white\",\"linecolor\":\"white\",\"ticks\":\"\"}},\"coloraxis\":{\"colorbar\":{\"outlinewidth\":0,\"ticks\":\"\"}},\"colorscale\":{\"sequential\":[[0.0,\"#0d0887\"],[0.1111111111111111,\"#46039f\"],[0.2222222222222222,\"#7201a8\"],[0.3333333333333333,\"#9c179e\"],[0.4444444444444444,\"#bd3786\"],[0.5555555555555556,\"#d8576b\"],[0.6666666666666666,\"#ed7953\"],[0.7777777777777778,\"#fb9f3a\"],[0.8888888888888888,\"#fdca26\"],[1.0,\"#f0f921\"]],\"sequentialminus\":[[0.0,\"#0d0887\"],[0.1111111111111111,\"#46039f\"],[0.2222222222222222,\"#7201a8\"],[0.3333333333333333,\"#9c179e\"],[0.4444444444444444,\"#bd3786\"],[0.5555555555555556,\"#d8576b\"],[0.6666666666666666,\"#ed7953\"],[0.7777777777777778,\"#fb9f3a\"],[0.8888888888888888,\"#fdca26\"],[1.0,\"#f0f921\"]],\"diverging\":[[0,\"#8e0152\"],[0.1,\"#c51b7d\"],[0.2,\"#de77ae\"],[0.3,\"#f1b6da\"],[0.4,\"#fde0ef\"],[0.5,\"#f7f7f7\"],[0.6,\"#e6f5d0\"],[0.7,\"#b8e186\"],[0.8,\"#7fbc41\"],[0.9,\"#4d9221\"],[1,\"#276419\"]]},\"xaxis\":{\"gridcolor\":\"white\",\"linecolor\":\"white\",\"ticks\":\"\",\"title\":{\"standoff\":15},\"zerolinecolor\":\"white\",\"automargin\":true,\"zerolinewidth\":2},\"yaxis\":{\"gridcolor\":\"white\",\"linecolor\":\"white\",\"ticks\":\"\",\"title\":{\"standoff\":15},\"zerolinecolor\":\"white\",\"automargin\":true,\"zerolinewidth\":2},\"scene\":{\"xaxis\":{\"backgroundcolor\":\"#E5ECF6\",\"gridcolor\":\"white\",\"linecolor\":\"white\",\"showbackground\":true,\"ticks\":\"\",\"zerolinecolor\":\"white\",\"gridwidth\":2},\"yaxis\":{\"backgroundcolor\":\"#E5ECF6\",\"gridcolor\":\"white\",\"linecolor\":\"white\",\"showbackground\":true,\"ticks\":\"\",\"zerolinecolor\":\"white\",\"gridwidth\":2},\"zaxis\":{\"backgroundcolor\":\"#E5ECF6\",\"gridcolor\":\"white\",\"linecolor\":\"white\",\"showbackground\":true,\"ticks\":\"\",\"zerolinecolor\":\"white\",\"gridwidth\":2}},\"shapedefaults\":{\"line\":{\"color\":\"#2a3f5f\"}},\"annotationdefaults\":{\"arrowcolor\":\"#2a3f5f\",\"arrowhead\":0,\"arrowwidth\":1},\"geo\":{\"bgcolor\":\"white\",\"landcolor\":\"#E5ECF6\",\"subunitcolor\":\"white\",\"showland\":true,\"showlakes\":true,\"lakecolor\":\"white\"},\"title\":{\"x\":0.05},\"mapbox\":{\"style\":\"light\"}}},\"xaxis\":{\"anchor\":\"y\",\"domain\":[0.0,1.0],\"title\":{\"text\":\"Recovery Status\"},\"categoryorder\":\"array\",\"categoryarray\":[\"Fully Recovered\",\"Partially Recovered\",\"Written Off\"]},\"yaxis\":{\"anchor\":\"x\",\"domain\":[0.0,1.0],\"title\":{\"text\":\"Monthly Income\"}},\"legend\":{\"title\":{\"text\":\"Recovery_Status\"},\"tracegroupgap\":0},\"margin\":{\"t\":60},\"barmode\":\"relative\",\"title\":{\"text\":\"Monthly Income Relationship with Recovery Status\"},\"showlegend\":true,\"bargap\":0.5},                        {\"responsive\": true}                    ).then(function(){\n",
              "                            \n",
              "var gd = document.getElementById('d4c1d1ea-fd12-4d6c-8023-acef31d3f4fe');\n",
              "var x = new MutationObserver(function (mutations, observer) {{\n",
              "        var display = window.getComputedStyle(gd).display;\n",
              "        if (!display || display === 'none') {{\n",
              "            console.log([gd, 'removed!']);\n",
              "            Plotly.purge(gd);\n",
              "            observer.disconnect();\n",
              "        }}\n",
              "}});\n",
              "\n",
              "// Listen for the removal of the full notebook cells\n",
              "var notebookContainer = gd.closest('#notebook-container');\n",
              "if (notebookContainer) {{\n",
              "    x.observe(notebookContainer, {childList: true});\n",
              "}}\n",
              "\n",
              "// Listen for the clearing of the current output cell\n",
              "var outputEl = gd.closest('.output');\n",
              "if (outputEl) {{\n",
              "    x.observe(outputEl, {childList: true});\n",
              "}}\n",
              "\n",
              "                        })                };                            </script>        </div>\n",
              "</body>\n",
              "</html>"
            ]
          },
          "metadata": {},
          "output_type": "display_data"
        }
      ],
      "source": [
        "#calculating the monthly income relationhip of recovery status\n",
        "monthly_income_relations_with_recovery = loan_df.groupby('Recovery_Status')['Monthly_Income'].mean().reset_index()\n",
        "print(monthly_income_relations_with_recovery)\n",
        "\n",
        "fig = px.histogram(\n",
        "    monthly_income_relations_with_recovery,x=\"Recovery_Status\",y=\"Monthly_Income\",\n",
        "    color=\"Recovery_Status\",\n",
        ")\n",
        "\n",
        "fig.update_layout(\n",
        "    title=\"Monthly Income Relationship with Recovery Status\",\n",
        "    xaxis_title=\"Recovery Status\",\n",
        "    yaxis_title=\"Monthly Income\",\n",
        "    showlegend=True,\n",
        "    bargap=0.5,\n",
        ")\n",
        "\n",
        "fig.show()"
      ]
    },
    {
      "cell_type": "markdown",
      "metadata": {
        "id": "GhnWXjUW6f6I"
      },
      "source": [
        "identifying the relationship of repayment of laon on based on number of number of missed payments"
      ]
    },
    {
      "cell_type": "code",
      "execution_count": null,
      "metadata": {
        "colab": {
          "base_uri": "https://localhost:8080/",
          "height": 1000
        },
        "id": "vCYRs8by6yQr",
        "outputId": "6092c727-3e54-4c32-f6a0-b2bf5063c04f"
      },
      "outputs": [
        {
          "name": "stdout",
          "output_type": "stream",
          "text": [
            "    Num_Missed_Payments      Recovery_Status  Outstanding_loan_amount\n",
            "0                     0      Fully Recovered             5.731192e+05\n",
            "22                   11      Fully Recovered             2.469945e+05\n",
            "3                     1      Fully Recovered             5.301553e+05\n",
            "20                   10      Fully Recovered             1.083873e+06\n",
            "6                     2      Fully Recovered             5.366263e+05\n",
            "18                    9      Fully Recovered             3.260035e+05\n",
            "9                     3      Fully Recovered             7.118854e+05\n",
            "16                    8      Fully Recovered             9.153450e+04\n",
            "12                    4      Fully Recovered             7.538330e+05\n",
            "25                   12      Fully Recovered             5.532888e+05\n",
            "14                    6      Fully Recovered             5.523653e+05\n",
            "15                    7      Fully Recovered             4.702410e+05\n",
            "23                   11  Partially Recovered             1.290896e+06\n",
            "21                   10  Partially Recovered             2.899260e+05\n",
            "19                    9  Partially Recovered             3.868530e+05\n",
            "17                    8  Partially Recovered             1.244410e+06\n",
            "13                    4  Partially Recovered             8.142820e+05\n",
            "10                    3  Partially Recovered             5.378632e+05\n",
            "7                     2  Partially Recovered             5.809038e+05\n",
            "4                     1  Partially Recovered             4.862220e+05\n",
            "1                     0  Partially Recovered             5.416545e+05\n",
            "26                   12  Partially Recovered             8.380640e+05\n",
            "8                     2          Written Off             3.919921e+05\n",
            "5                     1          Written Off             4.769921e+05\n",
            "2                     0          Written Off             4.964529e+05\n",
            "24                   11          Written Off             2.140120e+05\n",
            "11                    3          Written Off             4.543725e+05\n"
          ]
        },
        {
          "data": {
            "text/html": [
              "<html>\n",
              "<head><meta charset=\"utf-8\" /></head>\n",
              "<body>\n",
              "    <div>            <script src=\"https://cdnjs.cloudflare.com/ajax/libs/mathjax/2.7.5/MathJax.js?config=TeX-AMS-MML_SVG\"></script><script type=\"text/javascript\">if (window.MathJax && window.MathJax.Hub && window.MathJax.Hub.Config) {window.MathJax.Hub.Config({SVG: {font: \"STIX-Web\"}});}</script>                <script type=\"text/javascript\">window.PlotlyConfig = {MathJaxConfig: 'local'};</script>\n",
              "        <script charset=\"utf-8\" src=\"https://cdn.plot.ly/plotly-2.35.2.min.js\"></script>                <div id=\"03bcb48c-d4e2-41a7-b5c3-09026b0d849c\" class=\"plotly-graph-div\" style=\"height:525px; width:100%;\"></div>            <script type=\"text/javascript\">                                    window.PLOTLYENV=window.PLOTLYENV || {};                                    if (document.getElementById(\"03bcb48c-d4e2-41a7-b5c3-09026b0d849c\")) {                    Plotly.newPlot(                        \"03bcb48c-d4e2-41a7-b5c3-09026b0d849c\",                        [{\"alignmentgroup\":\"True\",\"hovertemplate\":\"Recovery_Status=Fully Recovered\\u003cbr\\u003eNum_Missed_Payments=%{x}\\u003cbr\\u003eOutstanding_loan_amount=%{y}\\u003cextra\\u003e\\u003c\\u002fextra\\u003e\",\"legendgroup\":\"Fully Recovered\",\"marker\":{\"color\":\"#636efa\",\"pattern\":{\"shape\":\"\"}},\"name\":\"Fully Recovered\",\"offsetgroup\":\"Fully Recovered\",\"orientation\":\"v\",\"showlegend\":true,\"textposition\":\"auto\",\"x\":[0,11,1,10,2,9,3,8,4,12,6,7],\"xaxis\":\"x\",\"y\":[573119.1791044776,246994.5,530155.323943662,1083872.6666666667,536626.2878787878,326003.5,711885.3529411765,91534.5,753833.0,553288.75,552365.3333333334,470241.0],\"yaxis\":\"y\",\"type\":\"bar\"},{\"alignmentgroup\":\"True\",\"hovertemplate\":\"Recovery_Status=Partially Recovered\\u003cbr\\u003eNum_Missed_Payments=%{x}\\u003cbr\\u003eOutstanding_loan_amount=%{y}\\u003cextra\\u003e\\u003c\\u002fextra\\u003e\",\"legendgroup\":\"Partially Recovered\",\"marker\":{\"color\":\"#EF553B\",\"pattern\":{\"shape\":\"\"}},\"name\":\"Partially Recovered\",\"offsetgroup\":\"Partially Recovered\",\"orientation\":\"v\",\"showlegend\":true,\"textposition\":\"auto\",\"x\":[11,10,9,8,4,3,2,1,0,12],\"xaxis\":\"x\",\"y\":[1290896.0,289926.0,386853.0,1244410.0,814282.0,537863.1515151515,580903.7837837838,486221.97142857144,541654.4523809524,838064.0],\"yaxis\":\"y\",\"type\":\"bar\"},{\"alignmentgroup\":\"True\",\"hovertemplate\":\"Recovery_Status=Written Off\\u003cbr\\u003eNum_Missed_Payments=%{x}\\u003cbr\\u003eOutstanding_loan_amount=%{y}\\u003cextra\\u003e\\u003c\\u002fextra\\u003e\",\"legendgroup\":\"Written Off\",\"marker\":{\"color\":\"#00cc96\",\"pattern\":{\"shape\":\"\"}},\"name\":\"Written Off\",\"offsetgroup\":\"Written Off\",\"orientation\":\"v\",\"showlegend\":true,\"textposition\":\"auto\",\"x\":[2,1,0,11,3],\"xaxis\":\"x\",\"y\":[391992.125,476992.1176470588,496452.9,214012.0,454372.5],\"yaxis\":\"y\",\"type\":\"bar\"}],                        {\"template\":{\"data\":{\"histogram2dcontour\":[{\"type\":\"histogram2dcontour\",\"colorbar\":{\"outlinewidth\":0,\"ticks\":\"\"},\"colorscale\":[[0.0,\"#0d0887\"],[0.1111111111111111,\"#46039f\"],[0.2222222222222222,\"#7201a8\"],[0.3333333333333333,\"#9c179e\"],[0.4444444444444444,\"#bd3786\"],[0.5555555555555556,\"#d8576b\"],[0.6666666666666666,\"#ed7953\"],[0.7777777777777778,\"#fb9f3a\"],[0.8888888888888888,\"#fdca26\"],[1.0,\"#f0f921\"]]}],\"choropleth\":[{\"type\":\"choropleth\",\"colorbar\":{\"outlinewidth\":0,\"ticks\":\"\"}}],\"histogram2d\":[{\"type\":\"histogram2d\",\"colorbar\":{\"outlinewidth\":0,\"ticks\":\"\"},\"colorscale\":[[0.0,\"#0d0887\"],[0.1111111111111111,\"#46039f\"],[0.2222222222222222,\"#7201a8\"],[0.3333333333333333,\"#9c179e\"],[0.4444444444444444,\"#bd3786\"],[0.5555555555555556,\"#d8576b\"],[0.6666666666666666,\"#ed7953\"],[0.7777777777777778,\"#fb9f3a\"],[0.8888888888888888,\"#fdca26\"],[1.0,\"#f0f921\"]]}],\"heatmap\":[{\"type\":\"heatmap\",\"colorbar\":{\"outlinewidth\":0,\"ticks\":\"\"},\"colorscale\":[[0.0,\"#0d0887\"],[0.1111111111111111,\"#46039f\"],[0.2222222222222222,\"#7201a8\"],[0.3333333333333333,\"#9c179e\"],[0.4444444444444444,\"#bd3786\"],[0.5555555555555556,\"#d8576b\"],[0.6666666666666666,\"#ed7953\"],[0.7777777777777778,\"#fb9f3a\"],[0.8888888888888888,\"#fdca26\"],[1.0,\"#f0f921\"]]}],\"heatmapgl\":[{\"type\":\"heatmapgl\",\"colorbar\":{\"outlinewidth\":0,\"ticks\":\"\"},\"colorscale\":[[0.0,\"#0d0887\"],[0.1111111111111111,\"#46039f\"],[0.2222222222222222,\"#7201a8\"],[0.3333333333333333,\"#9c179e\"],[0.4444444444444444,\"#bd3786\"],[0.5555555555555556,\"#d8576b\"],[0.6666666666666666,\"#ed7953\"],[0.7777777777777778,\"#fb9f3a\"],[0.8888888888888888,\"#fdca26\"],[1.0,\"#f0f921\"]]}],\"contourcarpet\":[{\"type\":\"contourcarpet\",\"colorbar\":{\"outlinewidth\":0,\"ticks\":\"\"}}],\"contour\":[{\"type\":\"contour\",\"colorbar\":{\"outlinewidth\":0,\"ticks\":\"\"},\"colorscale\":[[0.0,\"#0d0887\"],[0.1111111111111111,\"#46039f\"],[0.2222222222222222,\"#7201a8\"],[0.3333333333333333,\"#9c179e\"],[0.4444444444444444,\"#bd3786\"],[0.5555555555555556,\"#d8576b\"],[0.6666666666666666,\"#ed7953\"],[0.7777777777777778,\"#fb9f3a\"],[0.8888888888888888,\"#fdca26\"],[1.0,\"#f0f921\"]]}],\"surface\":[{\"type\":\"surface\",\"colorbar\":{\"outlinewidth\":0,\"ticks\":\"\"},\"colorscale\":[[0.0,\"#0d0887\"],[0.1111111111111111,\"#46039f\"],[0.2222222222222222,\"#7201a8\"],[0.3333333333333333,\"#9c179e\"],[0.4444444444444444,\"#bd3786\"],[0.5555555555555556,\"#d8576b\"],[0.6666666666666666,\"#ed7953\"],[0.7777777777777778,\"#fb9f3a\"],[0.8888888888888888,\"#fdca26\"],[1.0,\"#f0f921\"]]}],\"mesh3d\":[{\"type\":\"mesh3d\",\"colorbar\":{\"outlinewidth\":0,\"ticks\":\"\"}}],\"scatter\":[{\"fillpattern\":{\"fillmode\":\"overlay\",\"size\":10,\"solidity\":0.2},\"type\":\"scatter\"}],\"parcoords\":[{\"type\":\"parcoords\",\"line\":{\"colorbar\":{\"outlinewidth\":0,\"ticks\":\"\"}}}],\"scatterpolargl\":[{\"type\":\"scatterpolargl\",\"marker\":{\"colorbar\":{\"outlinewidth\":0,\"ticks\":\"\"}}}],\"bar\":[{\"error_x\":{\"color\":\"#2a3f5f\"},\"error_y\":{\"color\":\"#2a3f5f\"},\"marker\":{\"line\":{\"color\":\"#E5ECF6\",\"width\":0.5},\"pattern\":{\"fillmode\":\"overlay\",\"size\":10,\"solidity\":0.2}},\"type\":\"bar\"}],\"scattergeo\":[{\"type\":\"scattergeo\",\"marker\":{\"colorbar\":{\"outlinewidth\":0,\"ticks\":\"\"}}}],\"scatterpolar\":[{\"type\":\"scatterpolar\",\"marker\":{\"colorbar\":{\"outlinewidth\":0,\"ticks\":\"\"}}}],\"histogram\":[{\"marker\":{\"pattern\":{\"fillmode\":\"overlay\",\"size\":10,\"solidity\":0.2}},\"type\":\"histogram\"}],\"scattergl\":[{\"type\":\"scattergl\",\"marker\":{\"colorbar\":{\"outlinewidth\":0,\"ticks\":\"\"}}}],\"scatter3d\":[{\"type\":\"scatter3d\",\"line\":{\"colorbar\":{\"outlinewidth\":0,\"ticks\":\"\"}},\"marker\":{\"colorbar\":{\"outlinewidth\":0,\"ticks\":\"\"}}}],\"scattermapbox\":[{\"type\":\"scattermapbox\",\"marker\":{\"colorbar\":{\"outlinewidth\":0,\"ticks\":\"\"}}}],\"scatterternary\":[{\"type\":\"scatterternary\",\"marker\":{\"colorbar\":{\"outlinewidth\":0,\"ticks\":\"\"}}}],\"scattercarpet\":[{\"type\":\"scattercarpet\",\"marker\":{\"colorbar\":{\"outlinewidth\":0,\"ticks\":\"\"}}}],\"carpet\":[{\"aaxis\":{\"endlinecolor\":\"#2a3f5f\",\"gridcolor\":\"white\",\"linecolor\":\"white\",\"minorgridcolor\":\"white\",\"startlinecolor\":\"#2a3f5f\"},\"baxis\":{\"endlinecolor\":\"#2a3f5f\",\"gridcolor\":\"white\",\"linecolor\":\"white\",\"minorgridcolor\":\"white\",\"startlinecolor\":\"#2a3f5f\"},\"type\":\"carpet\"}],\"table\":[{\"cells\":{\"fill\":{\"color\":\"#EBF0F8\"},\"line\":{\"color\":\"white\"}},\"header\":{\"fill\":{\"color\":\"#C8D4E3\"},\"line\":{\"color\":\"white\"}},\"type\":\"table\"}],\"barpolar\":[{\"marker\":{\"line\":{\"color\":\"#E5ECF6\",\"width\":0.5},\"pattern\":{\"fillmode\":\"overlay\",\"size\":10,\"solidity\":0.2}},\"type\":\"barpolar\"}],\"pie\":[{\"automargin\":true,\"type\":\"pie\"}]},\"layout\":{\"autotypenumbers\":\"strict\",\"colorway\":[\"#636efa\",\"#EF553B\",\"#00cc96\",\"#ab63fa\",\"#FFA15A\",\"#19d3f3\",\"#FF6692\",\"#B6E880\",\"#FF97FF\",\"#FECB52\"],\"font\":{\"color\":\"#2a3f5f\"},\"hovermode\":\"closest\",\"hoverlabel\":{\"align\":\"left\"},\"paper_bgcolor\":\"white\",\"plot_bgcolor\":\"#E5ECF6\",\"polar\":{\"bgcolor\":\"#E5ECF6\",\"angularaxis\":{\"gridcolor\":\"white\",\"linecolor\":\"white\",\"ticks\":\"\"},\"radialaxis\":{\"gridcolor\":\"white\",\"linecolor\":\"white\",\"ticks\":\"\"}},\"ternary\":{\"bgcolor\":\"#E5ECF6\",\"aaxis\":{\"gridcolor\":\"white\",\"linecolor\":\"white\",\"ticks\":\"\"},\"baxis\":{\"gridcolor\":\"white\",\"linecolor\":\"white\",\"ticks\":\"\"},\"caxis\":{\"gridcolor\":\"white\",\"linecolor\":\"white\",\"ticks\":\"\"}},\"coloraxis\":{\"colorbar\":{\"outlinewidth\":0,\"ticks\":\"\"}},\"colorscale\":{\"sequential\":[[0.0,\"#0d0887\"],[0.1111111111111111,\"#46039f\"],[0.2222222222222222,\"#7201a8\"],[0.3333333333333333,\"#9c179e\"],[0.4444444444444444,\"#bd3786\"],[0.5555555555555556,\"#d8576b\"],[0.6666666666666666,\"#ed7953\"],[0.7777777777777778,\"#fb9f3a\"],[0.8888888888888888,\"#fdca26\"],[1.0,\"#f0f921\"]],\"sequentialminus\":[[0.0,\"#0d0887\"],[0.1111111111111111,\"#46039f\"],[0.2222222222222222,\"#7201a8\"],[0.3333333333333333,\"#9c179e\"],[0.4444444444444444,\"#bd3786\"],[0.5555555555555556,\"#d8576b\"],[0.6666666666666666,\"#ed7953\"],[0.7777777777777778,\"#fb9f3a\"],[0.8888888888888888,\"#fdca26\"],[1.0,\"#f0f921\"]],\"diverging\":[[0,\"#8e0152\"],[0.1,\"#c51b7d\"],[0.2,\"#de77ae\"],[0.3,\"#f1b6da\"],[0.4,\"#fde0ef\"],[0.5,\"#f7f7f7\"],[0.6,\"#e6f5d0\"],[0.7,\"#b8e186\"],[0.8,\"#7fbc41\"],[0.9,\"#4d9221\"],[1,\"#276419\"]]},\"xaxis\":{\"gridcolor\":\"white\",\"linecolor\":\"white\",\"ticks\":\"\",\"title\":{\"standoff\":15},\"zerolinecolor\":\"white\",\"automargin\":true,\"zerolinewidth\":2},\"yaxis\":{\"gridcolor\":\"white\",\"linecolor\":\"white\",\"ticks\":\"\",\"title\":{\"standoff\":15},\"zerolinecolor\":\"white\",\"automargin\":true,\"zerolinewidth\":2},\"scene\":{\"xaxis\":{\"backgroundcolor\":\"#E5ECF6\",\"gridcolor\":\"white\",\"linecolor\":\"white\",\"showbackground\":true,\"ticks\":\"\",\"zerolinecolor\":\"white\",\"gridwidth\":2},\"yaxis\":{\"backgroundcolor\":\"#E5ECF6\",\"gridcolor\":\"white\",\"linecolor\":\"white\",\"showbackground\":true,\"ticks\":\"\",\"zerolinecolor\":\"white\",\"gridwidth\":2},\"zaxis\":{\"backgroundcolor\":\"#E5ECF6\",\"gridcolor\":\"white\",\"linecolor\":\"white\",\"showbackground\":true,\"ticks\":\"\",\"zerolinecolor\":\"white\",\"gridwidth\":2}},\"shapedefaults\":{\"line\":{\"color\":\"#2a3f5f\"}},\"annotationdefaults\":{\"arrowcolor\":\"#2a3f5f\",\"arrowhead\":0,\"arrowwidth\":1},\"geo\":{\"bgcolor\":\"white\",\"landcolor\":\"#E5ECF6\",\"subunitcolor\":\"white\",\"showland\":true,\"showlakes\":true,\"lakecolor\":\"white\"},\"title\":{\"x\":0.05},\"mapbox\":{\"style\":\"light\"}}},\"xaxis\":{\"anchor\":\"y\",\"domain\":[0.0,1.0],\"title\":{\"text\":\"Num_Missed_Payments\"}},\"yaxis\":{\"anchor\":\"x\",\"domain\":[0.0,1.0],\"title\":{\"text\":\"Outstanding_loan_amount\"}},\"legend\":{\"title\":{\"text\":\"Recovery_Status\"},\"tracegroupgap\":0},\"margin\":{\"t\":60},\"barmode\":\"group\",\"title\":{\"text\":\"Number of Missed payments for average loan amount along with recovery status\"}},                        {\"responsive\": true}                    ).then(function(){\n",
              "                            \n",
              "var gd = document.getElementById('03bcb48c-d4e2-41a7-b5c3-09026b0d849c');\n",
              "var x = new MutationObserver(function (mutations, observer) {{\n",
              "        var display = window.getComputedStyle(gd).display;\n",
              "        if (!display || display === 'none') {{\n",
              "            console.log([gd, 'removed!']);\n",
              "            Plotly.purge(gd);\n",
              "            observer.disconnect();\n",
              "        }}\n",
              "}});\n",
              "\n",
              "// Listen for the removal of the full notebook cells\n",
              "var notebookContainer = gd.closest('#notebook-container');\n",
              "if (notebookContainer) {{\n",
              "    x.observe(notebookContainer, {childList: true});\n",
              "}}\n",
              "\n",
              "// Listen for the clearing of the current output cell\n",
              "var outputEl = gd.closest('.output');\n",
              "if (outputEl) {{\n",
              "    x.observe(outputEl, {childList: true});\n",
              "}}\n",
              "\n",
              "                        })                };                            </script>        </div>\n",
              "</body>\n",
              "</html>"
            ]
          },
          "metadata": {},
          "output_type": "display_data"
        }
      ],
      "source": [
        "#calculating the number  repyaments loan on the basis of number of missed payemnts along with loan_amount and loan_tenure\n",
        "num_repayments = loan_df.groupby(['Num_Missed_Payments','Recovery_Status'])['Outstanding_loan_amount'].mean().reset_index().sort_values(by=\"Recovery_Status\")\n",
        "print(num_repayments)\n",
        "\n",
        "\n",
        "fig = px.bar(\n",
        "    num_repayments,x=\"Num_Missed_Payments\",y=\"Outstanding_loan_amount\",\n",
        "    color=\"Recovery_Status\",barmode=\"group\"\n",
        "    )\n",
        "\n",
        "fig.update_layout(\n",
        "    title=\"Number of Missed payments for average loan amount along with recovery status\"\n",
        ")"
      ]
    },
    {
      "cell_type": "code",
      "execution_count": null,
      "metadata": {
        "colab": {
          "base_uri": "https://localhost:8080/",
          "height": 785
        },
        "id": "pCMb_qLa7S2L",
        "outputId": "2da45623-81a6-4d92-cf8d-26e1733d6177"
      },
      "outputs": [
        {
          "name": "stdout",
          "output_type": "stream",
          "text": [
            "    Borrower_ID  Recovery_Status  Outstanding_loan_amount\n",
            "249     BRW_323  Fully Recovered                    19785\n",
            "289      BRW_36  Fully Recovered                   395791\n",
            "288     BRW_359  Fully Recovered                   750748\n",
            "287     BRW_358  Fully Recovered                   533824\n",
            "286     BRW_357  Fully Recovered                  1635694\n",
            "..          ...              ...                      ...\n",
            "229     BRW_305      Written Off                   125797\n",
            "100      BRW_19      Written Off                   176912\n",
            "469      BRW_71      Written Off                  1138870\n",
            "92      BRW_182      Written Off                    50698\n",
            "240     BRW_315      Written Off                   248884\n",
            "\n",
            "[500 rows x 3 columns]\n"
          ]
        },
        {
          "data": {
            "text/html": [
              "<html>\n",
              "<head><meta charset=\"utf-8\" /></head>\n",
              "<body>\n",
              "    <div>            <script src=\"https://cdnjs.cloudflare.com/ajax/libs/mathjax/2.7.5/MathJax.js?config=TeX-AMS-MML_SVG\"></script><script type=\"text/javascript\">if (window.MathJax && window.MathJax.Hub && window.MathJax.Hub.Config) {window.MathJax.Hub.Config({SVG: {font: \"STIX-Web\"}});}</script>                <script type=\"text/javascript\">window.PlotlyConfig = {MathJaxConfig: 'local'};</script>\n",
              "        <script charset=\"utf-8\" src=\"https://cdn.plot.ly/plotly-2.35.2.min.js\"></script>                <div id=\"2f3443e8-0e4c-4f01-af13-c3e92c1ffe14\" class=\"plotly-graph-div\" style=\"height:525px; width:100%;\"></div>            <script type=\"text/javascript\">                                    window.PLOTLYENV=window.PLOTLYENV || {};                                    if (document.getElementById(\"2f3443e8-0e4c-4f01-af13-c3e92c1ffe14\")) {                    Plotly.newPlot(                        \"2f3443e8-0e4c-4f01-af13-c3e92c1ffe14\",                        [{\"domain\":{\"x\":[0.0,1.0],\"y\":[0.0,1.0]},\"hovertemplate\":\"Recovery_Status=%{label}\\u003cbr\\u003eOutstanding_loan_amount=%{value}\\u003cextra\\u003e\\u003c\\u002fextra\\u003e\",\"labels\":[\"Fully Recovered\",\"Fully Recovered\",\"Fully Recovered\",\"Fully Recovered\",\"Fully Recovered\",\"Fully Recovered\",\"Fully Recovered\",\"Fully Recovered\",\"Fully Recovered\",\"Fully Recovered\",\"Fully Recovered\",\"Fully Recovered\",\"Fully Recovered\",\"Fully Recovered\",\"Fully Recovered\",\"Fully Recovered\",\"Fully Recovered\",\"Fully Recovered\",\"Fully Recovered\",\"Fully Recovered\",\"Fully Recovered\",\"Fully Recovered\",\"Fully Recovered\",\"Fully Recovered\",\"Fully Recovered\",\"Fully Recovered\",\"Fully Recovered\",\"Fully Recovered\",\"Fully Recovered\",\"Fully Recovered\",\"Fully Recovered\",\"Fully Recovered\",\"Fully Recovered\",\"Fully Recovered\",\"Fully Recovered\",\"Fully Recovered\",\"Fully Recovered\",\"Fully Recovered\",\"Fully Recovered\",\"Fully Recovered\",\"Fully Recovered\",\"Fully Recovered\",\"Fully Recovered\",\"Fully Recovered\",\"Fully Recovered\",\"Fully Recovered\",\"Fully Recovered\",\"Fully Recovered\",\"Fully Recovered\",\"Fully Recovered\",\"Fully Recovered\",\"Fully Recovered\",\"Fully Recovered\",\"Fully Recovered\",\"Fully Recovered\",\"Fully Recovered\",\"Fully Recovered\",\"Fully Recovered\",\"Fully Recovered\",\"Fully Recovered\",\"Fully Recovered\",\"Fully Recovered\",\"Fully Recovered\",\"Fully Recovered\",\"Fully Recovered\",\"Fully Recovered\",\"Fully Recovered\",\"Fully Recovered\",\"Fully Recovered\",\"Fully Recovered\",\"Fully Recovered\",\"Fully Recovered\",\"Fully Recovered\",\"Fully Recovered\",\"Fully Recovered\",\"Fully Recovered\",\"Fully Recovered\",\"Fully Recovered\",\"Fully Recovered\",\"Fully Recovered\",\"Fully Recovered\",\"Fully Recovered\",\"Fully Recovered\",\"Fully Recovered\",\"Fully Recovered\",\"Fully Recovered\",\"Fully Recovered\",\"Fully Recovered\",\"Fully Recovered\",\"Fully Recovered\",\"Fully Recovered\",\"Fully Recovered\",\"Fully Recovered\",\"Fully Recovered\",\"Fully Recovered\",\"Fully Recovered\",\"Fully Recovered\",\"Fully Recovered\",\"Fully Recovered\",\"Fully Recovered\",\"Fully Recovered\",\"Fully Recovered\",\"Fully Recovered\",\"Fully Recovered\",\"Fully Recovered\",\"Fully Recovered\",\"Fully Recovered\",\"Fully Recovered\",\"Fully Recovered\",\"Fully Recovered\",\"Fully Recovered\",\"Fully Recovered\",\"Fully Recovered\",\"Fully Recovered\",\"Fully Recovered\",\"Fully Recovered\",\"Fully Recovered\",\"Fully Recovered\",\"Fully Recovered\",\"Fully Recovered\",\"Fully Recovered\",\"Fully Recovered\",\"Fully Recovered\",\"Fully Recovered\",\"Fully Recovered\",\"Fully Recovered\",\"Fully Recovered\",\"Fully Recovered\",\"Fully Recovered\",\"Fully Recovered\",\"Fully Recovered\",\"Fully Recovered\",\"Fully Recovered\",\"Fully Recovered\",\"Fully Recovered\",\"Fully Recovered\",\"Fully Recovered\",\"Fully Recovered\",\"Fully Recovered\",\"Fully Recovered\",\"Fully Recovered\",\"Fully Recovered\",\"Fully Recovered\",\"Fully Recovered\",\"Fully Recovered\",\"Fully Recovered\",\"Fully Recovered\",\"Fully Recovered\",\"Fully Recovered\",\"Fully Recovered\",\"Fully Recovered\",\"Fully Recovered\",\"Fully Recovered\",\"Fully Recovered\",\"Fully Recovered\",\"Fully Recovered\",\"Fully Recovered\",\"Fully Recovered\",\"Fully Recovered\",\"Fully Recovered\",\"Fully Recovered\",\"Fully Recovered\",\"Fully Recovered\",\"Fully Recovered\",\"Fully Recovered\",\"Fully Recovered\",\"Fully Recovered\",\"Fully Recovered\",\"Fully Recovered\",\"Fully Recovered\",\"Fully Recovered\",\"Fully Recovered\",\"Fully Recovered\",\"Fully Recovered\",\"Fully Recovered\",\"Fully Recovered\",\"Fully Recovered\",\"Fully Recovered\",\"Fully Recovered\",\"Fully Recovered\",\"Fully Recovered\",\"Fully Recovered\",\"Fully Recovered\",\"Fully Recovered\",\"Fully Recovered\",\"Fully Recovered\",\"Fully Recovered\",\"Fully Recovered\",\"Fully Recovered\",\"Fully Recovered\",\"Fully Recovered\",\"Fully Recovered\",\"Fully Recovered\",\"Fully Recovered\",\"Fully Recovered\",\"Fully Recovered\",\"Fully Recovered\",\"Fully Recovered\",\"Fully Recovered\",\"Fully Recovered\",\"Fully Recovered\",\"Fully Recovered\",\"Fully Recovered\",\"Fully Recovered\",\"Fully Recovered\",\"Fully Recovered\",\"Fully Recovered\",\"Fully Recovered\",\"Fully Recovered\",\"Fully Recovered\",\"Fully Recovered\",\"Fully Recovered\",\"Fully Recovered\",\"Fully Recovered\",\"Fully Recovered\",\"Fully Recovered\",\"Fully Recovered\",\"Fully Recovered\",\"Fully Recovered\",\"Fully Recovered\",\"Fully Recovered\",\"Fully Recovered\",\"Fully Recovered\",\"Fully Recovered\",\"Fully Recovered\",\"Fully Recovered\",\"Fully Recovered\",\"Fully Recovered\",\"Fully Recovered\",\"Fully Recovered\",\"Fully Recovered\",\"Fully Recovered\",\"Fully Recovered\",\"Fully Recovered\",\"Fully Recovered\",\"Fully Recovered\",\"Fully Recovered\",\"Fully Recovered\",\"Fully Recovered\",\"Fully Recovered\",\"Fully Recovered\",\"Fully Recovered\",\"Fully Recovered\",\"Fully Recovered\",\"Fully Recovered\",\"Fully Recovered\",\"Fully Recovered\",\"Fully Recovered\",\"Fully Recovered\",\"Fully Recovered\",\"Fully Recovered\",\"Fully Recovered\",\"Fully Recovered\",\"Fully Recovered\",\"Fully Recovered\",\"Fully Recovered\",\"Fully Recovered\",\"Fully Recovered\",\"Fully Recovered\",\"Fully Recovered\",\"Fully Recovered\",\"Fully Recovered\",\"Fully Recovered\",\"Fully Recovered\",\"Fully Recovered\",\"Fully Recovered\",\"Fully Recovered\",\"Fully Recovered\",\"Fully Recovered\",\"Fully Recovered\",\"Fully Recovered\",\"Fully Recovered\",\"Fully Recovered\",\"Fully Recovered\",\"Fully Recovered\",\"Fully Recovered\",\"Fully Recovered\",\"Fully Recovered\",\"Fully Recovered\",\"Fully Recovered\",\"Fully Recovered\",\"Fully Recovered\",\"Fully Recovered\",\"Fully Recovered\",\"Fully Recovered\",\"Fully Recovered\",\"Fully Recovered\",\"Fully Recovered\",\"Fully Recovered\",\"Fully Recovered\",\"Fully Recovered\",\"Fully Recovered\",\"Fully Recovered\",\"Fully Recovered\",\"Fully Recovered\",\"Fully Recovered\",\"Partially Recovered\",\"Partially Recovered\",\"Partially Recovered\",\"Partially Recovered\",\"Partially Recovered\",\"Partially Recovered\",\"Partially Recovered\",\"Partially Recovered\",\"Partially Recovered\",\"Partially Recovered\",\"Partially Recovered\",\"Partially Recovered\",\"Partially Recovered\",\"Partially Recovered\",\"Partially Recovered\",\"Partially Recovered\",\"Partially Recovered\",\"Partially Recovered\",\"Partially Recovered\",\"Partially Recovered\",\"Partially Recovered\",\"Partially Recovered\",\"Partially Recovered\",\"Partially Recovered\",\"Partially Recovered\",\"Partially Recovered\",\"Partially Recovered\",\"Partially Recovered\",\"Partially Recovered\",\"Partially Recovered\",\"Partially Recovered\",\"Partially Recovered\",\"Partially Recovered\",\"Partially Recovered\",\"Partially Recovered\",\"Partially Recovered\",\"Partially Recovered\",\"Partially Recovered\",\"Partially Recovered\",\"Partially Recovered\",\"Partially Recovered\",\"Partially Recovered\",\"Partially Recovered\",\"Partially Recovered\",\"Partially Recovered\",\"Partially Recovered\",\"Partially Recovered\",\"Partially Recovered\",\"Partially Recovered\",\"Partially Recovered\",\"Partially Recovered\",\"Partially Recovered\",\"Partially Recovered\",\"Partially Recovered\",\"Partially Recovered\",\"Partially Recovered\",\"Partially Recovered\",\"Partially Recovered\",\"Partially Recovered\",\"Partially Recovered\",\"Partially Recovered\",\"Partially Recovered\",\"Partially Recovered\",\"Partially Recovered\",\"Partially Recovered\",\"Partially Recovered\",\"Partially Recovered\",\"Partially Recovered\",\"Partially Recovered\",\"Partially Recovered\",\"Partially Recovered\",\"Partially Recovered\",\"Partially Recovered\",\"Partially Recovered\",\"Partially Recovered\",\"Partially Recovered\",\"Partially Recovered\",\"Partially Recovered\",\"Partially Recovered\",\"Partially Recovered\",\"Partially Recovered\",\"Partially Recovered\",\"Partially Recovered\",\"Partially Recovered\",\"Partially Recovered\",\"Partially Recovered\",\"Partially Recovered\",\"Partially Recovered\",\"Partially Recovered\",\"Partially Recovered\",\"Partially Recovered\",\"Partially Recovered\",\"Partially Recovered\",\"Partially Recovered\",\"Partially Recovered\",\"Partially Recovered\",\"Partially Recovered\",\"Partially Recovered\",\"Partially Recovered\",\"Partially Recovered\",\"Partially Recovered\",\"Partially Recovered\",\"Partially Recovered\",\"Partially Recovered\",\"Partially Recovered\",\"Partially Recovered\",\"Partially Recovered\",\"Partially Recovered\",\"Partially Recovered\",\"Partially Recovered\",\"Partially Recovered\",\"Partially Recovered\",\"Partially Recovered\",\"Partially Recovered\",\"Partially Recovered\",\"Partially Recovered\",\"Partially Recovered\",\"Partially Recovered\",\"Partially Recovered\",\"Partially Recovered\",\"Partially Recovered\",\"Partially Recovered\",\"Partially Recovered\",\"Partially Recovered\",\"Partially Recovered\",\"Partially Recovered\",\"Partially Recovered\",\"Partially Recovered\",\"Partially Recovered\",\"Partially Recovered\",\"Partially Recovered\",\"Partially Recovered\",\"Partially Recovered\",\"Partially Recovered\",\"Partially Recovered\",\"Partially Recovered\",\"Partially Recovered\",\"Partially Recovered\",\"Partially Recovered\",\"Partially Recovered\",\"Partially Recovered\",\"Partially Recovered\",\"Partially Recovered\",\"Partially Recovered\",\"Partially Recovered\",\"Partially Recovered\",\"Partially Recovered\",\"Partially Recovered\",\"Partially Recovered\",\"Partially Recovered\",\"Partially Recovered\",\"Partially Recovered\",\"Partially Recovered\",\"Partially Recovered\",\"Written Off\",\"Written Off\",\"Written Off\",\"Written Off\",\"Written Off\",\"Written Off\",\"Written Off\",\"Written Off\",\"Written Off\",\"Written Off\",\"Written Off\",\"Written Off\",\"Written Off\",\"Written Off\",\"Written Off\",\"Written Off\",\"Written Off\",\"Written Off\",\"Written Off\",\"Written Off\",\"Written Off\",\"Written Off\",\"Written Off\",\"Written Off\",\"Written Off\",\"Written Off\",\"Written Off\",\"Written Off\",\"Written Off\",\"Written Off\",\"Written Off\",\"Written Off\",\"Written Off\",\"Written Off\",\"Written Off\",\"Written Off\",\"Written Off\",\"Written Off\",\"Written Off\",\"Written Off\",\"Written Off\",\"Written Off\",\"Written Off\",\"Written Off\",\"Written Off\",\"Written Off\",\"Written Off\",\"Written Off\",\"Written Off\",\"Written Off\"],\"legendgroup\":\"\",\"name\":\"\",\"showlegend\":true,\"values\":[19785,395791,750748,533824,1635694,1116947,45015,1323596,1716129,73908,478879,1932395,1592190,851148,139725,113511,1005392,325165,1733617,338323,1475467,659843,877296,396759,57630,239745,92165,1880951,1438059,47548,889936,39600,104401,1622079,517458,31208,123180,627915,213155,1603794,172617,226290,47673,486651,224973,179341,293616,420333,143707,692636,62971,690403,1059348,503983,1501065,246183,973084,665582,503303,114062,466931,693903,1561797,141876,1023876,1138280,1037038,802661,90034,1155408,946133,394388,368351,155416,1448461,1676644,762418,85477,16273,116492,483868,1297293,1031371,204909,62180,967132,603346,1397196,287643,773867,1498294,392256,163957,281352,153026,129620,1101165,742843,1440657,82673,98091,1342401,39189,330030,413528,1142483,694748,249011,511595,507429,1533515,269668,814388,52790,124668,1403817,444004,50073,474944,131426,1529224,483715,168733,422760,162855,315879,196656,891816,232572,309070,1480156,96824,416121,279213,100554,381265,32142,288413,536036,198742,819030,417774,887038,1372523,1355583,918622,920061,189941,420551,369679,536251,1157027,1540842,758611,86650,446444,376652,1297457,509862,395327,1445925,1418352,572145,186670,167474,902911,131427,183878,1389529,1045256,1516591,541900,282199,1279533,1109180,216178,470241,363917,539254,279074,441147,266265,302326,99251,262208,363541,746005,729545,665204,137808,227327,1700987,1155829,345456,1470464,375704,1794126,62675,377449,963989,1886639,1413229,174161,703320,171413,225250,230598,606744,790915,247997,425034,730341,198635,195673,773648,1229562,220312,1337482,153288,309283,392437,103122,983707,350017,211469,15712,83683,608360,183162,756550,441059,404570,1287474,822335,251171,148903,1374050,428739,117102,80545,473802,123821,801528,712074,796901,423464,477614,135521,450011,113231,1584600,57594,996111,428509,214915,200807,569849,319734,1045269,521981,822662,291631,665429,757142,589292,350897,301110,292208,830616,143093,578626,161329,947590,244140,70542,729559,955922,58940,1007990,67579,163346,154104,92939,309534,1108570,102299,284577,85488,723845,113057,264662,437200,442088,198910,1207474,490032,51376,386853,279236,71521,133190,412834,1744823,1512873,407164,498431,237664,525143,17239,1033088,844803,515038,329600,169628,84786,1222984,259855,838064,191480,402043,375865,204588,413205,1235248,52577,86465,234794,129965,1241198,165977,736511,317374,1565339,798983,1074385,52957,1003220,42612,426709,641044,650931,875490,319736,174851,201172,56895,803785,809930,628650,568455,29410,398402,680411,1800582,240573,433475,920342,1534190,52716,559027,100394,248037,1248200,299378,177563,703487,51917,36903,246148,613551,117965,156364,196895,243246,1319715,417144,670752,1372451,814282,227188,604778,611574,272210,71912,1294342,349636,634134,40982,428391,363235,351731,1436350,1114373,413442,1529768,938200,1389518,468696,905052,420501,1246469,79159,85220,221929,1595668,629248,1114690,405643,132957,1726793,102018,74861,509210,502050,303243,58978,1334283,336146,93217,243672,195746,1278685,228224,881515,234737,1246544,1265836,133342,53266,802700,525086,850926,1247525,330550,30346,289926,434600,291413,594722,950860,773594,576284,170025,260823,217827,1290896,104416,71370,1315302,68321,395644,48916,214012,165543,54636,215746,789211,53007,250017,236201,326675,1015520,234933,453140,33981,568179,937450,140271,1529736,78279,234888,737589,1559717,217488,156586,128409,1152937,1405426,622029,787026,188158,275806,96882,270256,29491,638903,156648,382228,488977,841730,102084,711068,730981,1259501,127493,125797,176912,1138870,50698,248884],\"type\":\"funnelarea\"}],                        {\"template\":{\"data\":{\"histogram2dcontour\":[{\"type\":\"histogram2dcontour\",\"colorbar\":{\"outlinewidth\":0,\"ticks\":\"\"},\"colorscale\":[[0.0,\"#0d0887\"],[0.1111111111111111,\"#46039f\"],[0.2222222222222222,\"#7201a8\"],[0.3333333333333333,\"#9c179e\"],[0.4444444444444444,\"#bd3786\"],[0.5555555555555556,\"#d8576b\"],[0.6666666666666666,\"#ed7953\"],[0.7777777777777778,\"#fb9f3a\"],[0.8888888888888888,\"#fdca26\"],[1.0,\"#f0f921\"]]}],\"choropleth\":[{\"type\":\"choropleth\",\"colorbar\":{\"outlinewidth\":0,\"ticks\":\"\"}}],\"histogram2d\":[{\"type\":\"histogram2d\",\"colorbar\":{\"outlinewidth\":0,\"ticks\":\"\"},\"colorscale\":[[0.0,\"#0d0887\"],[0.1111111111111111,\"#46039f\"],[0.2222222222222222,\"#7201a8\"],[0.3333333333333333,\"#9c179e\"],[0.4444444444444444,\"#bd3786\"],[0.5555555555555556,\"#d8576b\"],[0.6666666666666666,\"#ed7953\"],[0.7777777777777778,\"#fb9f3a\"],[0.8888888888888888,\"#fdca26\"],[1.0,\"#f0f921\"]]}],\"heatmap\":[{\"type\":\"heatmap\",\"colorbar\":{\"outlinewidth\":0,\"ticks\":\"\"},\"colorscale\":[[0.0,\"#0d0887\"],[0.1111111111111111,\"#46039f\"],[0.2222222222222222,\"#7201a8\"],[0.3333333333333333,\"#9c179e\"],[0.4444444444444444,\"#bd3786\"],[0.5555555555555556,\"#d8576b\"],[0.6666666666666666,\"#ed7953\"],[0.7777777777777778,\"#fb9f3a\"],[0.8888888888888888,\"#fdca26\"],[1.0,\"#f0f921\"]]}],\"heatmapgl\":[{\"type\":\"heatmapgl\",\"colorbar\":{\"outlinewidth\":0,\"ticks\":\"\"},\"colorscale\":[[0.0,\"#0d0887\"],[0.1111111111111111,\"#46039f\"],[0.2222222222222222,\"#7201a8\"],[0.3333333333333333,\"#9c179e\"],[0.4444444444444444,\"#bd3786\"],[0.5555555555555556,\"#d8576b\"],[0.6666666666666666,\"#ed7953\"],[0.7777777777777778,\"#fb9f3a\"],[0.8888888888888888,\"#fdca26\"],[1.0,\"#f0f921\"]]}],\"contourcarpet\":[{\"type\":\"contourcarpet\",\"colorbar\":{\"outlinewidth\":0,\"ticks\":\"\"}}],\"contour\":[{\"type\":\"contour\",\"colorbar\":{\"outlinewidth\":0,\"ticks\":\"\"},\"colorscale\":[[0.0,\"#0d0887\"],[0.1111111111111111,\"#46039f\"],[0.2222222222222222,\"#7201a8\"],[0.3333333333333333,\"#9c179e\"],[0.4444444444444444,\"#bd3786\"],[0.5555555555555556,\"#d8576b\"],[0.6666666666666666,\"#ed7953\"],[0.7777777777777778,\"#fb9f3a\"],[0.8888888888888888,\"#fdca26\"],[1.0,\"#f0f921\"]]}],\"surface\":[{\"type\":\"surface\",\"colorbar\":{\"outlinewidth\":0,\"ticks\":\"\"},\"colorscale\":[[0.0,\"#0d0887\"],[0.1111111111111111,\"#46039f\"],[0.2222222222222222,\"#7201a8\"],[0.3333333333333333,\"#9c179e\"],[0.4444444444444444,\"#bd3786\"],[0.5555555555555556,\"#d8576b\"],[0.6666666666666666,\"#ed7953\"],[0.7777777777777778,\"#fb9f3a\"],[0.8888888888888888,\"#fdca26\"],[1.0,\"#f0f921\"]]}],\"mesh3d\":[{\"type\":\"mesh3d\",\"colorbar\":{\"outlinewidth\":0,\"ticks\":\"\"}}],\"scatter\":[{\"fillpattern\":{\"fillmode\":\"overlay\",\"size\":10,\"solidity\":0.2},\"type\":\"scatter\"}],\"parcoords\":[{\"type\":\"parcoords\",\"line\":{\"colorbar\":{\"outlinewidth\":0,\"ticks\":\"\"}}}],\"scatterpolargl\":[{\"type\":\"scatterpolargl\",\"marker\":{\"colorbar\":{\"outlinewidth\":0,\"ticks\":\"\"}}}],\"bar\":[{\"error_x\":{\"color\":\"#2a3f5f\"},\"error_y\":{\"color\":\"#2a3f5f\"},\"marker\":{\"line\":{\"color\":\"#E5ECF6\",\"width\":0.5},\"pattern\":{\"fillmode\":\"overlay\",\"size\":10,\"solidity\":0.2}},\"type\":\"bar\"}],\"scattergeo\":[{\"type\":\"scattergeo\",\"marker\":{\"colorbar\":{\"outlinewidth\":0,\"ticks\":\"\"}}}],\"scatterpolar\":[{\"type\":\"scatterpolar\",\"marker\":{\"colorbar\":{\"outlinewidth\":0,\"ticks\":\"\"}}}],\"histogram\":[{\"marker\":{\"pattern\":{\"fillmode\":\"overlay\",\"size\":10,\"solidity\":0.2}},\"type\":\"histogram\"}],\"scattergl\":[{\"type\":\"scattergl\",\"marker\":{\"colorbar\":{\"outlinewidth\":0,\"ticks\":\"\"}}}],\"scatter3d\":[{\"type\":\"scatter3d\",\"line\":{\"colorbar\":{\"outlinewidth\":0,\"ticks\":\"\"}},\"marker\":{\"colorbar\":{\"outlinewidth\":0,\"ticks\":\"\"}}}],\"scattermapbox\":[{\"type\":\"scattermapbox\",\"marker\":{\"colorbar\":{\"outlinewidth\":0,\"ticks\":\"\"}}}],\"scatterternary\":[{\"type\":\"scatterternary\",\"marker\":{\"colorbar\":{\"outlinewidth\":0,\"ticks\":\"\"}}}],\"scattercarpet\":[{\"type\":\"scattercarpet\",\"marker\":{\"colorbar\":{\"outlinewidth\":0,\"ticks\":\"\"}}}],\"carpet\":[{\"aaxis\":{\"endlinecolor\":\"#2a3f5f\",\"gridcolor\":\"white\",\"linecolor\":\"white\",\"minorgridcolor\":\"white\",\"startlinecolor\":\"#2a3f5f\"},\"baxis\":{\"endlinecolor\":\"#2a3f5f\",\"gridcolor\":\"white\",\"linecolor\":\"white\",\"minorgridcolor\":\"white\",\"startlinecolor\":\"#2a3f5f\"},\"type\":\"carpet\"}],\"table\":[{\"cells\":{\"fill\":{\"color\":\"#EBF0F8\"},\"line\":{\"color\":\"white\"}},\"header\":{\"fill\":{\"color\":\"#C8D4E3\"},\"line\":{\"color\":\"white\"}},\"type\":\"table\"}],\"barpolar\":[{\"marker\":{\"line\":{\"color\":\"#E5ECF6\",\"width\":0.5},\"pattern\":{\"fillmode\":\"overlay\",\"size\":10,\"solidity\":0.2}},\"type\":\"barpolar\"}],\"pie\":[{\"automargin\":true,\"type\":\"pie\"}]},\"layout\":{\"autotypenumbers\":\"strict\",\"colorway\":[\"#636efa\",\"#EF553B\",\"#00cc96\",\"#ab63fa\",\"#FFA15A\",\"#19d3f3\",\"#FF6692\",\"#B6E880\",\"#FF97FF\",\"#FECB52\"],\"font\":{\"color\":\"#2a3f5f\"},\"hovermode\":\"closest\",\"hoverlabel\":{\"align\":\"left\"},\"paper_bgcolor\":\"white\",\"plot_bgcolor\":\"#E5ECF6\",\"polar\":{\"bgcolor\":\"#E5ECF6\",\"angularaxis\":{\"gridcolor\":\"white\",\"linecolor\":\"white\",\"ticks\":\"\"},\"radialaxis\":{\"gridcolor\":\"white\",\"linecolor\":\"white\",\"ticks\":\"\"}},\"ternary\":{\"bgcolor\":\"#E5ECF6\",\"aaxis\":{\"gridcolor\":\"white\",\"linecolor\":\"white\",\"ticks\":\"\"},\"baxis\":{\"gridcolor\":\"white\",\"linecolor\":\"white\",\"ticks\":\"\"},\"caxis\":{\"gridcolor\":\"white\",\"linecolor\":\"white\",\"ticks\":\"\"}},\"coloraxis\":{\"colorbar\":{\"outlinewidth\":0,\"ticks\":\"\"}},\"colorscale\":{\"sequential\":[[0.0,\"#0d0887\"],[0.1111111111111111,\"#46039f\"],[0.2222222222222222,\"#7201a8\"],[0.3333333333333333,\"#9c179e\"],[0.4444444444444444,\"#bd3786\"],[0.5555555555555556,\"#d8576b\"],[0.6666666666666666,\"#ed7953\"],[0.7777777777777778,\"#fb9f3a\"],[0.8888888888888888,\"#fdca26\"],[1.0,\"#f0f921\"]],\"sequentialminus\":[[0.0,\"#0d0887\"],[0.1111111111111111,\"#46039f\"],[0.2222222222222222,\"#7201a8\"],[0.3333333333333333,\"#9c179e\"],[0.4444444444444444,\"#bd3786\"],[0.5555555555555556,\"#d8576b\"],[0.6666666666666666,\"#ed7953\"],[0.7777777777777778,\"#fb9f3a\"],[0.8888888888888888,\"#fdca26\"],[1.0,\"#f0f921\"]],\"diverging\":[[0,\"#8e0152\"],[0.1,\"#c51b7d\"],[0.2,\"#de77ae\"],[0.3,\"#f1b6da\"],[0.4,\"#fde0ef\"],[0.5,\"#f7f7f7\"],[0.6,\"#e6f5d0\"],[0.7,\"#b8e186\"],[0.8,\"#7fbc41\"],[0.9,\"#4d9221\"],[1,\"#276419\"]]},\"xaxis\":{\"gridcolor\":\"white\",\"linecolor\":\"white\",\"ticks\":\"\",\"title\":{\"standoff\":15},\"zerolinecolor\":\"white\",\"automargin\":true,\"zerolinewidth\":2},\"yaxis\":{\"gridcolor\":\"white\",\"linecolor\":\"white\",\"ticks\":\"\",\"title\":{\"standoff\":15},\"zerolinecolor\":\"white\",\"automargin\":true,\"zerolinewidth\":2},\"scene\":{\"xaxis\":{\"backgroundcolor\":\"#E5ECF6\",\"gridcolor\":\"white\",\"linecolor\":\"white\",\"showbackground\":true,\"ticks\":\"\",\"zerolinecolor\":\"white\",\"gridwidth\":2},\"yaxis\":{\"backgroundcolor\":\"#E5ECF6\",\"gridcolor\":\"white\",\"linecolor\":\"white\",\"showbackground\":true,\"ticks\":\"\",\"zerolinecolor\":\"white\",\"gridwidth\":2},\"zaxis\":{\"backgroundcolor\":\"#E5ECF6\",\"gridcolor\":\"white\",\"linecolor\":\"white\",\"showbackground\":true,\"ticks\":\"\",\"zerolinecolor\":\"white\",\"gridwidth\":2}},\"shapedefaults\":{\"line\":{\"color\":\"#2a3f5f\"}},\"annotationdefaults\":{\"arrowcolor\":\"#2a3f5f\",\"arrowhead\":0,\"arrowwidth\":1},\"geo\":{\"bgcolor\":\"white\",\"landcolor\":\"#E5ECF6\",\"subunitcolor\":\"white\",\"showland\":true,\"showlakes\":true,\"lakecolor\":\"white\"},\"title\":{\"x\":0.05},\"mapbox\":{\"style\":\"light\"}}},\"legend\":{\"tracegroupgap\":0},\"title\":{\"text\":\"Borrowers with Higher Loan Amounts Have a Higher Default Rate\"}},                        {\"responsive\": true}                    ).then(function(){\n",
              "                            \n",
              "var gd = document.getElementById('2f3443e8-0e4c-4f01-af13-c3e92c1ffe14');\n",
              "var x = new MutationObserver(function (mutations, observer) {{\n",
              "        var display = window.getComputedStyle(gd).display;\n",
              "        if (!display || display === 'none') {{\n",
              "            console.log([gd, 'removed!']);\n",
              "            Plotly.purge(gd);\n",
              "            observer.disconnect();\n",
              "        }}\n",
              "}});\n",
              "\n",
              "// Listen for the removal of the full notebook cells\n",
              "var notebookContainer = gd.closest('#notebook-container');\n",
              "if (notebookContainer) {{\n",
              "    x.observe(notebookContainer, {childList: true});\n",
              "}}\n",
              "\n",
              "// Listen for the clearing of the current output cell\n",
              "var outputEl = gd.closest('.output');\n",
              "if (outputEl) {{\n",
              "    x.observe(outputEl, {childList: true});\n",
              "}}\n",
              "\n",
              "                        })                };                            </script>        </div>\n",
              "</body>\n",
              "</html>"
            ]
          },
          "metadata": {},
          "output_type": "display_data"
        }
      ],
      "source": [
        "#Do borrowers with higher loan amounts have a higher default rate\n",
        "\n",
        "\n",
        "borrowers_with_higher_loan_amount_recovery_rate = loan_df.groupby(['Borrower_ID','Recovery_Status']).agg({\"Outstanding_loan_amount\":\"max\"}).reset_index().sort_values(by=\"Recovery_Status\")\n",
        "print(borrowers_with_higher_loan_amount_recovery_rate)\n",
        "\n",
        "fig = px.funnel_area(\n",
        "    borrowers_with_higher_loan_amount_recovery_rate,\n",
        "    names=\"Recovery_Status\",\n",
        "    values=\"Outstanding_loan_amount\",\n",
        "    title=\"Borrowers with Higher Loan Amounts Have a Higher Default Rate\"\n",
        ")\n",
        "fig.update_layout(\n",
        "    title=\"Borrowers with Higher Loan Amounts Have a Higher Default Rate\"\n",
        ")\n"
      ]
    },
    {
      "cell_type": "markdown",
      "metadata": {
        "id": "mV1ThSWtA1NU"
      },
      "source": [
        "Which collection method (legal action, settlement, debt collectors, calls) has the highest recovery success rate?"
      ]
    },
    {
      "cell_type": "code",
      "execution_count": null,
      "metadata": {
        "colab": {
          "base_uri": "https://localhost:8080/",
          "height": 629
        },
        "id": "Tz0tuPvg-DK5",
        "outputId": "4a80ce45-89dd-40b0-dba3-a47acfb0ecc6"
      },
      "outputs": [
        {
          "output_type": "stream",
          "name": "stdout",
          "text": [
            "  Collection_Method  Recovery_Status\n",
            "0             Calls              129\n",
            "1   Debt Collectors              125\n",
            "2      Legal Notice              126\n",
            "3  Settlement Offer              120\n"
          ]
        },
        {
          "output_type": "display_data",
          "data": {
            "text/html": [
              "<html>\n",
              "<head><meta charset=\"utf-8\" /></head>\n",
              "<body>\n",
              "    <div>            <script src=\"https://cdnjs.cloudflare.com/ajax/libs/mathjax/2.7.5/MathJax.js?config=TeX-AMS-MML_SVG\"></script><script type=\"text/javascript\">if (window.MathJax && window.MathJax.Hub && window.MathJax.Hub.Config) {window.MathJax.Hub.Config({SVG: {font: \"STIX-Web\"}});}</script>                <script type=\"text/javascript\">window.PlotlyConfig = {MathJaxConfig: 'local'};</script>\n",
              "        <script charset=\"utf-8\" src=\"https://cdn.plot.ly/plotly-2.35.2.min.js\"></script>                <div id=\"4ee058a5-1103-43c2-b127-f87e5fb69e6d\" class=\"plotly-graph-div\" style=\"height:525px; width:100%;\"></div>            <script type=\"text/javascript\">                                    window.PLOTLYENV=window.PLOTLYENV || {};                                    if (document.getElementById(\"4ee058a5-1103-43c2-b127-f87e5fb69e6d\")) {                    Plotly.newPlot(                        \"4ee058a5-1103-43c2-b127-f87e5fb69e6d\",                        [{\"domain\":{\"x\":[0.0,1.0],\"y\":[0.0,1.0]},\"hole\":0.6,\"hovertemplate\":\"Collection_Method=%{label}\\u003cbr\\u003eRecovery_Status=%{value}\\u003cextra\\u003e\\u003c\\u002fextra\\u003e\",\"labels\":[\"Calls\",\"Debt Collectors\",\"Legal Notice\",\"Settlement Offer\"],\"legendgroup\":\"\",\"name\":\"\",\"showlegend\":true,\"values\":[129,125,126,120],\"type\":\"pie\"}],                        {\"template\":{\"data\":{\"histogram2dcontour\":[{\"type\":\"histogram2dcontour\",\"colorbar\":{\"outlinewidth\":0,\"ticks\":\"\"},\"colorscale\":[[0.0,\"#0d0887\"],[0.1111111111111111,\"#46039f\"],[0.2222222222222222,\"#7201a8\"],[0.3333333333333333,\"#9c179e\"],[0.4444444444444444,\"#bd3786\"],[0.5555555555555556,\"#d8576b\"],[0.6666666666666666,\"#ed7953\"],[0.7777777777777778,\"#fb9f3a\"],[0.8888888888888888,\"#fdca26\"],[1.0,\"#f0f921\"]]}],\"choropleth\":[{\"type\":\"choropleth\",\"colorbar\":{\"outlinewidth\":0,\"ticks\":\"\"}}],\"histogram2d\":[{\"type\":\"histogram2d\",\"colorbar\":{\"outlinewidth\":0,\"ticks\":\"\"},\"colorscale\":[[0.0,\"#0d0887\"],[0.1111111111111111,\"#46039f\"],[0.2222222222222222,\"#7201a8\"],[0.3333333333333333,\"#9c179e\"],[0.4444444444444444,\"#bd3786\"],[0.5555555555555556,\"#d8576b\"],[0.6666666666666666,\"#ed7953\"],[0.7777777777777778,\"#fb9f3a\"],[0.8888888888888888,\"#fdca26\"],[1.0,\"#f0f921\"]]}],\"heatmap\":[{\"type\":\"heatmap\",\"colorbar\":{\"outlinewidth\":0,\"ticks\":\"\"},\"colorscale\":[[0.0,\"#0d0887\"],[0.1111111111111111,\"#46039f\"],[0.2222222222222222,\"#7201a8\"],[0.3333333333333333,\"#9c179e\"],[0.4444444444444444,\"#bd3786\"],[0.5555555555555556,\"#d8576b\"],[0.6666666666666666,\"#ed7953\"],[0.7777777777777778,\"#fb9f3a\"],[0.8888888888888888,\"#fdca26\"],[1.0,\"#f0f921\"]]}],\"heatmapgl\":[{\"type\":\"heatmapgl\",\"colorbar\":{\"outlinewidth\":0,\"ticks\":\"\"},\"colorscale\":[[0.0,\"#0d0887\"],[0.1111111111111111,\"#46039f\"],[0.2222222222222222,\"#7201a8\"],[0.3333333333333333,\"#9c179e\"],[0.4444444444444444,\"#bd3786\"],[0.5555555555555556,\"#d8576b\"],[0.6666666666666666,\"#ed7953\"],[0.7777777777777778,\"#fb9f3a\"],[0.8888888888888888,\"#fdca26\"],[1.0,\"#f0f921\"]]}],\"contourcarpet\":[{\"type\":\"contourcarpet\",\"colorbar\":{\"outlinewidth\":0,\"ticks\":\"\"}}],\"contour\":[{\"type\":\"contour\",\"colorbar\":{\"outlinewidth\":0,\"ticks\":\"\"},\"colorscale\":[[0.0,\"#0d0887\"],[0.1111111111111111,\"#46039f\"],[0.2222222222222222,\"#7201a8\"],[0.3333333333333333,\"#9c179e\"],[0.4444444444444444,\"#bd3786\"],[0.5555555555555556,\"#d8576b\"],[0.6666666666666666,\"#ed7953\"],[0.7777777777777778,\"#fb9f3a\"],[0.8888888888888888,\"#fdca26\"],[1.0,\"#f0f921\"]]}],\"surface\":[{\"type\":\"surface\",\"colorbar\":{\"outlinewidth\":0,\"ticks\":\"\"},\"colorscale\":[[0.0,\"#0d0887\"],[0.1111111111111111,\"#46039f\"],[0.2222222222222222,\"#7201a8\"],[0.3333333333333333,\"#9c179e\"],[0.4444444444444444,\"#bd3786\"],[0.5555555555555556,\"#d8576b\"],[0.6666666666666666,\"#ed7953\"],[0.7777777777777778,\"#fb9f3a\"],[0.8888888888888888,\"#fdca26\"],[1.0,\"#f0f921\"]]}],\"mesh3d\":[{\"type\":\"mesh3d\",\"colorbar\":{\"outlinewidth\":0,\"ticks\":\"\"}}],\"scatter\":[{\"fillpattern\":{\"fillmode\":\"overlay\",\"size\":10,\"solidity\":0.2},\"type\":\"scatter\"}],\"parcoords\":[{\"type\":\"parcoords\",\"line\":{\"colorbar\":{\"outlinewidth\":0,\"ticks\":\"\"}}}],\"scatterpolargl\":[{\"type\":\"scatterpolargl\",\"marker\":{\"colorbar\":{\"outlinewidth\":0,\"ticks\":\"\"}}}],\"bar\":[{\"error_x\":{\"color\":\"#2a3f5f\"},\"error_y\":{\"color\":\"#2a3f5f\"},\"marker\":{\"line\":{\"color\":\"#E5ECF6\",\"width\":0.5},\"pattern\":{\"fillmode\":\"overlay\",\"size\":10,\"solidity\":0.2}},\"type\":\"bar\"}],\"scattergeo\":[{\"type\":\"scattergeo\",\"marker\":{\"colorbar\":{\"outlinewidth\":0,\"ticks\":\"\"}}}],\"scatterpolar\":[{\"type\":\"scatterpolar\",\"marker\":{\"colorbar\":{\"outlinewidth\":0,\"ticks\":\"\"}}}],\"histogram\":[{\"marker\":{\"pattern\":{\"fillmode\":\"overlay\",\"size\":10,\"solidity\":0.2}},\"type\":\"histogram\"}],\"scattergl\":[{\"type\":\"scattergl\",\"marker\":{\"colorbar\":{\"outlinewidth\":0,\"ticks\":\"\"}}}],\"scatter3d\":[{\"type\":\"scatter3d\",\"line\":{\"colorbar\":{\"outlinewidth\":0,\"ticks\":\"\"}},\"marker\":{\"colorbar\":{\"outlinewidth\":0,\"ticks\":\"\"}}}],\"scattermapbox\":[{\"type\":\"scattermapbox\",\"marker\":{\"colorbar\":{\"outlinewidth\":0,\"ticks\":\"\"}}}],\"scatterternary\":[{\"type\":\"scatterternary\",\"marker\":{\"colorbar\":{\"outlinewidth\":0,\"ticks\":\"\"}}}],\"scattercarpet\":[{\"type\":\"scattercarpet\",\"marker\":{\"colorbar\":{\"outlinewidth\":0,\"ticks\":\"\"}}}],\"carpet\":[{\"aaxis\":{\"endlinecolor\":\"#2a3f5f\",\"gridcolor\":\"white\",\"linecolor\":\"white\",\"minorgridcolor\":\"white\",\"startlinecolor\":\"#2a3f5f\"},\"baxis\":{\"endlinecolor\":\"#2a3f5f\",\"gridcolor\":\"white\",\"linecolor\":\"white\",\"minorgridcolor\":\"white\",\"startlinecolor\":\"#2a3f5f\"},\"type\":\"carpet\"}],\"table\":[{\"cells\":{\"fill\":{\"color\":\"#EBF0F8\"},\"line\":{\"color\":\"white\"}},\"header\":{\"fill\":{\"color\":\"#C8D4E3\"},\"line\":{\"color\":\"white\"}},\"type\":\"table\"}],\"barpolar\":[{\"marker\":{\"line\":{\"color\":\"#E5ECF6\",\"width\":0.5},\"pattern\":{\"fillmode\":\"overlay\",\"size\":10,\"solidity\":0.2}},\"type\":\"barpolar\"}],\"pie\":[{\"automargin\":true,\"type\":\"pie\"}]},\"layout\":{\"autotypenumbers\":\"strict\",\"colorway\":[\"#636efa\",\"#EF553B\",\"#00cc96\",\"#ab63fa\",\"#FFA15A\",\"#19d3f3\",\"#FF6692\",\"#B6E880\",\"#FF97FF\",\"#FECB52\"],\"font\":{\"color\":\"#2a3f5f\"},\"hovermode\":\"closest\",\"hoverlabel\":{\"align\":\"left\"},\"paper_bgcolor\":\"white\",\"plot_bgcolor\":\"#E5ECF6\",\"polar\":{\"bgcolor\":\"#E5ECF6\",\"angularaxis\":{\"gridcolor\":\"white\",\"linecolor\":\"white\",\"ticks\":\"\"},\"radialaxis\":{\"gridcolor\":\"white\",\"linecolor\":\"white\",\"ticks\":\"\"}},\"ternary\":{\"bgcolor\":\"#E5ECF6\",\"aaxis\":{\"gridcolor\":\"white\",\"linecolor\":\"white\",\"ticks\":\"\"},\"baxis\":{\"gridcolor\":\"white\",\"linecolor\":\"white\",\"ticks\":\"\"},\"caxis\":{\"gridcolor\":\"white\",\"linecolor\":\"white\",\"ticks\":\"\"}},\"coloraxis\":{\"colorbar\":{\"outlinewidth\":0,\"ticks\":\"\"}},\"colorscale\":{\"sequential\":[[0.0,\"#0d0887\"],[0.1111111111111111,\"#46039f\"],[0.2222222222222222,\"#7201a8\"],[0.3333333333333333,\"#9c179e\"],[0.4444444444444444,\"#bd3786\"],[0.5555555555555556,\"#d8576b\"],[0.6666666666666666,\"#ed7953\"],[0.7777777777777778,\"#fb9f3a\"],[0.8888888888888888,\"#fdca26\"],[1.0,\"#f0f921\"]],\"sequentialminus\":[[0.0,\"#0d0887\"],[0.1111111111111111,\"#46039f\"],[0.2222222222222222,\"#7201a8\"],[0.3333333333333333,\"#9c179e\"],[0.4444444444444444,\"#bd3786\"],[0.5555555555555556,\"#d8576b\"],[0.6666666666666666,\"#ed7953\"],[0.7777777777777778,\"#fb9f3a\"],[0.8888888888888888,\"#fdca26\"],[1.0,\"#f0f921\"]],\"diverging\":[[0,\"#8e0152\"],[0.1,\"#c51b7d\"],[0.2,\"#de77ae\"],[0.3,\"#f1b6da\"],[0.4,\"#fde0ef\"],[0.5,\"#f7f7f7\"],[0.6,\"#e6f5d0\"],[0.7,\"#b8e186\"],[0.8,\"#7fbc41\"],[0.9,\"#4d9221\"],[1,\"#276419\"]]},\"xaxis\":{\"gridcolor\":\"white\",\"linecolor\":\"white\",\"ticks\":\"\",\"title\":{\"standoff\":15},\"zerolinecolor\":\"white\",\"automargin\":true,\"zerolinewidth\":2},\"yaxis\":{\"gridcolor\":\"white\",\"linecolor\":\"white\",\"ticks\":\"\",\"title\":{\"standoff\":15},\"zerolinecolor\":\"white\",\"automargin\":true,\"zerolinewidth\":2},\"scene\":{\"xaxis\":{\"backgroundcolor\":\"#E5ECF6\",\"gridcolor\":\"white\",\"linecolor\":\"white\",\"showbackground\":true,\"ticks\":\"\",\"zerolinecolor\":\"white\",\"gridwidth\":2},\"yaxis\":{\"backgroundcolor\":\"#E5ECF6\",\"gridcolor\":\"white\",\"linecolor\":\"white\",\"showbackground\":true,\"ticks\":\"\",\"zerolinecolor\":\"white\",\"gridwidth\":2},\"zaxis\":{\"backgroundcolor\":\"#E5ECF6\",\"gridcolor\":\"white\",\"linecolor\":\"white\",\"showbackground\":true,\"ticks\":\"\",\"zerolinecolor\":\"white\",\"gridwidth\":2}},\"shapedefaults\":{\"line\":{\"color\":\"#2a3f5f\"}},\"annotationdefaults\":{\"arrowcolor\":\"#2a3f5f\",\"arrowhead\":0,\"arrowwidth\":1},\"geo\":{\"bgcolor\":\"white\",\"landcolor\":\"#E5ECF6\",\"subunitcolor\":\"white\",\"showland\":true,\"showlakes\":true,\"lakecolor\":\"white\"},\"title\":{\"x\":0.05},\"mapbox\":{\"style\":\"light\"}}},\"legend\":{\"tracegroupgap\":0},\"title\":{\"text\":\"Recovery Success Rate by Collection Method\"},\"piecolorway\":[\"rgb(103,0,31)\",\"rgb(178,24,43)\",\"rgb(214,96,77)\",\"rgb(244,165,130)\",\"rgb(253,219,199)\",\"rgb(247,247,247)\",\"rgb(209,229,240)\",\"rgb(146,197,222)\",\"rgb(67,147,195)\",\"rgb(33,102,172)\",\"rgb(5,48,97)\"]},                        {\"responsive\": true}                    ).then(function(){\n",
              "                            \n",
              "var gd = document.getElementById('4ee058a5-1103-43c2-b127-f87e5fb69e6d');\n",
              "var x = new MutationObserver(function (mutations, observer) {{\n",
              "        var display = window.getComputedStyle(gd).display;\n",
              "        if (!display || display === 'none') {{\n",
              "            console.log([gd, 'removed!']);\n",
              "            Plotly.purge(gd);\n",
              "            observer.disconnect();\n",
              "        }}\n",
              "}});\n",
              "\n",
              "// Listen for the removal of the full notebook cells\n",
              "var notebookContainer = gd.closest('#notebook-container');\n",
              "if (notebookContainer) {{\n",
              "    x.observe(notebookContainer, {childList: true});\n",
              "}}\n",
              "\n",
              "// Listen for the clearing of the current output cell\n",
              "var outputEl = gd.closest('.output');\n",
              "if (outputEl) {{\n",
              "    x.observe(outputEl, {childList: true});\n",
              "}}\n",
              "\n",
              "                        })                };                            </script>        </div>\n",
              "</body>\n",
              "</html>"
            ]
          },
          "metadata": {}
        }
      ],
      "source": [
        "success_rate = loan_df.groupby('Collection_Method').agg({'Recovery_Status':'count'}).reset_index()\n",
        "print(success_rate)\n",
        "\n",
        "fig = px.pie(\n",
        "    success_rate,\n",
        "    names='Collection_Method',\n",
        "    values='Recovery_Status',\n",
        "    title='Recovery Success Rate by Collection Method',\n",
        "    hole=0.6,\n",
        "    color_discrete_sequence=px.colors.sequential.RdBu\n",
        ")\n",
        "\n",
        "fig.update_layout(\n",
        "    title=\"Recovery Success Rate by Collection Method\"\n",
        ")"
      ]
    },
    {
      "cell_type": "markdown",
      "metadata": {
        "id": "PW60KkL7GVSt"
      },
      "source": [
        "# How payment attacks the loan recovery status"
      ]
    },
    {
      "cell_type": "code",
      "execution_count": null,
      "metadata": {
        "colab": {
          "base_uri": "https://localhost:8080/",
          "height": 629
        },
        "id": "70mTol0-BHeV",
        "outputId": "c670c5e1-e865-4f05-d56a-977ade6ad0c1"
      },
      "outputs": [
        {
          "name": "stdout",
          "output_type": "stream",
          "text": [
            "Recovery_Status  Fully Recovered  Partially Recovered  Written Off\n",
            "Payment_History                                                   \n",
            "Delayed                       79                   46           15\n",
            "Missed                        35                   14            5\n",
            "On-Time                      182                   94           30\n"
          ]
        },
        {
          "data": {
            "text/html": [
              "<html>\n",
              "<head><meta charset=\"utf-8\" /></head>\n",
              "<body>\n",
              "    <div>            <script src=\"https://cdnjs.cloudflare.com/ajax/libs/mathjax/2.7.5/MathJax.js?config=TeX-AMS-MML_SVG\"></script><script type=\"text/javascript\">if (window.MathJax && window.MathJax.Hub && window.MathJax.Hub.Config) {window.MathJax.Hub.Config({SVG: {font: \"STIX-Web\"}});}</script>                <script type=\"text/javascript\">window.PlotlyConfig = {MathJaxConfig: 'local'};</script>\n",
              "        <script charset=\"utf-8\" src=\"https://cdn.plot.ly/plotly-2.35.2.min.js\"></script>                <div id=\"a3eacfa4-d70c-475a-a1b6-f93cbf4d2b87\" class=\"plotly-graph-div\" style=\"height:525px; width:100%;\"></div>            <script type=\"text/javascript\">                                    window.PLOTLYENV=window.PLOTLYENV || {};                                    if (document.getElementById(\"a3eacfa4-d70c-475a-a1b6-f93cbf4d2b87\")) {                    Plotly.newPlot(                        \"a3eacfa4-d70c-475a-a1b6-f93cbf4d2b87\",                        [{\"alignmentgroup\":\"True\",\"error_y\":{\"array\":[\"Fully Recovered\",\"Partially Recovered\",\"Written Off\"]},\"hovertemplate\":\"Recovery_Status=Fully Recovered\\u003cbr\\u003ePayment_History=%{x}\\u003cbr\\u003evalue=%{y}\\u003cextra\\u003e\\u003c\\u002fextra\\u003e\",\"legendgroup\":\"Fully Recovered\",\"marker\":{\"color\":\"#636efa\",\"pattern\":{\"shape\":\"\"}},\"name\":\"Fully Recovered\",\"offsetgroup\":\"Fully Recovered\",\"orientation\":\"v\",\"showlegend\":true,\"textposition\":\"auto\",\"x\":[\"Delayed\",\"Missed\",\"On-Time\"],\"xaxis\":\"x\",\"y\":[79,35,182],\"yaxis\":\"y\",\"type\":\"bar\"},{\"alignmentgroup\":\"True\",\"error_y\":{\"array\":[\"Fully Recovered\",\"Partially Recovered\",\"Written Off\"]},\"hovertemplate\":\"Recovery_Status=Partially Recovered\\u003cbr\\u003ePayment_History=%{x}\\u003cbr\\u003evalue=%{y}\\u003cextra\\u003e\\u003c\\u002fextra\\u003e\",\"legendgroup\":\"Partially Recovered\",\"marker\":{\"color\":\"#EF553B\",\"pattern\":{\"shape\":\"\"}},\"name\":\"Partially Recovered\",\"offsetgroup\":\"Partially Recovered\",\"orientation\":\"v\",\"showlegend\":true,\"textposition\":\"auto\",\"x\":[\"Delayed\",\"Missed\",\"On-Time\"],\"xaxis\":\"x\",\"y\":[46,14,94],\"yaxis\":\"y\",\"type\":\"bar\"},{\"alignmentgroup\":\"True\",\"error_y\":{\"array\":[\"Fully Recovered\",\"Partially Recovered\",\"Written Off\"]},\"hovertemplate\":\"Recovery_Status=Written Off\\u003cbr\\u003ePayment_History=%{x}\\u003cbr\\u003evalue=%{y}\\u003cextra\\u003e\\u003c\\u002fextra\\u003e\",\"legendgroup\":\"Written Off\",\"marker\":{\"color\":\"#00cc96\",\"pattern\":{\"shape\":\"\"}},\"name\":\"Written Off\",\"offsetgroup\":\"Written Off\",\"orientation\":\"v\",\"showlegend\":true,\"textposition\":\"auto\",\"x\":[\"Delayed\",\"Missed\",\"On-Time\"],\"xaxis\":\"x\",\"y\":[15,5,30],\"yaxis\":\"y\",\"type\":\"bar\"}],                        {\"template\":{\"data\":{\"histogram2dcontour\":[{\"type\":\"histogram2dcontour\",\"colorbar\":{\"outlinewidth\":0,\"ticks\":\"\"},\"colorscale\":[[0.0,\"#0d0887\"],[0.1111111111111111,\"#46039f\"],[0.2222222222222222,\"#7201a8\"],[0.3333333333333333,\"#9c179e\"],[0.4444444444444444,\"#bd3786\"],[0.5555555555555556,\"#d8576b\"],[0.6666666666666666,\"#ed7953\"],[0.7777777777777778,\"#fb9f3a\"],[0.8888888888888888,\"#fdca26\"],[1.0,\"#f0f921\"]]}],\"choropleth\":[{\"type\":\"choropleth\",\"colorbar\":{\"outlinewidth\":0,\"ticks\":\"\"}}],\"histogram2d\":[{\"type\":\"histogram2d\",\"colorbar\":{\"outlinewidth\":0,\"ticks\":\"\"},\"colorscale\":[[0.0,\"#0d0887\"],[0.1111111111111111,\"#46039f\"],[0.2222222222222222,\"#7201a8\"],[0.3333333333333333,\"#9c179e\"],[0.4444444444444444,\"#bd3786\"],[0.5555555555555556,\"#d8576b\"],[0.6666666666666666,\"#ed7953\"],[0.7777777777777778,\"#fb9f3a\"],[0.8888888888888888,\"#fdca26\"],[1.0,\"#f0f921\"]]}],\"heatmap\":[{\"type\":\"heatmap\",\"colorbar\":{\"outlinewidth\":0,\"ticks\":\"\"},\"colorscale\":[[0.0,\"#0d0887\"],[0.1111111111111111,\"#46039f\"],[0.2222222222222222,\"#7201a8\"],[0.3333333333333333,\"#9c179e\"],[0.4444444444444444,\"#bd3786\"],[0.5555555555555556,\"#d8576b\"],[0.6666666666666666,\"#ed7953\"],[0.7777777777777778,\"#fb9f3a\"],[0.8888888888888888,\"#fdca26\"],[1.0,\"#f0f921\"]]}],\"heatmapgl\":[{\"type\":\"heatmapgl\",\"colorbar\":{\"outlinewidth\":0,\"ticks\":\"\"},\"colorscale\":[[0.0,\"#0d0887\"],[0.1111111111111111,\"#46039f\"],[0.2222222222222222,\"#7201a8\"],[0.3333333333333333,\"#9c179e\"],[0.4444444444444444,\"#bd3786\"],[0.5555555555555556,\"#d8576b\"],[0.6666666666666666,\"#ed7953\"],[0.7777777777777778,\"#fb9f3a\"],[0.8888888888888888,\"#fdca26\"],[1.0,\"#f0f921\"]]}],\"contourcarpet\":[{\"type\":\"contourcarpet\",\"colorbar\":{\"outlinewidth\":0,\"ticks\":\"\"}}],\"contour\":[{\"type\":\"contour\",\"colorbar\":{\"outlinewidth\":0,\"ticks\":\"\"},\"colorscale\":[[0.0,\"#0d0887\"],[0.1111111111111111,\"#46039f\"],[0.2222222222222222,\"#7201a8\"],[0.3333333333333333,\"#9c179e\"],[0.4444444444444444,\"#bd3786\"],[0.5555555555555556,\"#d8576b\"],[0.6666666666666666,\"#ed7953\"],[0.7777777777777778,\"#fb9f3a\"],[0.8888888888888888,\"#fdca26\"],[1.0,\"#f0f921\"]]}],\"surface\":[{\"type\":\"surface\",\"colorbar\":{\"outlinewidth\":0,\"ticks\":\"\"},\"colorscale\":[[0.0,\"#0d0887\"],[0.1111111111111111,\"#46039f\"],[0.2222222222222222,\"#7201a8\"],[0.3333333333333333,\"#9c179e\"],[0.4444444444444444,\"#bd3786\"],[0.5555555555555556,\"#d8576b\"],[0.6666666666666666,\"#ed7953\"],[0.7777777777777778,\"#fb9f3a\"],[0.8888888888888888,\"#fdca26\"],[1.0,\"#f0f921\"]]}],\"mesh3d\":[{\"type\":\"mesh3d\",\"colorbar\":{\"outlinewidth\":0,\"ticks\":\"\"}}],\"scatter\":[{\"fillpattern\":{\"fillmode\":\"overlay\",\"size\":10,\"solidity\":0.2},\"type\":\"scatter\"}],\"parcoords\":[{\"type\":\"parcoords\",\"line\":{\"colorbar\":{\"outlinewidth\":0,\"ticks\":\"\"}}}],\"scatterpolargl\":[{\"type\":\"scatterpolargl\",\"marker\":{\"colorbar\":{\"outlinewidth\":0,\"ticks\":\"\"}}}],\"bar\":[{\"error_x\":{\"color\":\"#2a3f5f\"},\"error_y\":{\"color\":\"#2a3f5f\"},\"marker\":{\"line\":{\"color\":\"#E5ECF6\",\"width\":0.5},\"pattern\":{\"fillmode\":\"overlay\",\"size\":10,\"solidity\":0.2}},\"type\":\"bar\"}],\"scattergeo\":[{\"type\":\"scattergeo\",\"marker\":{\"colorbar\":{\"outlinewidth\":0,\"ticks\":\"\"}}}],\"scatterpolar\":[{\"type\":\"scatterpolar\",\"marker\":{\"colorbar\":{\"outlinewidth\":0,\"ticks\":\"\"}}}],\"histogram\":[{\"marker\":{\"pattern\":{\"fillmode\":\"overlay\",\"size\":10,\"solidity\":0.2}},\"type\":\"histogram\"}],\"scattergl\":[{\"type\":\"scattergl\",\"marker\":{\"colorbar\":{\"outlinewidth\":0,\"ticks\":\"\"}}}],\"scatter3d\":[{\"type\":\"scatter3d\",\"line\":{\"colorbar\":{\"outlinewidth\":0,\"ticks\":\"\"}},\"marker\":{\"colorbar\":{\"outlinewidth\":0,\"ticks\":\"\"}}}],\"scattermapbox\":[{\"type\":\"scattermapbox\",\"marker\":{\"colorbar\":{\"outlinewidth\":0,\"ticks\":\"\"}}}],\"scatterternary\":[{\"type\":\"scatterternary\",\"marker\":{\"colorbar\":{\"outlinewidth\":0,\"ticks\":\"\"}}}],\"scattercarpet\":[{\"type\":\"scattercarpet\",\"marker\":{\"colorbar\":{\"outlinewidth\":0,\"ticks\":\"\"}}}],\"carpet\":[{\"aaxis\":{\"endlinecolor\":\"#2a3f5f\",\"gridcolor\":\"white\",\"linecolor\":\"white\",\"minorgridcolor\":\"white\",\"startlinecolor\":\"#2a3f5f\"},\"baxis\":{\"endlinecolor\":\"#2a3f5f\",\"gridcolor\":\"white\",\"linecolor\":\"white\",\"minorgridcolor\":\"white\",\"startlinecolor\":\"#2a3f5f\"},\"type\":\"carpet\"}],\"table\":[{\"cells\":{\"fill\":{\"color\":\"#EBF0F8\"},\"line\":{\"color\":\"white\"}},\"header\":{\"fill\":{\"color\":\"#C8D4E3\"},\"line\":{\"color\":\"white\"}},\"type\":\"table\"}],\"barpolar\":[{\"marker\":{\"line\":{\"color\":\"#E5ECF6\",\"width\":0.5},\"pattern\":{\"fillmode\":\"overlay\",\"size\":10,\"solidity\":0.2}},\"type\":\"barpolar\"}],\"pie\":[{\"automargin\":true,\"type\":\"pie\"}]},\"layout\":{\"autotypenumbers\":\"strict\",\"colorway\":[\"#636efa\",\"#EF553B\",\"#00cc96\",\"#ab63fa\",\"#FFA15A\",\"#19d3f3\",\"#FF6692\",\"#B6E880\",\"#FF97FF\",\"#FECB52\"],\"font\":{\"color\":\"#2a3f5f\"},\"hovermode\":\"closest\",\"hoverlabel\":{\"align\":\"left\"},\"paper_bgcolor\":\"white\",\"plot_bgcolor\":\"#E5ECF6\",\"polar\":{\"bgcolor\":\"#E5ECF6\",\"angularaxis\":{\"gridcolor\":\"white\",\"linecolor\":\"white\",\"ticks\":\"\"},\"radialaxis\":{\"gridcolor\":\"white\",\"linecolor\":\"white\",\"ticks\":\"\"}},\"ternary\":{\"bgcolor\":\"#E5ECF6\",\"aaxis\":{\"gridcolor\":\"white\",\"linecolor\":\"white\",\"ticks\":\"\"},\"baxis\":{\"gridcolor\":\"white\",\"linecolor\":\"white\",\"ticks\":\"\"},\"caxis\":{\"gridcolor\":\"white\",\"linecolor\":\"white\",\"ticks\":\"\"}},\"coloraxis\":{\"colorbar\":{\"outlinewidth\":0,\"ticks\":\"\"}},\"colorscale\":{\"sequential\":[[0.0,\"#0d0887\"],[0.1111111111111111,\"#46039f\"],[0.2222222222222222,\"#7201a8\"],[0.3333333333333333,\"#9c179e\"],[0.4444444444444444,\"#bd3786\"],[0.5555555555555556,\"#d8576b\"],[0.6666666666666666,\"#ed7953\"],[0.7777777777777778,\"#fb9f3a\"],[0.8888888888888888,\"#fdca26\"],[1.0,\"#f0f921\"]],\"sequentialminus\":[[0.0,\"#0d0887\"],[0.1111111111111111,\"#46039f\"],[0.2222222222222222,\"#7201a8\"],[0.3333333333333333,\"#9c179e\"],[0.4444444444444444,\"#bd3786\"],[0.5555555555555556,\"#d8576b\"],[0.6666666666666666,\"#ed7953\"],[0.7777777777777778,\"#fb9f3a\"],[0.8888888888888888,\"#fdca26\"],[1.0,\"#f0f921\"]],\"diverging\":[[0,\"#8e0152\"],[0.1,\"#c51b7d\"],[0.2,\"#de77ae\"],[0.3,\"#f1b6da\"],[0.4,\"#fde0ef\"],[0.5,\"#f7f7f7\"],[0.6,\"#e6f5d0\"],[0.7,\"#b8e186\"],[0.8,\"#7fbc41\"],[0.9,\"#4d9221\"],[1,\"#276419\"]]},\"xaxis\":{\"gridcolor\":\"white\",\"linecolor\":\"white\",\"ticks\":\"\",\"title\":{\"standoff\":15},\"zerolinecolor\":\"white\",\"automargin\":true,\"zerolinewidth\":2},\"yaxis\":{\"gridcolor\":\"white\",\"linecolor\":\"white\",\"ticks\":\"\",\"title\":{\"standoff\":15},\"zerolinecolor\":\"white\",\"automargin\":true,\"zerolinewidth\":2},\"scene\":{\"xaxis\":{\"backgroundcolor\":\"#E5ECF6\",\"gridcolor\":\"white\",\"linecolor\":\"white\",\"showbackground\":true,\"ticks\":\"\",\"zerolinecolor\":\"white\",\"gridwidth\":2},\"yaxis\":{\"backgroundcolor\":\"#E5ECF6\",\"gridcolor\":\"white\",\"linecolor\":\"white\",\"showbackground\":true,\"ticks\":\"\",\"zerolinecolor\":\"white\",\"gridwidth\":2},\"zaxis\":{\"backgroundcolor\":\"#E5ECF6\",\"gridcolor\":\"white\",\"linecolor\":\"white\",\"showbackground\":true,\"ticks\":\"\",\"zerolinecolor\":\"white\",\"gridwidth\":2}},\"shapedefaults\":{\"line\":{\"color\":\"#2a3f5f\"}},\"annotationdefaults\":{\"arrowcolor\":\"#2a3f5f\",\"arrowhead\":0,\"arrowwidth\":1},\"geo\":{\"bgcolor\":\"white\",\"landcolor\":\"#E5ECF6\",\"subunitcolor\":\"white\",\"showland\":true,\"showlakes\":true,\"lakecolor\":\"white\"},\"title\":{\"x\":0.05},\"mapbox\":{\"style\":\"light\"}}},\"xaxis\":{\"anchor\":\"y\",\"domain\":[0.0,1.0],\"title\":{\"text\":\"Payment_History\"}},\"yaxis\":{\"anchor\":\"x\",\"domain\":[0.0,1.0],\"title\":{\"text\":\"value\"}},\"legend\":{\"title\":{\"text\":\"Recovery_Status\"},\"tracegroupgap\":0},\"title\":{\"text\":\"Payment Attacks on Loan Recovery Status\"},\"barmode\":\"group\"},                        {\"responsive\": true}                    ).then(function(){\n",
              "                            \n",
              "var gd = document.getElementById('a3eacfa4-d70c-475a-a1b6-f93cbf4d2b87');\n",
              "var x = new MutationObserver(function (mutations, observer) {{\n",
              "        var display = window.getComputedStyle(gd).display;\n",
              "        if (!display || display === 'none') {{\n",
              "            console.log([gd, 'removed!']);\n",
              "            Plotly.purge(gd);\n",
              "            observer.disconnect();\n",
              "        }}\n",
              "}});\n",
              "\n",
              "// Listen for the removal of the full notebook cells\n",
              "var notebookContainer = gd.closest('#notebook-container');\n",
              "if (notebookContainer) {{\n",
              "    x.observe(notebookContainer, {childList: true});\n",
              "}}\n",
              "\n",
              "// Listen for the clearing of the current output cell\n",
              "var outputEl = gd.closest('.output');\n",
              "if (outputEl) {{\n",
              "    x.observe(outputEl, {childList: true});\n",
              "}}\n",
              "\n",
              "                        })                };                            </script>        </div>\n",
              "</body>\n",
              "</html>"
            ]
          },
          "metadata": {},
          "output_type": "display_data"
        }
      ],
      "source": [
        "payemnts_attacks_recovery_status = loan_df.groupby(['Payment_History'])['Recovery_Status'].value_counts().unstack().fillna(0)\n",
        "print(payemnts_attacks_recovery_status)\n",
        "\n",
        "\n",
        "fig = px.bar(\n",
        "    payemnts_attacks_recovery_status,\n",
        "    x=payemnts_attacks_recovery_status.index,\n",
        "    y=payemnts_attacks_recovery_status.columns,\n",
        "    barmode='group',\n",
        "    error_y=payemnts_attacks_recovery_status.columns,\n",
        "    title=\"Payment Attacks on Loan Recovery Status\"\n",
        ")\n",
        "fig.update_layout(\n",
        "    title=\"Payment Attacks on Loan Recovery Status\"\n",
        ")\n"
      ]
    },
    {
      "cell_type": "code",
      "execution_count": null,
      "metadata": {
        "colab": {
          "base_uri": "https://localhost:8080/",
          "height": 785
        },
        "id": "Tm63KwD4G3tg",
        "outputId": "b74ad852-aaa3-4d08-92be-773b7d0d01d0"
      },
      "outputs": [
        {
          "output_type": "stream",
          "name": "stdout",
          "text": [
            "Recovery_Status      Fully Recovered  Partially Recovered  Written Off\n",
            "Num_Missed_Payments                                                   \n",
            "0                               67.0                 42.0         10.0\n",
            "1                               71.0                 35.0         17.0\n",
            "2                               66.0                 37.0          8.0\n",
            "3                               68.0                 33.0         14.0\n",
            "4                                4.0                  1.0          0.0\n",
            "6                                6.0                  0.0          0.0\n",
            "7                                1.0                  0.0          0.0\n",
            "8                                2.0                  2.0          0.0\n",
            "9                                2.0                  1.0          0.0\n",
            "10                               3.0                  1.0          0.0\n",
            "11                               2.0                  1.0          1.0\n",
            "12                               4.0                  1.0          0.0\n"
          ]
        },
        {
          "output_type": "display_data",
          "data": {
            "text/html": [
              "<html>\n",
              "<head><meta charset=\"utf-8\" /></head>\n",
              "<body>\n",
              "    <div>            <script src=\"https://cdnjs.cloudflare.com/ajax/libs/mathjax/2.7.5/MathJax.js?config=TeX-AMS-MML_SVG\"></script><script type=\"text/javascript\">if (window.MathJax && window.MathJax.Hub && window.MathJax.Hub.Config) {window.MathJax.Hub.Config({SVG: {font: \"STIX-Web\"}});}</script>                <script type=\"text/javascript\">window.PlotlyConfig = {MathJaxConfig: 'local'};</script>\n",
              "        <script charset=\"utf-8\" src=\"https://cdn.plot.ly/plotly-2.35.2.min.js\"></script>                <div id=\"2e28949c-c41b-4061-b58b-0d984307088c\" class=\"plotly-graph-div\" style=\"height:525px; width:100%;\"></div>            <script type=\"text/javascript\">                                    window.PLOTLYENV=window.PLOTLYENV || {};                                    if (document.getElementById(\"2e28949c-c41b-4061-b58b-0d984307088c\")) {                    Plotly.newPlot(                        \"2e28949c-c41b-4061-b58b-0d984307088c\",                        [{\"alignmentgroup\":\"True\",\"hovertemplate\":\"Recovery_Status=Fully Recovered\\u003cbr\\u003eNum_Missed_Payments=%{x}\\u003cbr\\u003evalue=%{y}\\u003cextra\\u003e\\u003c\\u002fextra\\u003e\",\"legendgroup\":\"Fully Recovered\",\"marker\":{\"color\":\"#636efa\",\"pattern\":{\"shape\":\"\"}},\"name\":\"Fully Recovered\",\"offsetgroup\":\"Fully Recovered\",\"orientation\":\"v\",\"showlegend\":true,\"textposition\":\"auto\",\"x\":[0,1,2,3,4,6,7,8,9,10,11,12],\"xaxis\":\"x\",\"y\":[67.0,71.0,66.0,68.0,4.0,6.0,1.0,2.0,2.0,3.0,2.0,4.0],\"yaxis\":\"y\",\"type\":\"bar\"},{\"alignmentgroup\":\"True\",\"hovertemplate\":\"Recovery_Status=Partially Recovered\\u003cbr\\u003eNum_Missed_Payments=%{x}\\u003cbr\\u003evalue=%{y}\\u003cextra\\u003e\\u003c\\u002fextra\\u003e\",\"legendgroup\":\"Partially Recovered\",\"marker\":{\"color\":\"#EF553B\",\"pattern\":{\"shape\":\"\"}},\"name\":\"Partially Recovered\",\"offsetgroup\":\"Partially Recovered\",\"orientation\":\"v\",\"showlegend\":true,\"textposition\":\"auto\",\"x\":[0,1,2,3,4,6,7,8,9,10,11,12],\"xaxis\":\"x\",\"y\":[42.0,35.0,37.0,33.0,1.0,0.0,0.0,2.0,1.0,1.0,1.0,1.0],\"yaxis\":\"y\",\"type\":\"bar\"},{\"alignmentgroup\":\"True\",\"hovertemplate\":\"Recovery_Status=Written Off\\u003cbr\\u003eNum_Missed_Payments=%{x}\\u003cbr\\u003evalue=%{y}\\u003cextra\\u003e\\u003c\\u002fextra\\u003e\",\"legendgroup\":\"Written Off\",\"marker\":{\"color\":\"#00cc96\",\"pattern\":{\"shape\":\"\"}},\"name\":\"Written Off\",\"offsetgroup\":\"Written Off\",\"orientation\":\"v\",\"showlegend\":true,\"textposition\":\"auto\",\"x\":[0,1,2,3,4,6,7,8,9,10,11,12],\"xaxis\":\"x\",\"y\":[10.0,17.0,8.0,14.0,0.0,0.0,0.0,0.0,0.0,0.0,1.0,0.0],\"yaxis\":\"y\",\"type\":\"bar\"}],                        {\"template\":{\"data\":{\"histogram2dcontour\":[{\"type\":\"histogram2dcontour\",\"colorbar\":{\"outlinewidth\":0,\"ticks\":\"\"},\"colorscale\":[[0.0,\"#0d0887\"],[0.1111111111111111,\"#46039f\"],[0.2222222222222222,\"#7201a8\"],[0.3333333333333333,\"#9c179e\"],[0.4444444444444444,\"#bd3786\"],[0.5555555555555556,\"#d8576b\"],[0.6666666666666666,\"#ed7953\"],[0.7777777777777778,\"#fb9f3a\"],[0.8888888888888888,\"#fdca26\"],[1.0,\"#f0f921\"]]}],\"choropleth\":[{\"type\":\"choropleth\",\"colorbar\":{\"outlinewidth\":0,\"ticks\":\"\"}}],\"histogram2d\":[{\"type\":\"histogram2d\",\"colorbar\":{\"outlinewidth\":0,\"ticks\":\"\"},\"colorscale\":[[0.0,\"#0d0887\"],[0.1111111111111111,\"#46039f\"],[0.2222222222222222,\"#7201a8\"],[0.3333333333333333,\"#9c179e\"],[0.4444444444444444,\"#bd3786\"],[0.5555555555555556,\"#d8576b\"],[0.6666666666666666,\"#ed7953\"],[0.7777777777777778,\"#fb9f3a\"],[0.8888888888888888,\"#fdca26\"],[1.0,\"#f0f921\"]]}],\"heatmap\":[{\"type\":\"heatmap\",\"colorbar\":{\"outlinewidth\":0,\"ticks\":\"\"},\"colorscale\":[[0.0,\"#0d0887\"],[0.1111111111111111,\"#46039f\"],[0.2222222222222222,\"#7201a8\"],[0.3333333333333333,\"#9c179e\"],[0.4444444444444444,\"#bd3786\"],[0.5555555555555556,\"#d8576b\"],[0.6666666666666666,\"#ed7953\"],[0.7777777777777778,\"#fb9f3a\"],[0.8888888888888888,\"#fdca26\"],[1.0,\"#f0f921\"]]}],\"heatmapgl\":[{\"type\":\"heatmapgl\",\"colorbar\":{\"outlinewidth\":0,\"ticks\":\"\"},\"colorscale\":[[0.0,\"#0d0887\"],[0.1111111111111111,\"#46039f\"],[0.2222222222222222,\"#7201a8\"],[0.3333333333333333,\"#9c179e\"],[0.4444444444444444,\"#bd3786\"],[0.5555555555555556,\"#d8576b\"],[0.6666666666666666,\"#ed7953\"],[0.7777777777777778,\"#fb9f3a\"],[0.8888888888888888,\"#fdca26\"],[1.0,\"#f0f921\"]]}],\"contourcarpet\":[{\"type\":\"contourcarpet\",\"colorbar\":{\"outlinewidth\":0,\"ticks\":\"\"}}],\"contour\":[{\"type\":\"contour\",\"colorbar\":{\"outlinewidth\":0,\"ticks\":\"\"},\"colorscale\":[[0.0,\"#0d0887\"],[0.1111111111111111,\"#46039f\"],[0.2222222222222222,\"#7201a8\"],[0.3333333333333333,\"#9c179e\"],[0.4444444444444444,\"#bd3786\"],[0.5555555555555556,\"#d8576b\"],[0.6666666666666666,\"#ed7953\"],[0.7777777777777778,\"#fb9f3a\"],[0.8888888888888888,\"#fdca26\"],[1.0,\"#f0f921\"]]}],\"surface\":[{\"type\":\"surface\",\"colorbar\":{\"outlinewidth\":0,\"ticks\":\"\"},\"colorscale\":[[0.0,\"#0d0887\"],[0.1111111111111111,\"#46039f\"],[0.2222222222222222,\"#7201a8\"],[0.3333333333333333,\"#9c179e\"],[0.4444444444444444,\"#bd3786\"],[0.5555555555555556,\"#d8576b\"],[0.6666666666666666,\"#ed7953\"],[0.7777777777777778,\"#fb9f3a\"],[0.8888888888888888,\"#fdca26\"],[1.0,\"#f0f921\"]]}],\"mesh3d\":[{\"type\":\"mesh3d\",\"colorbar\":{\"outlinewidth\":0,\"ticks\":\"\"}}],\"scatter\":[{\"fillpattern\":{\"fillmode\":\"overlay\",\"size\":10,\"solidity\":0.2},\"type\":\"scatter\"}],\"parcoords\":[{\"type\":\"parcoords\",\"line\":{\"colorbar\":{\"outlinewidth\":0,\"ticks\":\"\"}}}],\"scatterpolargl\":[{\"type\":\"scatterpolargl\",\"marker\":{\"colorbar\":{\"outlinewidth\":0,\"ticks\":\"\"}}}],\"bar\":[{\"error_x\":{\"color\":\"#2a3f5f\"},\"error_y\":{\"color\":\"#2a3f5f\"},\"marker\":{\"line\":{\"color\":\"#E5ECF6\",\"width\":0.5},\"pattern\":{\"fillmode\":\"overlay\",\"size\":10,\"solidity\":0.2}},\"type\":\"bar\"}],\"scattergeo\":[{\"type\":\"scattergeo\",\"marker\":{\"colorbar\":{\"outlinewidth\":0,\"ticks\":\"\"}}}],\"scatterpolar\":[{\"type\":\"scatterpolar\",\"marker\":{\"colorbar\":{\"outlinewidth\":0,\"ticks\":\"\"}}}],\"histogram\":[{\"marker\":{\"pattern\":{\"fillmode\":\"overlay\",\"size\":10,\"solidity\":0.2}},\"type\":\"histogram\"}],\"scattergl\":[{\"type\":\"scattergl\",\"marker\":{\"colorbar\":{\"outlinewidth\":0,\"ticks\":\"\"}}}],\"scatter3d\":[{\"type\":\"scatter3d\",\"line\":{\"colorbar\":{\"outlinewidth\":0,\"ticks\":\"\"}},\"marker\":{\"colorbar\":{\"outlinewidth\":0,\"ticks\":\"\"}}}],\"scattermapbox\":[{\"type\":\"scattermapbox\",\"marker\":{\"colorbar\":{\"outlinewidth\":0,\"ticks\":\"\"}}}],\"scatterternary\":[{\"type\":\"scatterternary\",\"marker\":{\"colorbar\":{\"outlinewidth\":0,\"ticks\":\"\"}}}],\"scattercarpet\":[{\"type\":\"scattercarpet\",\"marker\":{\"colorbar\":{\"outlinewidth\":0,\"ticks\":\"\"}}}],\"carpet\":[{\"aaxis\":{\"endlinecolor\":\"#2a3f5f\",\"gridcolor\":\"white\",\"linecolor\":\"white\",\"minorgridcolor\":\"white\",\"startlinecolor\":\"#2a3f5f\"},\"baxis\":{\"endlinecolor\":\"#2a3f5f\",\"gridcolor\":\"white\",\"linecolor\":\"white\",\"minorgridcolor\":\"white\",\"startlinecolor\":\"#2a3f5f\"},\"type\":\"carpet\"}],\"table\":[{\"cells\":{\"fill\":{\"color\":\"#EBF0F8\"},\"line\":{\"color\":\"white\"}},\"header\":{\"fill\":{\"color\":\"#C8D4E3\"},\"line\":{\"color\":\"white\"}},\"type\":\"table\"}],\"barpolar\":[{\"marker\":{\"line\":{\"color\":\"#E5ECF6\",\"width\":0.5},\"pattern\":{\"fillmode\":\"overlay\",\"size\":10,\"solidity\":0.2}},\"type\":\"barpolar\"}],\"pie\":[{\"automargin\":true,\"type\":\"pie\"}]},\"layout\":{\"autotypenumbers\":\"strict\",\"colorway\":[\"#636efa\",\"#EF553B\",\"#00cc96\",\"#ab63fa\",\"#FFA15A\",\"#19d3f3\",\"#FF6692\",\"#B6E880\",\"#FF97FF\",\"#FECB52\"],\"font\":{\"color\":\"#2a3f5f\"},\"hovermode\":\"closest\",\"hoverlabel\":{\"align\":\"left\"},\"paper_bgcolor\":\"white\",\"plot_bgcolor\":\"#E5ECF6\",\"polar\":{\"bgcolor\":\"#E5ECF6\",\"angularaxis\":{\"gridcolor\":\"white\",\"linecolor\":\"white\",\"ticks\":\"\"},\"radialaxis\":{\"gridcolor\":\"white\",\"linecolor\":\"white\",\"ticks\":\"\"}},\"ternary\":{\"bgcolor\":\"#E5ECF6\",\"aaxis\":{\"gridcolor\":\"white\",\"linecolor\":\"white\",\"ticks\":\"\"},\"baxis\":{\"gridcolor\":\"white\",\"linecolor\":\"white\",\"ticks\":\"\"},\"caxis\":{\"gridcolor\":\"white\",\"linecolor\":\"white\",\"ticks\":\"\"}},\"coloraxis\":{\"colorbar\":{\"outlinewidth\":0,\"ticks\":\"\"}},\"colorscale\":{\"sequential\":[[0.0,\"#0d0887\"],[0.1111111111111111,\"#46039f\"],[0.2222222222222222,\"#7201a8\"],[0.3333333333333333,\"#9c179e\"],[0.4444444444444444,\"#bd3786\"],[0.5555555555555556,\"#d8576b\"],[0.6666666666666666,\"#ed7953\"],[0.7777777777777778,\"#fb9f3a\"],[0.8888888888888888,\"#fdca26\"],[1.0,\"#f0f921\"]],\"sequentialminus\":[[0.0,\"#0d0887\"],[0.1111111111111111,\"#46039f\"],[0.2222222222222222,\"#7201a8\"],[0.3333333333333333,\"#9c179e\"],[0.4444444444444444,\"#bd3786\"],[0.5555555555555556,\"#d8576b\"],[0.6666666666666666,\"#ed7953\"],[0.7777777777777778,\"#fb9f3a\"],[0.8888888888888888,\"#fdca26\"],[1.0,\"#f0f921\"]],\"diverging\":[[0,\"#8e0152\"],[0.1,\"#c51b7d\"],[0.2,\"#de77ae\"],[0.3,\"#f1b6da\"],[0.4,\"#fde0ef\"],[0.5,\"#f7f7f7\"],[0.6,\"#e6f5d0\"],[0.7,\"#b8e186\"],[0.8,\"#7fbc41\"],[0.9,\"#4d9221\"],[1,\"#276419\"]]},\"xaxis\":{\"gridcolor\":\"white\",\"linecolor\":\"white\",\"ticks\":\"\",\"title\":{\"standoff\":15},\"zerolinecolor\":\"white\",\"automargin\":true,\"zerolinewidth\":2},\"yaxis\":{\"gridcolor\":\"white\",\"linecolor\":\"white\",\"ticks\":\"\",\"title\":{\"standoff\":15},\"zerolinecolor\":\"white\",\"automargin\":true,\"zerolinewidth\":2},\"scene\":{\"xaxis\":{\"backgroundcolor\":\"#E5ECF6\",\"gridcolor\":\"white\",\"linecolor\":\"white\",\"showbackground\":true,\"ticks\":\"\",\"zerolinecolor\":\"white\",\"gridwidth\":2},\"yaxis\":{\"backgroundcolor\":\"#E5ECF6\",\"gridcolor\":\"white\",\"linecolor\":\"white\",\"showbackground\":true,\"ticks\":\"\",\"zerolinecolor\":\"white\",\"gridwidth\":2},\"zaxis\":{\"backgroundcolor\":\"#E5ECF6\",\"gridcolor\":\"white\",\"linecolor\":\"white\",\"showbackground\":true,\"ticks\":\"\",\"zerolinecolor\":\"white\",\"gridwidth\":2}},\"shapedefaults\":{\"line\":{\"color\":\"#2a3f5f\"}},\"annotationdefaults\":{\"arrowcolor\":\"#2a3f5f\",\"arrowhead\":0,\"arrowwidth\":1},\"geo\":{\"bgcolor\":\"white\",\"landcolor\":\"#E5ECF6\",\"subunitcolor\":\"white\",\"showland\":true,\"showlakes\":true,\"lakecolor\":\"white\"},\"title\":{\"x\":0.05},\"mapbox\":{\"style\":\"light\"}}},\"xaxis\":{\"anchor\":\"y\",\"domain\":[0.0,1.0],\"title\":{\"text\":\"Num_Missed_Payments\"}},\"yaxis\":{\"anchor\":\"x\",\"domain\":[0.0,1.0],\"title\":{\"text\":\"value\"}},\"legend\":{\"title\":{\"text\":\"Recovery_Status\"},\"tracegroupgap\":0},\"margin\":{\"t\":60},\"barmode\":\"group\",\"title\":{\"text\":\"Missed Payments on Loan Repayment Status\"}},                        {\"responsive\": true}                    ).then(function(){\n",
              "                            \n",
              "var gd = document.getElementById('2e28949c-c41b-4061-b58b-0d984307088c');\n",
              "var x = new MutationObserver(function (mutations, observer) {{\n",
              "        var display = window.getComputedStyle(gd).display;\n",
              "        if (!display || display === 'none') {{\n",
              "            console.log([gd, 'removed!']);\n",
              "            Plotly.purge(gd);\n",
              "            observer.disconnect();\n",
              "        }}\n",
              "}});\n",
              "\n",
              "// Listen for the removal of the full notebook cells\n",
              "var notebookContainer = gd.closest('#notebook-container');\n",
              "if (notebookContainer) {{\n",
              "    x.observe(notebookContainer, {childList: true});\n",
              "}}\n",
              "\n",
              "// Listen for the clearing of the current output cell\n",
              "var outputEl = gd.closest('.output');\n",
              "if (outputEl) {{\n",
              "    x.observe(outputEl, {childList: true});\n",
              "}}\n",
              "\n",
              "                        })                };                            </script>        </div>\n",
              "</body>\n",
              "</html>"
            ]
          },
          "metadata": {}
        }
      ],
      "source": [
        "#how missed payment affect the loan repayment status\n",
        "missed_payments_repayment_status = loan_df.groupby(['Num_Missed_Payments'])['Recovery_Status'].value_counts().unstack().fillna(0)\n",
        "print(missed_payments_repayment_status)\n",
        "\n",
        "fig = px.bar(\n",
        "    missed_payments_repayment_status,\n",
        "    x=missed_payments_repayment_status.index,\n",
        "    y=missed_payments_repayment_status.columns,\n",
        "    barmode='group'\n",
        "\n",
        ")\n",
        "fig.update_layout(\n",
        "    title=\"Missed Payments on Loan Repayment Status\"\n",
        ")"
      ]
    },
    {
      "cell_type": "markdown",
      "source": [
        "averge of number of missed payments as 3 that loan can fully be recovered"
      ],
      "metadata": {
        "id": "eZErCgBTV7OU"
      }
    },
    {
      "cell_type": "code",
      "execution_count": null,
      "metadata": {
        "colab": {
          "base_uri": "https://localhost:8080/",
          "height": 664
        },
        "id": "yr1uQ4-jNGiT",
        "outputId": "edcb0bc0-0b0a-44c0-cfec-27f6f1a1a226"
      },
      "outputs": [
        {
          "name": "stdout",
          "output_type": "stream",
          "text": [
            "Recovery_Status Legal_Action_Taken  Fully Recovered  Partially Recovered  \\\n",
            "0                               No              296                  154   \n",
            "1                              Yes                0                    0   \n",
            "\n",
            "Recovery_Status  Written Off  \n",
            "0                         26  \n",
            "1                         24  \n"
          ]
        },
        {
          "data": {
            "text/html": [
              "<html>\n",
              "<head><meta charset=\"utf-8\" /></head>\n",
              "<body>\n",
              "    <div>            <script src=\"https://cdnjs.cloudflare.com/ajax/libs/mathjax/2.7.5/MathJax.js?config=TeX-AMS-MML_SVG\"></script><script type=\"text/javascript\">if (window.MathJax && window.MathJax.Hub && window.MathJax.Hub.Config) {window.MathJax.Hub.Config({SVG: {font: \"STIX-Web\"}});}</script>                <script type=\"text/javascript\">window.PlotlyConfig = {MathJaxConfig: 'local'};</script>\n",
              "        <script charset=\"utf-8\" src=\"https://cdn.plot.ly/plotly-2.35.2.min.js\"></script>                <div id=\"033c2c30-4b6a-4046-8429-7c3dd5da779e\" class=\"plotly-graph-div\" style=\"height:525px; width:100%;\"></div>            <script type=\"text/javascript\">                                    window.PLOTLYENV=window.PLOTLYENV || {};                                    if (document.getElementById(\"033c2c30-4b6a-4046-8429-7c3dd5da779e\")) {                    Plotly.newPlot(                        \"033c2c30-4b6a-4046-8429-7c3dd5da779e\",                        [{\"name\":\"Fully Recovered\",\"x\":[\"No\",\"Yes\"],\"y\":[296,0],\"type\":\"bar\",\"xaxis\":\"x\",\"yaxis\":\"y\"},{\"name\":\"Default\",\"x\":[\"No\",\"Yes\"],\"y\":[154,0],\"type\":\"bar\",\"xaxis\":\"x2\",\"yaxis\":\"y2\"},{\"name\":\"Written Off\",\"x\":[\"No\",\"Yes\"],\"y\":[26,24],\"type\":\"bar\",\"xaxis\":\"x3\",\"yaxis\":\"y3\"}],                        {\"template\":{\"data\":{\"histogram2dcontour\":[{\"type\":\"histogram2dcontour\",\"colorbar\":{\"outlinewidth\":0,\"ticks\":\"\"},\"colorscale\":[[0.0,\"#0d0887\"],[0.1111111111111111,\"#46039f\"],[0.2222222222222222,\"#7201a8\"],[0.3333333333333333,\"#9c179e\"],[0.4444444444444444,\"#bd3786\"],[0.5555555555555556,\"#d8576b\"],[0.6666666666666666,\"#ed7953\"],[0.7777777777777778,\"#fb9f3a\"],[0.8888888888888888,\"#fdca26\"],[1.0,\"#f0f921\"]]}],\"choropleth\":[{\"type\":\"choropleth\",\"colorbar\":{\"outlinewidth\":0,\"ticks\":\"\"}}],\"histogram2d\":[{\"type\":\"histogram2d\",\"colorbar\":{\"outlinewidth\":0,\"ticks\":\"\"},\"colorscale\":[[0.0,\"#0d0887\"],[0.1111111111111111,\"#46039f\"],[0.2222222222222222,\"#7201a8\"],[0.3333333333333333,\"#9c179e\"],[0.4444444444444444,\"#bd3786\"],[0.5555555555555556,\"#d8576b\"],[0.6666666666666666,\"#ed7953\"],[0.7777777777777778,\"#fb9f3a\"],[0.8888888888888888,\"#fdca26\"],[1.0,\"#f0f921\"]]}],\"heatmap\":[{\"type\":\"heatmap\",\"colorbar\":{\"outlinewidth\":0,\"ticks\":\"\"},\"colorscale\":[[0.0,\"#0d0887\"],[0.1111111111111111,\"#46039f\"],[0.2222222222222222,\"#7201a8\"],[0.3333333333333333,\"#9c179e\"],[0.4444444444444444,\"#bd3786\"],[0.5555555555555556,\"#d8576b\"],[0.6666666666666666,\"#ed7953\"],[0.7777777777777778,\"#fb9f3a\"],[0.8888888888888888,\"#fdca26\"],[1.0,\"#f0f921\"]]}],\"heatmapgl\":[{\"type\":\"heatmapgl\",\"colorbar\":{\"outlinewidth\":0,\"ticks\":\"\"},\"colorscale\":[[0.0,\"#0d0887\"],[0.1111111111111111,\"#46039f\"],[0.2222222222222222,\"#7201a8\"],[0.3333333333333333,\"#9c179e\"],[0.4444444444444444,\"#bd3786\"],[0.5555555555555556,\"#d8576b\"],[0.6666666666666666,\"#ed7953\"],[0.7777777777777778,\"#fb9f3a\"],[0.8888888888888888,\"#fdca26\"],[1.0,\"#f0f921\"]]}],\"contourcarpet\":[{\"type\":\"contourcarpet\",\"colorbar\":{\"outlinewidth\":0,\"ticks\":\"\"}}],\"contour\":[{\"type\":\"contour\",\"colorbar\":{\"outlinewidth\":0,\"ticks\":\"\"},\"colorscale\":[[0.0,\"#0d0887\"],[0.1111111111111111,\"#46039f\"],[0.2222222222222222,\"#7201a8\"],[0.3333333333333333,\"#9c179e\"],[0.4444444444444444,\"#bd3786\"],[0.5555555555555556,\"#d8576b\"],[0.6666666666666666,\"#ed7953\"],[0.7777777777777778,\"#fb9f3a\"],[0.8888888888888888,\"#fdca26\"],[1.0,\"#f0f921\"]]}],\"surface\":[{\"type\":\"surface\",\"colorbar\":{\"outlinewidth\":0,\"ticks\":\"\"},\"colorscale\":[[0.0,\"#0d0887\"],[0.1111111111111111,\"#46039f\"],[0.2222222222222222,\"#7201a8\"],[0.3333333333333333,\"#9c179e\"],[0.4444444444444444,\"#bd3786\"],[0.5555555555555556,\"#d8576b\"],[0.6666666666666666,\"#ed7953\"],[0.7777777777777778,\"#fb9f3a\"],[0.8888888888888888,\"#fdca26\"],[1.0,\"#f0f921\"]]}],\"mesh3d\":[{\"type\":\"mesh3d\",\"colorbar\":{\"outlinewidth\":0,\"ticks\":\"\"}}],\"scatter\":[{\"fillpattern\":{\"fillmode\":\"overlay\",\"size\":10,\"solidity\":0.2},\"type\":\"scatter\"}],\"parcoords\":[{\"type\":\"parcoords\",\"line\":{\"colorbar\":{\"outlinewidth\":0,\"ticks\":\"\"}}}],\"scatterpolargl\":[{\"type\":\"scatterpolargl\",\"marker\":{\"colorbar\":{\"outlinewidth\":0,\"ticks\":\"\"}}}],\"bar\":[{\"error_x\":{\"color\":\"#2a3f5f\"},\"error_y\":{\"color\":\"#2a3f5f\"},\"marker\":{\"line\":{\"color\":\"#E5ECF6\",\"width\":0.5},\"pattern\":{\"fillmode\":\"overlay\",\"size\":10,\"solidity\":0.2}},\"type\":\"bar\"}],\"scattergeo\":[{\"type\":\"scattergeo\",\"marker\":{\"colorbar\":{\"outlinewidth\":0,\"ticks\":\"\"}}}],\"scatterpolar\":[{\"type\":\"scatterpolar\",\"marker\":{\"colorbar\":{\"outlinewidth\":0,\"ticks\":\"\"}}}],\"histogram\":[{\"marker\":{\"pattern\":{\"fillmode\":\"overlay\",\"size\":10,\"solidity\":0.2}},\"type\":\"histogram\"}],\"scattergl\":[{\"type\":\"scattergl\",\"marker\":{\"colorbar\":{\"outlinewidth\":0,\"ticks\":\"\"}}}],\"scatter3d\":[{\"type\":\"scatter3d\",\"line\":{\"colorbar\":{\"outlinewidth\":0,\"ticks\":\"\"}},\"marker\":{\"colorbar\":{\"outlinewidth\":0,\"ticks\":\"\"}}}],\"scattermapbox\":[{\"type\":\"scattermapbox\",\"marker\":{\"colorbar\":{\"outlinewidth\":0,\"ticks\":\"\"}}}],\"scatterternary\":[{\"type\":\"scatterternary\",\"marker\":{\"colorbar\":{\"outlinewidth\":0,\"ticks\":\"\"}}}],\"scattercarpet\":[{\"type\":\"scattercarpet\",\"marker\":{\"colorbar\":{\"outlinewidth\":0,\"ticks\":\"\"}}}],\"carpet\":[{\"aaxis\":{\"endlinecolor\":\"#2a3f5f\",\"gridcolor\":\"white\",\"linecolor\":\"white\",\"minorgridcolor\":\"white\",\"startlinecolor\":\"#2a3f5f\"},\"baxis\":{\"endlinecolor\":\"#2a3f5f\",\"gridcolor\":\"white\",\"linecolor\":\"white\",\"minorgridcolor\":\"white\",\"startlinecolor\":\"#2a3f5f\"},\"type\":\"carpet\"}],\"table\":[{\"cells\":{\"fill\":{\"color\":\"#EBF0F8\"},\"line\":{\"color\":\"white\"}},\"header\":{\"fill\":{\"color\":\"#C8D4E3\"},\"line\":{\"color\":\"white\"}},\"type\":\"table\"}],\"barpolar\":[{\"marker\":{\"line\":{\"color\":\"#E5ECF6\",\"width\":0.5},\"pattern\":{\"fillmode\":\"overlay\",\"size\":10,\"solidity\":0.2}},\"type\":\"barpolar\"}],\"pie\":[{\"automargin\":true,\"type\":\"pie\"}]},\"layout\":{\"autotypenumbers\":\"strict\",\"colorway\":[\"#636efa\",\"#EF553B\",\"#00cc96\",\"#ab63fa\",\"#FFA15A\",\"#19d3f3\",\"#FF6692\",\"#B6E880\",\"#FF97FF\",\"#FECB52\"],\"font\":{\"color\":\"#2a3f5f\"},\"hovermode\":\"closest\",\"hoverlabel\":{\"align\":\"left\"},\"paper_bgcolor\":\"white\",\"plot_bgcolor\":\"#E5ECF6\",\"polar\":{\"bgcolor\":\"#E5ECF6\",\"angularaxis\":{\"gridcolor\":\"white\",\"linecolor\":\"white\",\"ticks\":\"\"},\"radialaxis\":{\"gridcolor\":\"white\",\"linecolor\":\"white\",\"ticks\":\"\"}},\"ternary\":{\"bgcolor\":\"#E5ECF6\",\"aaxis\":{\"gridcolor\":\"white\",\"linecolor\":\"white\",\"ticks\":\"\"},\"baxis\":{\"gridcolor\":\"white\",\"linecolor\":\"white\",\"ticks\":\"\"},\"caxis\":{\"gridcolor\":\"white\",\"linecolor\":\"white\",\"ticks\":\"\"}},\"coloraxis\":{\"colorbar\":{\"outlinewidth\":0,\"ticks\":\"\"}},\"colorscale\":{\"sequential\":[[0.0,\"#0d0887\"],[0.1111111111111111,\"#46039f\"],[0.2222222222222222,\"#7201a8\"],[0.3333333333333333,\"#9c179e\"],[0.4444444444444444,\"#bd3786\"],[0.5555555555555556,\"#d8576b\"],[0.6666666666666666,\"#ed7953\"],[0.7777777777777778,\"#fb9f3a\"],[0.8888888888888888,\"#fdca26\"],[1.0,\"#f0f921\"]],\"sequentialminus\":[[0.0,\"#0d0887\"],[0.1111111111111111,\"#46039f\"],[0.2222222222222222,\"#7201a8\"],[0.3333333333333333,\"#9c179e\"],[0.4444444444444444,\"#bd3786\"],[0.5555555555555556,\"#d8576b\"],[0.6666666666666666,\"#ed7953\"],[0.7777777777777778,\"#fb9f3a\"],[0.8888888888888888,\"#fdca26\"],[1.0,\"#f0f921\"]],\"diverging\":[[0,\"#8e0152\"],[0.1,\"#c51b7d\"],[0.2,\"#de77ae\"],[0.3,\"#f1b6da\"],[0.4,\"#fde0ef\"],[0.5,\"#f7f7f7\"],[0.6,\"#e6f5d0\"],[0.7,\"#b8e186\"],[0.8,\"#7fbc41\"],[0.9,\"#4d9221\"],[1,\"#276419\"]]},\"xaxis\":{\"gridcolor\":\"white\",\"linecolor\":\"white\",\"ticks\":\"\",\"title\":{\"standoff\":15},\"zerolinecolor\":\"white\",\"automargin\":true,\"zerolinewidth\":2},\"yaxis\":{\"gridcolor\":\"white\",\"linecolor\":\"white\",\"ticks\":\"\",\"title\":{\"standoff\":15},\"zerolinecolor\":\"white\",\"automargin\":true,\"zerolinewidth\":2},\"scene\":{\"xaxis\":{\"backgroundcolor\":\"#E5ECF6\",\"gridcolor\":\"white\",\"linecolor\":\"white\",\"showbackground\":true,\"ticks\":\"\",\"zerolinecolor\":\"white\",\"gridwidth\":2},\"yaxis\":{\"backgroundcolor\":\"#E5ECF6\",\"gridcolor\":\"white\",\"linecolor\":\"white\",\"showbackground\":true,\"ticks\":\"\",\"zerolinecolor\":\"white\",\"gridwidth\":2},\"zaxis\":{\"backgroundcolor\":\"#E5ECF6\",\"gridcolor\":\"white\",\"linecolor\":\"white\",\"showbackground\":true,\"ticks\":\"\",\"zerolinecolor\":\"white\",\"gridwidth\":2}},\"shapedefaults\":{\"line\":{\"color\":\"#2a3f5f\"}},\"annotationdefaults\":{\"arrowcolor\":\"#2a3f5f\",\"arrowhead\":0,\"arrowwidth\":1},\"geo\":{\"bgcolor\":\"white\",\"landcolor\":\"#E5ECF6\",\"subunitcolor\":\"white\",\"showland\":true,\"showlakes\":true,\"lakecolor\":\"white\"},\"title\":{\"x\":0.05},\"mapbox\":{\"style\":\"light\"}}},\"xaxis\":{\"anchor\":\"y\",\"domain\":[0.0,0.2888888888888889]},\"yaxis\":{\"anchor\":\"x\",\"domain\":[0.0,1.0]},\"xaxis2\":{\"anchor\":\"y2\",\"domain\":[0.35555555555555557,0.6444444444444445]},\"yaxis2\":{\"anchor\":\"x2\",\"domain\":[0.0,1.0]},\"xaxis3\":{\"anchor\":\"y3\",\"domain\":[0.7111111111111111,1.0]},\"yaxis3\":{\"anchor\":\"x3\",\"domain\":[0.0,1.0]},\"annotations\":[{\"font\":{\"size\":16},\"showarrow\":false,\"text\":\"Legal Action Taken\",\"x\":0.14444444444444446,\"xanchor\":\"center\",\"xref\":\"paper\",\"y\":1.0,\"yanchor\":\"bottom\",\"yref\":\"paper\"},{\"font\":{\"size\":16},\"showarrow\":false,\"text\":\"Recovery Status\",\"x\":0.5,\"xanchor\":\"center\",\"xref\":\"paper\",\"y\":1.0,\"yanchor\":\"bottom\",\"yref\":\"paper\"},{\"font\":{\"size\":16},\"showarrow\":false,\"text\":\"Recovery Status\",\"x\":0.8555555555555556,\"xanchor\":\"center\",\"xref\":\"paper\",\"y\":1.0,\"yanchor\":\"bottom\",\"yref\":\"paper\"}],\"title\":{\"text\":\"Loan Recovery Status Based on Legal Action Taken\"}},                        {\"responsive\": true}                    ).then(function(){\n",
              "                            \n",
              "var gd = document.getElementById('033c2c30-4b6a-4046-8429-7c3dd5da779e');\n",
              "var x = new MutationObserver(function (mutations, observer) {{\n",
              "        var display = window.getComputedStyle(gd).display;\n",
              "        if (!display || display === 'none') {{\n",
              "            console.log([gd, 'removed!']);\n",
              "            Plotly.purge(gd);\n",
              "            observer.disconnect();\n",
              "        }}\n",
              "}});\n",
              "\n",
              "// Listen for the removal of the full notebook cells\n",
              "var notebookContainer = gd.closest('#notebook-container');\n",
              "if (notebookContainer) {{\n",
              "    x.observe(notebookContainer, {childList: true});\n",
              "}}\n",
              "\n",
              "// Listen for the clearing of the current output cell\n",
              "var outputEl = gd.closest('.output');\n",
              "if (outputEl) {{\n",
              "    x.observe(outputEl, {childList: true});\n",
              "}}\n",
              "\n",
              "                        })                };                            </script>        </div>\n",
              "</body>\n",
              "</html>"
            ]
          },
          "metadata": {},
          "output_type": "display_data"
        }
      ],
      "source": [
        "#how loans have been recovered based on legal action notices\n",
        "loan_recovery_status = pd.crosstab(loan_df['Legal_Action_Taken'],loan_df['Recovery_Status']).reset_index()\n",
        "print(loan_recovery_status)\n",
        "\n",
        "fig  = make_subplots(rows=1,cols=3,subplot_titles=(\"Legal Action Taken\",\"Recovery Status\",\"Recovery Status\"))\n",
        "fig.add_trace(go.Bar(x=loan_recovery_status['Legal_Action_Taken'],y=loan_recovery_status['Fully Recovered'],name=\"Fully Recovered\"),row=1,col=1)\n",
        "fig.add_trace(go.Bar(x=loan_recovery_status['Legal_Action_Taken'],y=loan_recovery_status['Partially Recovered'],name=\"Default\"),row=1,col=2)\n",
        "fig.add_trace(go.Bar(x=loan_recovery_status['Legal_Action_Taken'],y=loan_recovery_status['Written Off'],name=\"Written Off\"),row=1,col=3)\n",
        "\n",
        "fig.update_layout(\n",
        "    title=\"Loan Recovery Status Based on Legal Action Taken\"\n",
        ")"
      ]
    },
    {
      "cell_type": "markdown",
      "metadata": {
        "id": "kW7vKGfCKvT3"
      },
      "source": [
        "# Segementing the borrowers based on Loan financial information"
      ]
    },
    {
      "cell_type": "markdown",
      "metadata": {
        "id": "gJtCbZP1RTnk"
      },
      "source": [
        "performing the chi square testing to select the best features"
      ]
    },
    {
      "cell_type": "code",
      "execution_count": null,
      "metadata": {
        "colab": {
          "base_uri": "https://localhost:8080/"
        },
        "id": "R-oegDceMbhc",
        "outputId": "a68f8b94-2160-4da9-8a98-abf2aedfc868"
      },
      "outputs": [
        {
          "output_type": "stream",
          "name": "stdout",
          "text": [
            "_c0 : Accept the null hypothesis\n",
            "Borrower_ID : Accept the null hypothesis\n",
            "Age : Accept the null hypothesis\n",
            "Gender : Accept the null hypothesis\n",
            "Employment_Type : Accept the null hypothesis\n",
            "Monthly_Income : Accept the null hypothesis\n",
            "Num_Dependents : Accept the null hypothesis\n",
            "Loan_ID : Accept the null hypothesis\n",
            "Loan_Amount : Accept the null hypothesis\n",
            "Loan_Tenure : Accept the null hypothesis\n",
            "Interest_Rate : Accept the null hypothesis\n",
            "Loan_Type : Accept the null hypothesis\n",
            "Collateral_Value : Accept the null hypothesis\n",
            "Outstanding_Loan_Amount : Accept the null hypothesis\n",
            "Monthly_EMI : Accept the null hypothesis\n",
            "Payment_History : Accept the null hypothesis\n",
            "Num_Missed_Payments : Accept the null hypothesis\n",
            "Days_Past_Due : Accept the null hypothesis\n",
            "Recovery_Status : Reject the null hypothesis\n",
            "Collection_Attempts : Reject the null hypothesis\n",
            "Collection_Method : Accept the null hypothesis\n",
            "Legal_Action_Taken : Reject the null hypothesis\n",
            "Outstanding_loan_amount : Accept the null hypothesis\n"
          ]
        }
      ],
      "source": [
        "from scipy.stats import chi2_contingency\n",
        "\n",
        "for columns in loan_df.columns:\n",
        "  chi2_stats, chi2_p_value, dof, expected = chi2_contingency(pd.crosstab(loan_df[columns],loan_df['Recovery_Status']))\n",
        "  threshold_value = 0.05\n",
        "  if chi2_p_value < threshold_value:\n",
        "    print(f\"{columns} : Reject the null hypothesis\")\n",
        "  else:\n",
        "    print(f\"{columns} : Accept the null hypothesis\")"
      ]
    },
    {
      "cell_type": "markdown",
      "source": [
        "selecting the best features according to domain"
      ],
      "metadata": {
        "id": "4dJ2tpyLSayo"
      }
    },
    {
      "cell_type": "code",
      "execution_count": null,
      "metadata": {
        "id": "RF2NRLo-aFpE",
        "colab": {
          "base_uri": "https://localhost:8080/"
        },
        "outputId": "2954224d-ddc1-47a9-fe14-ebdaaf3a1d1d"
      },
      "outputs": [
        {
          "output_type": "stream",
          "name": "stdout",
          "text": [
            "     Age  Monthly_Income  Loan_Amount  Loan_Tenure  Interest_Rate  \\\n",
            "0     59          215422      1445796           60          12.39   \n",
            "1     49           60893      1044620           12          13.47   \n",
            "2     35          116520      1923410           72           7.74   \n",
            "3     63          140818      1811663           36          12.23   \n",
            "4     28           76272        88578           48          16.13   \n",
            "..   ...             ...          ...          ...            ...   \n",
            "495   46          248483       740796           72          16.59   \n",
            "496   30          243590      1408126           60          11.03   \n",
            "497   46          113864       375203           48           9.16   \n",
            "498   54          158401      1769890           24          11.19   \n",
            "499   61           40169       394866           12           9.14   \n",
            "\n",
            "     Collateral_Value  Outstanding_Loan_Amount  Monthly_EMI Payment_History  \\\n",
            "0             1727997             2.914130e+05         4856         On-Time   \n",
            "1             1180032             6.652042e+05        55433         On-Time   \n",
            "2             2622539             1.031372e+06        14324         Delayed   \n",
            "3             1145492             2.249739e+05         6249         On-Time   \n",
            "4                   0             3.918989e+04          816         On-Time   \n",
            "..                ...                      ...          ...             ...   \n",
            "495                 0             4.135285e+05         5743         Delayed   \n",
            "496                 0             3.173740e+05         5289         Delayed   \n",
            "497                 0             3.300302e+05         6875         Delayed   \n",
            "498           1272774             1.565339e+06        65222         On-Time   \n",
            "499                 0             1.881581e+05        15679         On-Time   \n",
            "\n",
            "     Num_Missed_Payments  Days_Past_Due  \n",
            "0                      0              0  \n",
            "1                      0              0  \n",
            "2                      2            124  \n",
            "3                      1             56  \n",
            "4                      1             69  \n",
            "..                   ...            ...  \n",
            "495                    2            169  \n",
            "496                    2            102  \n",
            "497                    3            140  \n",
            "498                    3              9  \n",
            "499                    1            116  \n",
            "\n",
            "[500 rows x 11 columns]\n"
          ]
        }
      ],
      "source": [
        "features = ['Age','Monthly_Income','Loan_Amount','Loan_Tenure','Interest_Rate','Collateral_Value','Outstanding_Loan_Amount','Monthly_EMI','Payment_History','Num_Missed_Payments',\n",
        "    'Days_Past_Due']\n",
        "\n",
        "features_df = loan_df[features]\n",
        "print(features_df)"
      ]
    },
    {
      "cell_type": "markdown",
      "source": [
        "scaling the features into one dimension"
      ],
      "metadata": {
        "id": "EAlYY-4Z4REu"
      }
    },
    {
      "cell_type": "code",
      "source": [
        "#converting the columns into numerical representation\n",
        "features_df['Payment_History'] = LabelEncoder().fit_transform(features_df['Payment_History'])\n",
        "\n",
        "#now scalimg down the features into one dimensional arrya\n",
        "def standarized_function(features_df):\n",
        "  scaler = StandardScaler()\n",
        "  scaled_features = scaler.fit_transform(features_df)\n",
        "  return scaled_features\n",
        "\n",
        "scaled_features = standarized_function(features_df)\n",
        "print(scaled_features)\n"
      ],
      "metadata": {
        "colab": {
          "base_uri": "https://localhost:8080/"
        },
        "id": "FBya-x9d4QBp",
        "outputId": "bb9bdc2e-4098-4b71-dae0-c9c497cd6025"
      },
      "execution_count": null,
      "outputs": [
        {
          "output_type": "stream",
          "name": "stdout",
          "text": [
            "[[ 1.24869528  1.16969038  0.71317223 ...  0.75550144 -0.90696046\n",
            "  -1.17501354]\n",
            " [ 0.46256126 -1.07309929  0.03340249 ...  0.75550144 -0.90696046\n",
            "  -1.17501354]\n",
            " [-0.63802637 -0.26574494  1.52246178 ... -1.50647892  0.04174295\n",
            "   0.88647205]\n",
            " ...\n",
            " [ 0.22672105 -0.30429336 -1.10088624 ... -1.50647892  0.51609466\n",
            "   1.15247019]\n",
            " [ 0.85562827  0.34210391  1.26233094 ...  0.75550144  0.51609466\n",
            "  -1.02538958]\n",
            " [ 1.40592208 -1.3738815  -1.06756842 ...  0.75550144 -0.43260876\n",
            "   0.75347298]]\n"
          ]
        }
      ]
    },
    {
      "cell_type": "code",
      "source": [
        "new_features_df = pd.DataFrame(scaled_features,columns=features_df.columns)\n",
        "print(new_features_df)"
      ],
      "metadata": {
        "colab": {
          "base_uri": "https://localhost:8080/"
        },
        "id": "8y6GiYfo5eJ7",
        "outputId": "a58b75de-141e-4679-87ee-35556ec51303"
      },
      "execution_count": null,
      "outputs": [
        {
          "output_type": "stream",
          "name": "stdout",
          "text": [
            "          Age  Monthly_Income  Loan_Amount  Loan_Tenure  Interest_Rate  \\\n",
            "0    1.248695        1.169690     0.713172     0.762728       0.317434   \n",
            "1    0.462561       -1.073099     0.033402    -1.871911       0.603797   \n",
            "2   -0.638026       -0.265745     1.522462     1.421388      -0.915520   \n",
            "3    1.563149        0.086909     1.333113    -0.554592       0.275010   \n",
            "4   -1.188320       -0.849893    -1.586556     0.104068       1.309099   \n",
            "..        ...             ...          ...          ...            ...   \n",
            "495  0.226721        1.649528    -0.481410     1.421388       1.431069   \n",
            "496 -1.031093        1.578513     0.649343     0.762728      -0.043172   \n",
            "497  0.226721       -0.304293    -1.100886     0.104068      -0.539005   \n",
            "498  0.855628        0.342104     1.262331    -1.213251      -0.000748   \n",
            "499  1.405922       -1.373881    -1.067568    -1.871911      -0.544308   \n",
            "\n",
            "     Collateral_Value  Outstanding_Loan_Amount  Monthly_EMI  Payment_History  \\\n",
            "0            1.509830                -0.574955    -0.588804         0.755501   \n",
            "1            0.774274                 0.217167     2.117222         0.755501   \n",
            "2            2.710611                 0.993135    -0.082236        -1.506479   \n",
            "3            0.727909                -0.715750    -0.514274         0.755501   \n",
            "4           -0.809732                -1.109456    -0.804956         0.755501   \n",
            "..                ...                      ...          ...              ...   \n",
            "495         -0.809732                -0.316173    -0.541346        -1.506479   \n",
            "496         -0.809732                -0.519940    -0.565637        -1.506479   \n",
            "497         -0.809732                -0.493119    -0.480781        -1.506479   \n",
            "498          0.898765                 2.124696     2.640964         0.755501   \n",
            "499         -0.809732                -0.793769    -0.009740         0.755501   \n",
            "\n",
            "     Num_Missed_Payments  Days_Past_Due  \n",
            "0              -0.906960      -1.175014  \n",
            "1              -0.906960      -1.175014  \n",
            "2               0.041743       0.886472  \n",
            "3              -0.432609      -0.244020  \n",
            "4              -0.432609      -0.027897  \n",
            "..                   ...            ...  \n",
            "495             0.041743       1.634592  \n",
            "496             0.041743       0.520725  \n",
            "497             0.516095       1.152470  \n",
            "498             0.516095      -1.025390  \n",
            "499            -0.432609       0.753473  \n",
            "\n",
            "[500 rows x 11 columns]\n"
          ]
        }
      ]
    },
    {
      "cell_type": "code",
      "source": [
        "fig , ax = plt.subplots(nrows=2,ncols=2,figsize=(10,5))\n",
        "fig.suptitle(\"Features Distribution\")\n",
        "fig.subplots_adjust(hspace=0.5)\n",
        "\n",
        "\n",
        "\n",
        "sns.scatterplot(features_df,x=\"Age\",y=\"Monthly_Income\",ax=ax[0,0])\n",
        "sns.distplot(features_df['Age'],ax=ax[0,1])\n",
        "sns.scatterplot(new_features_df,x=\"Age\",y=\"Monthly_Income\",ax=ax[1,0])\n",
        "sns.distplot(new_features_df['Monthly_Income'],ax=ax[1,1])\n",
        "ax[0,0].set_title(\"Age vs Monthly Income\")\n",
        "ax[1,0].set_title(\"Scaled Age vs Scaled Monthly Income\")"
      ],
      "metadata": {
        "colab": {
          "base_uri": "https://localhost:8080/",
          "height": 532
        },
        "id": "QWejeQyp5K-K",
        "outputId": "a72f61a3-7d7b-432e-a3c1-235d58eb6461"
      },
      "execution_count": null,
      "outputs": [
        {
          "output_type": "execute_result",
          "data": {
            "text/plain": [
              "Text(0.5, 1.0, 'Scaled Age vs Scaled Monthly Income')"
            ]
          },
          "metadata": {},
          "execution_count": 199
        },
        {
          "output_type": "display_data",
          "data": {
            "text/plain": [
              "<Figure size 1000x500 with 4 Axes>"
            ],
            "image/png": "[encoded data removed]"
          },
          "metadata": {}
        }
      ]
    },
    {
      "cell_type": "markdown",
      "source": [
        "splitting the features into train test purpose"
      ],
      "metadata": {
        "id": "mpsJyIk67WHk"
      }
    },
    {
      "cell_type": "code",
      "source": [
        "class train_test_splitter:\n",
        "\n",
        "  def __init__(self,new_features_df):\n",
        "    self.new_features_df = new_features_df\n",
        "    self.train_size = 0.7\n",
        "    self.test_size = 0.3\n",
        "    self.random_state = np.random.randint(low=1,high=100)\n",
        "\n",
        "  def split_features(self):\n",
        "    X_train , X_test = train_test_split(self.new_features_df,train_size=self.train_size,test_size=self.test_size,random_state=self.random_state)\n",
        "    return X_train , X_test\n",
        "\n",
        "splitter = train_test_splitter(new_features_df)\n",
        "X_train , X_test = splitter.split_features()\n",
        "print(X_train)\n",
        "print(X_test)"
      ],
      "metadata": {
        "colab": {
          "base_uri": "https://localhost:8080/"
        },
        "id": "e0swTGd11tyd",
        "outputId": "046da28d-6cab-425a-e163-83300a895896"
      },
      "execution_count": null,
      "outputs": [
        {
          "output_type": "stream",
          "name": "stdout",
          "text": [
            "          Age  Monthly_Income  Loan_Amount  Loan_Tenure  Interest_Rate  \\\n",
            "482  1.563149       -1.216175    -0.205539     0.104068      -0.318929   \n",
            "137 -0.795253       -1.056234     0.083050     0.104068       0.927282   \n",
            "306  0.305334        0.117983     0.193261     0.104068      -0.976504   \n",
            "400  1.327309        0.373381    -0.705264     0.762728       1.608720   \n",
            "43   0.148108        1.505160     1.311626    -0.554592       1.595463   \n",
            "..        ...             ...          ...          ...            ...   \n",
            "241  1.327309       -0.137589    -0.967747     0.762728      -0.324232   \n",
            "253  0.226721        0.691144     0.769790     0.762728      -0.194308   \n",
            "390 -1.188320       -0.064367    -1.460562    -1.871911      -1.119686   \n",
            "155 -1.660001       -0.019070     1.512119    -1.213251      -0.936732   \n",
            "331  0.777015       -1.483257    -0.401263    -0.554592      -0.478020   \n",
            "\n",
            "     Collateral_Value  Outstanding_Loan_Amount  Monthly_EMI  Payment_History  \\\n",
            "482          0.337661                 0.165970    -0.134081         0.755501   \n",
            "137          1.075936                -0.758950    -0.620585        -1.506479   \n",
            "306         -0.809732                 0.140972    -0.147243         0.755501   \n",
            "400         -0.809732                -0.994964    -0.765524         0.755501   \n",
            "43           2.559117                -0.101058    -0.083199         0.755501   \n",
            "..                ...                      ...          ...              ...   \n",
            "241         -0.136088                -0.301397    -0.473665         0.755501   \n",
            "253          1.358987                 0.794100    -0.012682         0.755501   \n",
            "390         -0.649721                -1.091742    -0.636635        -0.375489   \n",
            "155         -0.809732                 1.719326     2.214544        -0.375489   \n",
            "331         -0.809732                 0.125674     0.075812        -1.506479   \n",
            "\n",
            "     Num_Missed_Payments  Days_Past_Due  \n",
            "482             0.516095       0.238102  \n",
            "137            -0.906960      -1.175014  \n",
            "306            -0.432609       1.534843  \n",
            "400            -0.432609       1.800841  \n",
            "43             -0.432609      -0.975515  \n",
            "..                   ...            ...  \n",
            "241             0.516095       1.169095  \n",
            "253            -0.906960      -1.175014  \n",
            "390             2.887853       0.736848  \n",
            "155            -0.432609       1.584717  \n",
            "331            -0.432609      -0.875766  \n",
            "\n",
            "[350 rows x 11 columns]\n",
            "          Age  Monthly_Income  Loan_Amount  Loan_Tenure  Interest_Rate  \\\n",
            "475  1.091468        0.147490     0.359284    -1.871911      -1.323852   \n",
            "385 -1.345547       -0.946380    -1.280624    -0.554592      -1.432564   \n",
            "167  1.248695       -1.212025    -1.283552     0.104068       1.558342   \n",
            "40   1.248695        1.203101     1.038770    -0.554592       1.775766   \n",
            "350 -1.660001        1.424929     0.824785    -1.213251      -1.522716   \n",
            "..        ...             ...          ...          ...            ...   \n",
            "348  0.305334        1.001825    -0.566135    -1.213251       0.203419   \n",
            "251 -1.266934       -0.378560     1.006982     0.104068      -1.416655   \n",
            "152 -1.266934       -0.124106    -1.147531     0.762728       0.982963   \n",
            "249  1.484535       -1.635390     1.643850    -0.554592      -0.592035   \n",
            "438 -1.424160       -0.557224     0.269157    -0.554592       1.293190   \n",
            "\n",
            "     Collateral_Value  Outstanding_Loan_Amount  Monthly_EMI  Payment_History  \\\n",
            "475          1.334318                -0.273902     1.084024        -0.375489   \n",
            "385         -0.809732                -0.730895    -0.524921         0.755501   \n",
            "167         -0.809732                -0.973972    -0.733690         0.755501   \n",
            "40           1.192636                -0.246419    -0.185123         0.755501   \n",
            "350         -0.809732                 0.533088     0.966638        -0.375489   \n",
            "..                ...                      ...          ...              ...   \n",
            "348         -0.809732                 0.151326     0.565044         0.755501   \n",
            "251         -0.809732                 1.169028     0.393513         0.755501   \n",
            "152         -0.326859                -0.930109    -0.738238         0.755501   \n",
            "249         -0.809732                 2.049316     1.424892        -1.506479   \n",
            "438          0.777996                 0.370564     0.247557         0.755501   \n",
            "\n",
            "     Num_Missed_Payments  Days_Past_Due  \n",
            "475             0.041743       0.670349  \n",
            "385            -0.906960      -1.175014  \n",
            "167            -0.906960      -1.175014  \n",
            "40             -0.906960      -1.175014  \n",
            "350             0.990446       1.451718  \n",
            "..                   ...            ...  \n",
            "348             0.516095       1.401843  \n",
            "251            -0.906960      -1.175014  \n",
            "152             0.041743       0.670349  \n",
            "249            -0.432609       1.152470  \n",
            "438            -0.906960      -1.175014  \n",
            "\n",
            "[150 rows x 11 columns]\n"
          ]
        }
      ]
    },
    {
      "cell_type": "markdown",
      "source": [
        "# selecting the optimal components for segements using wccs method"
      ],
      "metadata": {
        "id": "8mzug1ae8MKi"
      }
    },
    {
      "cell_type": "code",
      "source": [
        "\n",
        "#creating an wccs instance of empty list\n",
        "wccs = []\n",
        "\n",
        "#assigning the starting iteration to last iteration of clusters\n",
        "start_iter = 1\n",
        "end_iter = 11\n",
        "\n",
        "for i in range(start_iter,end_iter):\n",
        "  kmeans = KMeans(n_clusters=i,init='k-means++',random_state=42)\n",
        "  kmeans.fit(X_train)\n",
        "  wccs.append(kmeans.inertia_)\n",
        "\n",
        "#plotting the line plot to elbow distribution\n",
        "fig , ax = plt.subplots(nrows=1,ncols=2,figsize=(10,5))\n",
        "fig.subplots_adjust(hspace=0.5)\n",
        "\n",
        "#adding the elbow method\n",
        "ax[0].plot(range(start_iter,end_iter),wccs,marker='o',linestyle='--')\n",
        "ax[0].set_xlabel('Number of clusters')\n",
        "ax[0].set_ylabel('WCSS')\n",
        "\n",
        "#adding the distribution\n",
        "ax[1].bar(range(start_iter,end_iter),wccs)\n",
        "ax[1].set_xlabel('Number of clusters')\n",
        "ax[1].set_ylabel('WCSS')"
      ],
      "metadata": {
        "colab": {
          "base_uri": "https://localhost:8080/",
          "height": 484
        },
        "id": "vKiKLIQb8Weo",
        "outputId": "79c0947a-702e-4dd1-d9ee-4201233857d5"
      },
      "execution_count": null,
      "outputs": [
        {
          "output_type": "execute_result",
          "data": {
            "text/plain": [
              "Text(0, 0.5, 'WCSS')"
            ]
          },
          "metadata": {},
          "execution_count": 201
        },
        {
          "output_type": "display_data",
          "data": {
            "text/plain": [
              "<Figure size 1000x500 with 2 Axes>"
            ],
            "image/png": "[encoded data removed]"
          },
          "metadata": {}
        }
      ]
    },
    {
      "cell_type": "markdown",
      "source": [
        "selecting the optimal number of clusters as four because borrowers can be segemented into four clusters\n",
        "\n",
        "1.   Low risk\n",
        "2.   High risk\n",
        "3.   moderate Risk\n",
        "4.   deafulters\n",
        "\n"
      ],
      "metadata": {
        "id": "QY8nhYjv_cpZ"
      }
    },
    {
      "cell_type": "markdown",
      "source": [
        "# creating an clustering model using Kmeans"
      ],
      "metadata": {
        "id": "Fwr4rO_n_9Gb"
      }
    },
    {
      "cell_type": "code",
      "source": [
        "#initializing the clusters with wccs method\n",
        "class ClusteringGroup:\n",
        "  def __init__(self,X_train,X_test):\n",
        "    self.clusters = wccs.index(2567.990765627747)  #selecting the index value i.e clusters\n",
        "    self.init = \"k-means++\"\n",
        "    self.random_state = np.random.randint(low=1,high=100)\n",
        "    self.X_train = X_train\n",
        "    self.X_test = X_test\n",
        "\n",
        "  def clustering_model(self):\n",
        "    kmeans = KMeans(n_clusters=self.clusters,init=self.init,random_state=self.random_state)\n",
        "    return kmeans\n",
        "\n",
        "  def get_segments_labels(self,kmeans):\n",
        "    kmeans.fit(self.X_train)\n",
        "    segments_group = kmeans.predict(self.X_test)\n",
        "    return segments_group\n",
        "\n",
        "cluster_group = ClusteringGroup(X_train,X_test)\n",
        "kmeans = cluster_group.clustering_model()\n",
        "segments_group = cluster_group.get_segments_labels(kmeans)\n",
        "print(f\" Risk segemented groups : {segments_group}\")"
      ],
      "metadata": {
        "colab": {
          "base_uri": "https://localhost:8080/"
        },
        "id": "ggOjb76d-eDH",
        "outputId": "8f1daf6b-092d-412b-a61d-dfcf49d32eb4"
      },
      "execution_count": null,
      "outputs": [
        {
          "output_type": "stream",
          "name": "stdout",
          "text": [
            " Risk segemented groups : [3 0 2 3 1 3 2 2 3 1 0 2 1 1 2 2 2 0 0 1 2 3 0 2 3 0 3 3 0 0 3 3 3 0 0 3 0\n",
            " 3 1 0 0 0 1 3 0 3 0 2 1 1 2 0 3 0 2 2 1 1 1 0 3 1 2 1 2 2 2 2 0 2 2 1 1 3\n",
            " 3 3 1 2 2 3 0 0 3 2 0 0 3 2 0 0 0 0 2 2 2 2 2 1 1 2 3 2 0 2 1 0 3 0 2 3 0\n",
            " 0 2 2 0 2 0 2 2 1 2 3 1 2 1 0 2 3 0 2 3 2 3 2 2 0 2 2 3 0 2 0 2 2 0 2 3 2\n",
            " 3 0]\n"
          ]
        }
      ]
    },
    {
      "cell_type": "markdown",
      "source": [
        "1. 0 group = Low Risk Borrowers\n",
        "2. 1 group = Moderate Risk Borrowers\n",
        "3. 2 group = High Risk Borrowers\n",
        "3. 3 group = Defaulters"
      ],
      "metadata": {
        "id": "aaIR9z6pCrLw"
      }
    },
    {
      "cell_type": "code",
      "source": [
        "loan_df['Segments'] = kmeans.fit_predict(new_features_df)\n",
        "print(loan_df)"
      ],
      "metadata": {
        "colab": {
          "base_uri": "https://localhost:8080/"
        },
        "id": "6blN2RFqBtLT",
        "outputId": "aa346084-7ba7-41be-cb86-51c4eaa4c3b1"
      },
      "execution_count": null,
      "outputs": [
        {
          "output_type": "stream",
          "name": "stdout",
          "text": [
            "     _c0 Borrower_ID  Age  Gender Employment_Type  Monthly_Income  \\\n",
            "0      0       BRW_1   59    Male        Salaried          215422   \n",
            "1      1       BRW_2   49  Female        Salaried           60893   \n",
            "2      2       BRW_3   35    Male        Salaried          116520   \n",
            "3      3       BRW_4   63  Female        Salaried          140818   \n",
            "4      4       BRW_5   28    Male        Salaried           76272   \n",
            "..   ...         ...  ...     ...             ...             ...   \n",
            "495  495     BRW_496   46  Female        Salaried          248483   \n",
            "496  496     BRW_497   30  Female        Salaried          243590   \n",
            "497  497     BRW_498   46  Female        Salaried          113864   \n",
            "498  498     BRW_499   54    Male        Salaried          158401   \n",
            "499  499     BRW_500   61    Male   Self-Employed           40169   \n",
            "\n",
            "     Num_Dependents Loan_ID  Loan_Amount  Loan_Tenure  ...  Monthly_EMI  \\\n",
            "0                 0    LN_1      1445796           60  ...         4856   \n",
            "1                 0    LN_2      1044620           12  ...        55433   \n",
            "2                 1    LN_3      1923410           72  ...        14324   \n",
            "3                 2    LN_4      1811663           36  ...         6249   \n",
            "4                 1    LN_5        88578           48  ...          816   \n",
            "..              ...     ...          ...          ...  ...          ...   \n",
            "495               1  LN_496       740796           72  ...         5743   \n",
            "496               3  LN_497      1408126           60  ...         5289   \n",
            "497               2  LN_498       375203           48  ...         6875   \n",
            "498               2  LN_499      1769890           24  ...        65222   \n",
            "499               1  LN_500       394866           12  ...        15679   \n",
            "\n",
            "    Payment_History  Num_Missed_Payments  Days_Past_Due      Recovery_Status  \\\n",
            "0           On-Time                    0              0  Partially Recovered   \n",
            "1           On-Time                    0              0      Fully Recovered   \n",
            "2           Delayed                    2            124      Fully Recovered   \n",
            "3           On-Time                    1             56      Fully Recovered   \n",
            "4           On-Time                    1             69      Fully Recovered   \n",
            "..              ...                  ...            ...                  ...   \n",
            "495         Delayed                    2            169      Fully Recovered   \n",
            "496         Delayed                    2            102  Partially Recovered   \n",
            "497         Delayed                    3            140      Fully Recovered   \n",
            "498         On-Time                    3              9  Partially Recovered   \n",
            "499         On-Time                    1            116          Written Off   \n",
            "\n",
            "    Collection_Attempts  Collection_Method  Legal_Action_Taken  \\\n",
            "0                     1   Settlement Offer                  No   \n",
            "1                     2   Settlement Offer                  No   \n",
            "2                     2       Legal Notice                  No   \n",
            "3                     2              Calls                  No   \n",
            "4                     0    Debt Collectors                  No   \n",
            "..                  ...                ...                 ...   \n",
            "495                   2   Settlement Offer                  No   \n",
            "496                   9   Settlement Offer                  No   \n",
            "497                   3   Settlement Offer                  No   \n",
            "498                   9              Calls                  No   \n",
            "499                   6   Settlement Offer                 Yes   \n",
            "\n",
            "    Outstanding_loan_amount  Segments  \n",
            "0                    291413         2  \n",
            "1                    665204         3  \n",
            "2                   1031371         3  \n",
            "3                    224973         2  \n",
            "4                     39189         1  \n",
            "..                      ...       ...  \n",
            "495                  413528         0  \n",
            "496                  317374         0  \n",
            "497                  330030         0  \n",
            "498                 1565339         3  \n",
            "499                  188158         0  \n",
            "\n",
            "[500 rows x 24 columns]\n"
          ]
        }
      ]
    },
    {
      "cell_type": "code",
      "source": [
        "#assigned the clusters into labels\n",
        "loan_df['borrower_segments'] = loan_df['Segments'].map({0:'Low Risk',1:'Moderate Risk',2:'High Risk',3:'Defaulters'})\n",
        "print(loan_df)"
      ],
      "metadata": {
        "colab": {
          "base_uri": "https://localhost:8080/"
        },
        "id": "ZuyrSNuGGVv6",
        "outputId": "67f6f4a7-1f0c-4441-e5a4-cdafffbe9caa"
      },
      "execution_count": null,
      "outputs": [
        {
          "output_type": "stream",
          "name": "stdout",
          "text": [
            "     _c0 Borrower_ID  Age  Gender Employment_Type  Monthly_Income  \\\n",
            "0      0       BRW_1   59    Male        Salaried          215422   \n",
            "1      1       BRW_2   49  Female        Salaried           60893   \n",
            "2      2       BRW_3   35    Male        Salaried          116520   \n",
            "3      3       BRW_4   63  Female        Salaried          140818   \n",
            "4      4       BRW_5   28    Male        Salaried           76272   \n",
            "..   ...         ...  ...     ...             ...             ...   \n",
            "495  495     BRW_496   46  Female        Salaried          248483   \n",
            "496  496     BRW_497   30  Female        Salaried          243590   \n",
            "497  497     BRW_498   46  Female        Salaried          113864   \n",
            "498  498     BRW_499   54    Male        Salaried          158401   \n",
            "499  499     BRW_500   61    Male   Self-Employed           40169   \n",
            "\n",
            "     Num_Dependents Loan_ID  Loan_Amount  Loan_Tenure  ...  Payment_History  \\\n",
            "0                 0    LN_1      1445796           60  ...          On-Time   \n",
            "1                 0    LN_2      1044620           12  ...          On-Time   \n",
            "2                 1    LN_3      1923410           72  ...          Delayed   \n",
            "3                 2    LN_4      1811663           36  ...          On-Time   \n",
            "4                 1    LN_5        88578           48  ...          On-Time   \n",
            "..              ...     ...          ...          ...  ...              ...   \n",
            "495               1  LN_496       740796           72  ...          Delayed   \n",
            "496               3  LN_497      1408126           60  ...          Delayed   \n",
            "497               2  LN_498       375203           48  ...          Delayed   \n",
            "498               2  LN_499      1769890           24  ...          On-Time   \n",
            "499               1  LN_500       394866           12  ...          On-Time   \n",
            "\n",
            "    Num_Missed_Payments  Days_Past_Due      Recovery_Status  \\\n",
            "0                     0              0  Partially Recovered   \n",
            "1                     0              0      Fully Recovered   \n",
            "2                     2            124      Fully Recovered   \n",
            "3                     1             56      Fully Recovered   \n",
            "4                     1             69      Fully Recovered   \n",
            "..                  ...            ...                  ...   \n",
            "495                   2            169      Fully Recovered   \n",
            "496                   2            102  Partially Recovered   \n",
            "497                   3            140      Fully Recovered   \n",
            "498                   3              9  Partially Recovered   \n",
            "499                   1            116          Written Off   \n",
            "\n",
            "     Collection_Attempts Collection_Method  Legal_Action_Taken  \\\n",
            "0                      1  Settlement Offer                  No   \n",
            "1                      2  Settlement Offer                  No   \n",
            "2                      2      Legal Notice                  No   \n",
            "3                      2             Calls                  No   \n",
            "4                      0   Debt Collectors                  No   \n",
            "..                   ...               ...                 ...   \n",
            "495                    2  Settlement Offer                  No   \n",
            "496                    9  Settlement Offer                  No   \n",
            "497                    3  Settlement Offer                  No   \n",
            "498                    9             Calls                  No   \n",
            "499                    6  Settlement Offer                 Yes   \n",
            "\n",
            "     Outstanding_loan_amount Segments  borrower_segments  \n",
            "0                     291413        2          High Risk  \n",
            "1                     665204        3         Defaulters  \n",
            "2                    1031371        3         Defaulters  \n",
            "3                     224973        2          High Risk  \n",
            "4                      39189        1      Moderate Risk  \n",
            "..                       ...      ...                ...  \n",
            "495                   413528        0           Low Risk  \n",
            "496                   317374        0           Low Risk  \n",
            "497                   330030        0           Low Risk  \n",
            "498                  1565339        3         Defaulters  \n",
            "499                   188158        0           Low Risk  \n",
            "\n",
            "[500 rows x 25 columns]\n"
          ]
        }
      ]
    },
    {
      "cell_type": "code",
      "source": [
        "#droping the segment columns\n",
        "loan_df.drop(columns=['Segments'],inplace=True)"
      ],
      "metadata": {
        "id": "3wC-afnGGiZr"
      },
      "execution_count": null,
      "outputs": []
    },
    {
      "cell_type": "code",
      "source": [
        "loan_df.columns"
      ],
      "metadata": {
        "colab": {
          "base_uri": "https://localhost:8080/"
        },
        "id": "p-yCbEuPJonD",
        "outputId": "99d4d31c-1bd7-4ecb-84ea-855f9bde15d6"
      },
      "execution_count": null,
      "outputs": [
        {
          "output_type": "execute_result",
          "data": {
            "text/plain": [
              "Index(['_c0', 'Borrower_ID', 'Age', 'Gender', 'Employment_Type',\n",
              "       'Monthly_Income', 'Num_Dependents', 'Loan_ID', 'Loan_Amount',\n",
              "       'Loan_Tenure', 'Interest_Rate', 'Loan_Type', 'Collateral_Value',\n",
              "       'Outstanding_Loan_Amount', 'Monthly_EMI', 'Payment_History',\n",
              "       'Num_Missed_Payments', 'Days_Past_Due', 'Recovery_Status',\n",
              "       'Collection_Attempts', 'Collection_Method', 'Legal_Action_Taken',\n",
              "       'Outstanding_loan_amount', 'borrower_segments'],\n",
              "      dtype='object')"
            ]
          },
          "metadata": {},
          "execution_count": 208
        }
      ]
    },
    {
      "cell_type": "markdown",
      "source": [
        "# How  segmentation affect loan recovery on the basis Monthly income and loan amount"
      ],
      "metadata": {
        "id": "iTQ_MpbkFUx4"
      }
    },
    {
      "cell_type": "code",
      "source": [
        "#plotting the scatter plot for borrower segmenation\n",
        "fig = px.scatter(\n",
        "    loan_df,x=loan_df['Monthly_Income'],\n",
        "    y=loan_df['Loan_Amount'],\n",
        "    color=loan_df['borrower_segments'],\n",
        "    color_discrete_sequence=px.colors.qualitative.Vivid)\n",
        "\n",
        "fig.add_annotation(\n",
        "    x=loan_df['Monthly_Income'].max(),y=loan_df['Loan_Amount'].max(),\n",
        "    showarrow=True,\n",
        "    arrowcolor=\"green\",\n",
        "    text=\"High Monthly leads to High Borrowers\"\n",
        ")\n",
        "\n",
        "fig.add_annotation(\n",
        "    x=loan_df['Monthly_Income'].min(),y=loan_df['Loan_Amount'].min(),\n",
        "    showarrow=True,\n",
        "    arrowcolor=\"red\",\n",
        "    text=\"Low Monthly leads to Low Borrowers\"\n",
        ")\n",
        "\n",
        "fig.add_annotation(\n",
        "    x=loan_df['Monthly_Income'].mean(),y=loan_df['Loan_Amount'].mean(),\n",
        "    showarrow=True,\n",
        "    arrowcolor=\"black\",\n",
        "    text=\"minimum monthly income leads to moderate borrower\"\n",
        ")\n",
        "\n",
        "fig.update_layout(\n",
        "    title=\"Borrower Segmentation on the basis of Monthly Income and Loan Amount\",\n",
        ")"
      ],
      "metadata": {
        "colab": {
          "base_uri": "https://localhost:8080/",
          "height": 542
        },
        "id": "4jtbiw0tE6tN",
        "outputId": "278cfed3-75bc-4004-effb-c63284b9bb73"
      },
      "execution_count": null,
      "outputs": [
        {
          "output_type": "display_data",
          "data": {
            "text/html": [
              "<html>\n",
              "<head><meta charset=\"utf-8\" /></head>\n",
              "<body>\n",
              "    <div>            <script src=\"https://cdnjs.cloudflare.com/ajax/libs/mathjax/2.7.5/MathJax.js?config=TeX-AMS-MML_SVG\"></script><script type=\"text/javascript\">if (window.MathJax && window.MathJax.Hub && window.MathJax.Hub.Config) {window.MathJax.Hub.Config({SVG: {font: \"STIX-Web\"}});}</script>                <script type=\"text/javascript\">window.PlotlyConfig = {MathJaxConfig: 'local'};</script>\n",
              "        <script charset=\"utf-8\" src=\"https://cdn.plot.ly/plotly-2.35.2.min.js\"></script>                <div id=\"acbaf4ed-e433-4f60-91ed-8328e13daa4a\" class=\"plotly-graph-div\" style=\"height:525px; width:100%;\"></div>            <script type=\"text/javascript\">                                    window.PLOTLYENV=window.PLOTLYENV || {};                                    if (document.getElementById(\"acbaf4ed-e433-4f60-91ed-8328e13daa4a\")) {                    Plotly.newPlot(                        \"acbaf4ed-e433-4f60-91ed-8328e13daa4a\",                        [{\"hovertemplate\":\"borrower_segments=Moderate Risk\\u003cbr\\u003eMonthly_Income=%{x}\\u003cbr\\u003eLoan_Amount=%{y}\\u003cextra\\u003e\\u003c\\u002fextra\\u003e\",\"legendgroup\":\"Moderate Risk\",\"marker\":{\"color\":\"rgb(229, 134, 6)\",\"symbol\":\"circle\"},\"mode\":\"markers\",\"name\":\"Moderate Risk\",\"orientation\":\"v\",\"showlegend\":true,\"x\":[215422,116520,140818,82649,76367,244027,122803,231184,217724,107324,238536,24847,131891,164381,146691,166409,212576,193686,237500,249554,155272,79178,187307,211733,104393,76212,71503,21570,224203,249614,161649,140354,125448,240867,173056,125169,51059,118409,171995,237821,114304,171498,106736,66924,141969,118896,154999,168515,94973,122522,240049,238131,157635,61819,237127,227781,179246,79106,216039,239372,71088,60379,183722,61413,108747,182450,159539,189668,246513,245662,194785,87588,78646,236097,134735,122971,115102,180140,234861,142834,177982,96571,214648,142556,220768,80108,139457,178189,141888,207018,237374,249565,216659,25756,140703,246804,165273,68363,146733,110673,207035,63604,83910,15207,245008,83619,61479,166175,246055,96437,63231,237724,228277,106878,130700,91559,34169,133413,20782,139481,230400,193936,99416,188757,105373,98362,80450,236427],\"xaxis\":\"x\",\"y\":[1445796,1923410,1811663,1514110,1250114,1980750,1518919,1234789,1637952,1470858,1798982,1818361,1463562,1238360,1304352,1863205,1691232,793859,1439678,1371448,1587111,1482769,1297098,1164518,1608141,1621128,1898058,1838380,1003680,1926336,1300130,1909626,742924,1537606,1772560,1083668,1470623,1460023,1744814,1425607,1609757,1606407,1931297,1938755,1729328,1851498,903392,1615188,1240456,1868673,1704802,1483466,1966494,1173853,1618146,1989253,1940641,1572494,1674777,1717640,1808781,1859977,1947883,1422840,1619192,1479210,1388950,1294951,1448949,1713129,1421430,1717740,1034558,1818555,1331506,1390829,818917,1799736,1620234,1769374,838245,1926251,1158848,1594492,1469920,1884907,1586643,1429932,1753834,1189752,846710,1332116,1280137,1837040,1419391,1780085,1375644,1885877,1886022,1574314,1995325,1058109,1121824,1778106,1333440,1273451,1452549,1977716,1242503,1183754,1496250,1693707,1585601,1958241,1728997,1895759,1832988,1187411,1795030,1283770,1652357,1822750,1255046,1718849,1365823,1386220,1723200,1522966],\"yaxis\":\"y\",\"type\":\"scatter\"},{\"hovertemplate\":\"borrower_segments=Defaulters\\u003cbr\\u003eMonthly_Income=%{x}\\u003cbr\\u003eLoan_Amount=%{y}\\u003cextra\\u003e\\u003c\\u002fextra\\u003e\",\"legendgroup\":\"Defaulters\",\"marker\":{\"color\":\"rgb(93, 105, 177)\",\"symbol\":\"circle\"},\"mode\":\"markers\",\"name\":\"Defaulters\",\"orientation\":\"v\",\"showlegend\":true,\"x\":[60893,247750,133154,126453,34816,188312,152348,94530,98310,49707,174476,48997,249746,60272,150542,136863,28669,201481,227112,188895,188359,224988,215641,206648,173280,133516,147439,108680,247365,181703,46348,210804,16177,173059,102163,192953,196187,22151,123177,191048,235094,63368,86031,96929,91153,90388,46401,247601,182523,80681,210246,83388,38711,106658,72993,22421,233008,245145,127418,109018,46910,91329,127356,125944,131492,87240,89069,139982,185963,117747,44301,187395,136237,211133,24715,162235,144992,158401],\"xaxis\":\"x\",\"y\":[1044620,1839096,1256212,1648575,1652970,1950466,1581064,1491149,1588814,1897305,1132448,1905591,1976126,1656140,1190844,1395718,1445811,1593586,840605,1711655,1764514,1753924,1492181,903823,1627850,1917306,1447330,1871573,1707888,1874964,1911057,1438509,1707390,1332807,1124567,1255565,1605537,1995049,1833586,1563083,1835818,1210117,1788446,1651948,1959824,1625506,1927145,1947268,1486564,1872744,1795987,1966140,1391701,1958911,1955829,1701377,1511666,1804867,1411236,1814622,1352600,1816892,1947951,1718531,1633306,1958796,1497075,1970955,1971672,1615116,1162186,1575753,1321118,963081,1892360,1720357,1236944,1769890],\"yaxis\":\"y\",\"type\":\"scatter\"},{\"hovertemplate\":\"borrower_segments=Low Risk\\u003cbr\\u003eMonthly_Income=%{x}\\u003cbr\\u003eLoan_Amount=%{y}\\u003cextra\\u003e\\u003c\\u002fextra\\u003e\",\"legendgroup\":\"Low Risk\",\"marker\":{\"color\":\"rgb(82, 188, 163)\",\"symbol\":\"circle\"},\"mode\":\"markers\",\"name\":\"Low Risk\",\"orientation\":\"v\",\"showlegend\":true,\"x\":[76272,79674,101475,136750,59738,48397,97189,91367,169571,123856,86635,70204,30563,41155,94671,106155,15281,147130,91260,175928,134273,147311,83785,24110,27115,54062,37911,119061,47556,16969,58753,25225,138008,169268,120823,183452,139398,63320,103009,43625,39089,51487,65138,116376,94134,62055,34508,23125,185954,129044,44165,82203,19114,51321,88297,32772,18712,130142,18726,104152,50643,40537,92576,37612,21471,150832,47779,36636,68551,173038,93714,39596,143803,154978,51914,224684,72716,188724,136999,129793,27289,101365,129014,190211,175806,18654,33743,170683,134891,27149,74189,57668,103204,198321,52384,134503,49084,125641,51041,103920,41160,32633,32014,64104,92231,31014,107578,179827,55390,32727,19358,70754,175443,53467,163697,48893,46007,69253,27323,126335,160282,31456,46367,69624,156178,83008,71549,88794,60113,24686,112543,57828,25526,40592,43982,87982,208783,33752,71273,19895,25699,50585,45682,53067,33073,51035,105517,25382,76929,40169],\"xaxis\":\"x\",\"y\":[88578,912147,790389,896574,1192102,1149577,894081,242029,267583,188286,1225055,1363428,1418335,1495065,752495,345064,301514,485928,651891,407246,438518,462672,396184,595932,742485,510115,92291,478276,444754,75675,723647,758672,679698,387369,1929822,362863,179887,1433875,608963,855351,421513,862832,522963,644821,526128,1073920,940023,875626,250339,984339,77798,665937,69477,267400,1315636,1074374,1385055,323586,873759,983703,634010,343946,538765,692927,1316389,451062,533779,547952,882595,533455,597219,301671,678380,279577,760672,145556,702755,793088,109778,1144409,1464657,1233765,572154,672006,1061930,1129525,904568,339134,721553,180356,787090,837738,423216,101707,330833,236633,884874,939493,929459,134381,1046358,788096,902050,1204697,651160,314237,325049,696047,467567,1499466,309480,773858,94816,1436665,840449,846883,406007,93764,173030,968638,939855,1464718,110128,269128,858301,55039,166214,903329,1037410,412441,933520,476674,132409,1580952,748876,937553,681525,1803767,228267,205489,358362,1565331,343851,1175285,418760,903605,820692,478745,1556242,394866],\"yaxis\":\"y\",\"type\":\"scatter\"},{\"hovertemplate\":\"borrower_segments=High Risk\\u003cbr\\u003eMonthly_Income=%{x}\\u003cbr\\u003eLoan_Amount=%{y}\\u003cextra\\u003e\\u003c\\u002fextra\\u003e\",\"legendgroup\":\"High Risk\",\"marker\":{\"color\":\"rgb(153, 201, 69)\",\"symbol\":\"circle\"},\"mode\":\"markers\",\"name\":\"High Risk\",\"orientation\":\"v\",\"showlegend\":true,\"x\":[238224,159832,167999,158660,198305,217332,135585,91619,234648,228567,50946,197958,247944,213350,229266,196180,96537,173492,226968,185102,232285,171683,181129,141945,161470,135030,152710,94141,143335,228883,125677,193486,211910,243071,183280,69061,176731,177962,163159,20704,219456,233200,126279,218532,231222,212096,247549,211037,111652,118754,42723,249182,115494,155180,223786,177396,229432,111546,78449,124834,222815,206305,96889,157628,173670,88770,205961,204420,74182,54310,125350,152084,238725,218502,177082,200763,210229,169243,220244,152513,167747,159745,222738,226830,211501,169741,155507,240160,142959,217903,120111,201898,153299,249386,211553,240952,95532,187693,173285,203856,234772,244104,208510,124847,197573,185604,219451,140926,130395,79315,215321,214083,51378,150327,160556,180575,244189,151321,140541,204648,190915,247041,103733,175400,156826,113540,201994,243984,113452,159467,232029,134968,134264,234249,201186,142810,211049,248782,150509,217043,210684,248483,243590,113864],\"xaxis\":\"x\",\"y\":[664741,258859,161435,95475,1252060,478733,718516,990568,413898,277189,603172,854807,322158,128077,365018,119087,863560,978660,192180,834192,970114,135774,1318933,587977,676256,463089,640504,112021,353664,312318,346063,383713,231517,120305,1257610,528108,1053346,237256,292188,426047,287501,1418722,347675,758175,313625,892840,175355,1509058,439959,455105,384971,181184,1185627,200653,295300,142036,197595,331696,285419,1040029,204692,313031,620508,446981,429270,1055782,172332,139116,824504,564265,453777,445204,1506048,700443,548682,859057,606376,126361,111842,538019,964565,1102425,62360,827567,669055,311445,480179,104330,1138963,1571624,446210,828799,1460295,891708,243984,303091,314064,520435,132289,690794,183498,1188585,473159,771755,54138,271552,366462,202353,162935,1388306,103053,136346,379231,455841,608685,535001,450826,486542,687431,422397,584391,1106600,525430,986800,1510049,1097380,856457,748787,1753163,1530298,1104244,394126,865359,151948,347986,63261,1392501,325796,687787,723812,885825,740796,1408126,375203],\"yaxis\":\"y\",\"type\":\"scatter\"}],                        {\"template\":{\"data\":{\"histogram2dcontour\":[{\"type\":\"histogram2dcontour\",\"colorbar\":{\"outlinewidth\":0,\"ticks\":\"\"},\"colorscale\":[[0.0,\"#0d0887\"],[0.1111111111111111,\"#46039f\"],[0.2222222222222222,\"#7201a8\"],[0.3333333333333333,\"#9c179e\"],[0.4444444444444444,\"#bd3786\"],[0.5555555555555556,\"#d8576b\"],[0.6666666666666666,\"#ed7953\"],[0.7777777777777778,\"#fb9f3a\"],[0.8888888888888888,\"#fdca26\"],[1.0,\"#f0f921\"]]}],\"choropleth\":[{\"type\":\"choropleth\",\"colorbar\":{\"outlinewidth\":0,\"ticks\":\"\"}}],\"histogram2d\":[{\"type\":\"histogram2d\",\"colorbar\":{\"outlinewidth\":0,\"ticks\":\"\"},\"colorscale\":[[0.0,\"#0d0887\"],[0.1111111111111111,\"#46039f\"],[0.2222222222222222,\"#7201a8\"],[0.3333333333333333,\"#9c179e\"],[0.4444444444444444,\"#bd3786\"],[0.5555555555555556,\"#d8576b\"],[0.6666666666666666,\"#ed7953\"],[0.7777777777777778,\"#fb9f3a\"],[0.8888888888888888,\"#fdca26\"],[1.0,\"#f0f921\"]]}],\"heatmap\":[{\"type\":\"heatmap\",\"colorbar\":{\"outlinewidth\":0,\"ticks\":\"\"},\"colorscale\":[[0.0,\"#0d0887\"],[0.1111111111111111,\"#46039f\"],[0.2222222222222222,\"#7201a8\"],[0.3333333333333333,\"#9c179e\"],[0.4444444444444444,\"#bd3786\"],[0.5555555555555556,\"#d8576b\"],[0.6666666666666666,\"#ed7953\"],[0.7777777777777778,\"#fb9f3a\"],[0.8888888888888888,\"#fdca26\"],[1.0,\"#f0f921\"]]}],\"heatmapgl\":[{\"type\":\"heatmapgl\",\"colorbar\":{\"outlinewidth\":0,\"ticks\":\"\"},\"colorscale\":[[0.0,\"#0d0887\"],[0.1111111111111111,\"#46039f\"],[0.2222222222222222,\"#7201a8\"],[0.3333333333333333,\"#9c179e\"],[0.4444444444444444,\"#bd3786\"],[0.5555555555555556,\"#d8576b\"],[0.6666666666666666,\"#ed7953\"],[0.7777777777777778,\"#fb9f3a\"],[0.8888888888888888,\"#fdca26\"],[1.0,\"#f0f921\"]]}],\"contourcarpet\":[{\"type\":\"contourcarpet\",\"colorbar\":{\"outlinewidth\":0,\"ticks\":\"\"}}],\"contour\":[{\"type\":\"contour\",\"colorbar\":{\"outlinewidth\":0,\"ticks\":\"\"},\"colorscale\":[[0.0,\"#0d0887\"],[0.1111111111111111,\"#46039f\"],[0.2222222222222222,\"#7201a8\"],[0.3333333333333333,\"#9c179e\"],[0.4444444444444444,\"#bd3786\"],[0.5555555555555556,\"#d8576b\"],[0.6666666666666666,\"#ed7953\"],[0.7777777777777778,\"#fb9f3a\"],[0.8888888888888888,\"#fdca26\"],[1.0,\"#f0f921\"]]}],\"surface\":[{\"type\":\"surface\",\"colorbar\":{\"outlinewidth\":0,\"ticks\":\"\"},\"colorscale\":[[0.0,\"#0d0887\"],[0.1111111111111111,\"#46039f\"],[0.2222222222222222,\"#7201a8\"],[0.3333333333333333,\"#9c179e\"],[0.4444444444444444,\"#bd3786\"],[0.5555555555555556,\"#d8576b\"],[0.6666666666666666,\"#ed7953\"],[0.7777777777777778,\"#fb9f3a\"],[0.8888888888888888,\"#fdca26\"],[1.0,\"#f0f921\"]]}],\"mesh3d\":[{\"type\":\"mesh3d\",\"colorbar\":{\"outlinewidth\":0,\"ticks\":\"\"}}],\"scatter\":[{\"fillpattern\":{\"fillmode\":\"overlay\",\"size\":10,\"solidity\":0.2},\"type\":\"scatter\"}],\"parcoords\":[{\"type\":\"parcoords\",\"line\":{\"colorbar\":{\"outlinewidth\":0,\"ticks\":\"\"}}}],\"scatterpolargl\":[{\"type\":\"scatterpolargl\",\"marker\":{\"colorbar\":{\"outlinewidth\":0,\"ticks\":\"\"}}}],\"bar\":[{\"error_x\":{\"color\":\"#2a3f5f\"},\"error_y\":{\"color\":\"#2a3f5f\"},\"marker\":{\"line\":{\"color\":\"#E5ECF6\",\"width\":0.5},\"pattern\":{\"fillmode\":\"overlay\",\"size\":10,\"solidity\":0.2}},\"type\":\"bar\"}],\"scattergeo\":[{\"type\":\"scattergeo\",\"marker\":{\"colorbar\":{\"outlinewidth\":0,\"ticks\":\"\"}}}],\"scatterpolar\":[{\"type\":\"scatterpolar\",\"marker\":{\"colorbar\":{\"outlinewidth\":0,\"ticks\":\"\"}}}],\"histogram\":[{\"marker\":{\"pattern\":{\"fillmode\":\"overlay\",\"size\":10,\"solidity\":0.2}},\"type\":\"histogram\"}],\"scattergl\":[{\"type\":\"scattergl\",\"marker\":{\"colorbar\":{\"outlinewidth\":0,\"ticks\":\"\"}}}],\"scatter3d\":[{\"type\":\"scatter3d\",\"line\":{\"colorbar\":{\"outlinewidth\":0,\"ticks\":\"\"}},\"marker\":{\"colorbar\":{\"outlinewidth\":0,\"ticks\":\"\"}}}],\"scattermapbox\":[{\"type\":\"scattermapbox\",\"marker\":{\"colorbar\":{\"outlinewidth\":0,\"ticks\":\"\"}}}],\"scatterternary\":[{\"type\":\"scatterternary\",\"marker\":{\"colorbar\":{\"outlinewidth\":0,\"ticks\":\"\"}}}],\"scattercarpet\":[{\"type\":\"scattercarpet\",\"marker\":{\"colorbar\":{\"outlinewidth\":0,\"ticks\":\"\"}}}],\"carpet\":[{\"aaxis\":{\"endlinecolor\":\"#2a3f5f\",\"gridcolor\":\"white\",\"linecolor\":\"white\",\"minorgridcolor\":\"white\",\"startlinecolor\":\"#2a3f5f\"},\"baxis\":{\"endlinecolor\":\"#2a3f5f\",\"gridcolor\":\"white\",\"linecolor\":\"white\",\"minorgridcolor\":\"white\",\"startlinecolor\":\"#2a3f5f\"},\"type\":\"carpet\"}],\"table\":[{\"cells\":{\"fill\":{\"color\":\"#EBF0F8\"},\"line\":{\"color\":\"white\"}},\"header\":{\"fill\":{\"color\":\"#C8D4E3\"},\"line\":{\"color\":\"white\"}},\"type\":\"table\"}],\"barpolar\":[{\"marker\":{\"line\":{\"color\":\"#E5ECF6\",\"width\":0.5},\"pattern\":{\"fillmode\":\"overlay\",\"size\":10,\"solidity\":0.2}},\"type\":\"barpolar\"}],\"pie\":[{\"automargin\":true,\"type\":\"pie\"}]},\"layout\":{\"autotypenumbers\":\"strict\",\"colorway\":[\"#636efa\",\"#EF553B\",\"#00cc96\",\"#ab63fa\",\"#FFA15A\",\"#19d3f3\",\"#FF6692\",\"#B6E880\",\"#FF97FF\",\"#FECB52\"],\"font\":{\"color\":\"#2a3f5f\"},\"hovermode\":\"closest\",\"hoverlabel\":{\"align\":\"left\"},\"paper_bgcolor\":\"white\",\"plot_bgcolor\":\"#E5ECF6\",\"polar\":{\"bgcolor\":\"#E5ECF6\",\"angularaxis\":{\"gridcolor\":\"white\",\"linecolor\":\"white\",\"ticks\":\"\"},\"radialaxis\":{\"gridcolor\":\"white\",\"linecolor\":\"white\",\"ticks\":\"\"}},\"ternary\":{\"bgcolor\":\"#E5ECF6\",\"aaxis\":{\"gridcolor\":\"white\",\"linecolor\":\"white\",\"ticks\":\"\"},\"baxis\":{\"gridcolor\":\"white\",\"linecolor\":\"white\",\"ticks\":\"\"},\"caxis\":{\"gridcolor\":\"white\",\"linecolor\":\"white\",\"ticks\":\"\"}},\"coloraxis\":{\"colorbar\":{\"outlinewidth\":0,\"ticks\":\"\"}},\"colorscale\":{\"sequential\":[[0.0,\"#0d0887\"],[0.1111111111111111,\"#46039f\"],[0.2222222222222222,\"#7201a8\"],[0.3333333333333333,\"#9c179e\"],[0.4444444444444444,\"#bd3786\"],[0.5555555555555556,\"#d8576b\"],[0.6666666666666666,\"#ed7953\"],[0.7777777777777778,\"#fb9f3a\"],[0.8888888888888888,\"#fdca26\"],[1.0,\"#f0f921\"]],\"sequentialminus\":[[0.0,\"#0d0887\"],[0.1111111111111111,\"#46039f\"],[0.2222222222222222,\"#7201a8\"],[0.3333333333333333,\"#9c179e\"],[0.4444444444444444,\"#bd3786\"],[0.5555555555555556,\"#d8576b\"],[0.6666666666666666,\"#ed7953\"],[0.7777777777777778,\"#fb9f3a\"],[0.8888888888888888,\"#fdca26\"],[1.0,\"#f0f921\"]],\"diverging\":[[0,\"#8e0152\"],[0.1,\"#c51b7d\"],[0.2,\"#de77ae\"],[0.3,\"#f1b6da\"],[0.4,\"#fde0ef\"],[0.5,\"#f7f7f7\"],[0.6,\"#e6f5d0\"],[0.7,\"#b8e186\"],[0.8,\"#7fbc41\"],[0.9,\"#4d9221\"],[1,\"#276419\"]]},\"xaxis\":{\"gridcolor\":\"white\",\"linecolor\":\"white\",\"ticks\":\"\",\"title\":{\"standoff\":15},\"zerolinecolor\":\"white\",\"automargin\":true,\"zerolinewidth\":2},\"yaxis\":{\"gridcolor\":\"white\",\"linecolor\":\"white\",\"ticks\":\"\",\"title\":{\"standoff\":15},\"zerolinecolor\":\"white\",\"automargin\":true,\"zerolinewidth\":2},\"scene\":{\"xaxis\":{\"backgroundcolor\":\"#E5ECF6\",\"gridcolor\":\"white\",\"linecolor\":\"white\",\"showbackground\":true,\"ticks\":\"\",\"zerolinecolor\":\"white\",\"gridwidth\":2},\"yaxis\":{\"backgroundcolor\":\"#E5ECF6\",\"gridcolor\":\"white\",\"linecolor\":\"white\",\"showbackground\":true,\"ticks\":\"\",\"zerolinecolor\":\"white\",\"gridwidth\":2},\"zaxis\":{\"backgroundcolor\":\"#E5ECF6\",\"gridcolor\":\"white\",\"linecolor\":\"white\",\"showbackground\":true,\"ticks\":\"\",\"zerolinecolor\":\"white\",\"gridwidth\":2}},\"shapedefaults\":{\"line\":{\"color\":\"#2a3f5f\"}},\"annotationdefaults\":{\"arrowcolor\":\"#2a3f5f\",\"arrowhead\":0,\"arrowwidth\":1},\"geo\":{\"bgcolor\":\"white\",\"landcolor\":\"#E5ECF6\",\"subunitcolor\":\"white\",\"showland\":true,\"showlakes\":true,\"lakecolor\":\"white\"},\"title\":{\"x\":0.05},\"mapbox\":{\"style\":\"light\"}}},\"xaxis\":{\"anchor\":\"y\",\"domain\":[0.0,1.0],\"title\":{\"text\":\"Monthly_Income\"}},\"yaxis\":{\"anchor\":\"x\",\"domain\":[0.0,1.0],\"title\":{\"text\":\"Loan_Amount\"}},\"legend\":{\"title\":{\"text\":\"borrower_segments\"},\"tracegroupgap\":0},\"margin\":{\"t\":60},\"annotations\":[{\"arrowcolor\":\"green\",\"showarrow\":true,\"text\":\"High Monthly leads to High Borrowers\",\"x\":249746,\"y\":1995325},{\"arrowcolor\":\"red\",\"showarrow\":true,\"text\":\"Low Monthly leads to Low Borrowers\",\"x\":15207,\"y\":54138},{\"arrowcolor\":\"black\",\"showarrow\":true,\"text\":\"minimum monthly income leads to moderate borrower\",\"x\":134829.92,\"y\":1024907.032}],\"title\":{\"text\":\"Borrower Segmentation on the basis of Monthly Income and Loan Amount\"}},                        {\"responsive\": true}                    ).then(function(){\n",
              "                            \n",
              "var gd = document.getElementById('acbaf4ed-e433-4f60-91ed-8328e13daa4a');\n",
              "var x = new MutationObserver(function (mutations, observer) {{\n",
              "        var display = window.getComputedStyle(gd).display;\n",
              "        if (!display || display === 'none') {{\n",
              "            console.log([gd, 'removed!']);\n",
              "            Plotly.purge(gd);\n",
              "            observer.disconnect();\n",
              "        }}\n",
              "}});\n",
              "\n",
              "// Listen for the removal of the full notebook cells\n",
              "var notebookContainer = gd.closest('#notebook-container');\n",
              "if (notebookContainer) {{\n",
              "    x.observe(notebookContainer, {childList: true});\n",
              "}}\n",
              "\n",
              "// Listen for the clearing of the current output cell\n",
              "var outputEl = gd.closest('.output');\n",
              "if (outputEl) {{\n",
              "    x.observe(outputEl, {childList: true});\n",
              "}}\n",
              "\n",
              "                        })                };                            </script>        </div>\n",
              "</body>\n",
              "</html>"
            ]
          },
          "metadata": {}
        }
      ]
    },
    {
      "cell_type": "markdown",
      "source": [
        "# How num of missed payments leads to risk borrower"
      ],
      "metadata": {
        "id": "uS77sbTyUn8p"
      }
    },
    {
      "cell_type": "code",
      "source": [
        "#num of payments leads to types of risk borrowers\n",
        "fig = px.scatter(\n",
        "    loan_df,x=loan_df['Num_Missed_Payments'],\n",
        "    y=loan_df['borrower_segments'],\n",
        "    color=loan_df['borrower_segments'],\n",
        "    color_discrete_sequence=px.colors.qualitative.Vivid\n",
        ")\n",
        "\n",
        "#adding the text with low boorowers , high borrowers , deafulters and moderate borrowers\n",
        "fig.add_annotation(\n",
        "    x=loan_df['Num_Missed_Payments'].min(),y=\"Low Risk\",\n",
        "    showarrow=True,\n",
        "    arrowcolor=\"green\",\n",
        "    text=\"min number of payments leads to Low Risk Borrowers\"\n",
        ")\n",
        "\n",
        "fig.add_annotation(\n",
        "    x=loan_df['Num_Missed_Payments'].max(),y=\"High Risk\",\n",
        "    showarrow=True,\n",
        "    arrowcolor=\"red\",\n",
        "    text=\"max number of payments leads to High Risk Borrowers\"\n",
        ")\n",
        "\n",
        "fig.add_annotation(\n",
        "    x=loan_df['Num_Missed_Payments'].mean(),y=\"Moderate Risk\",\n",
        "    showarrow=True,\n",
        "    arrowcolor=\"black\",\n",
        "    text=\"average number of payments leads to Moderate Risk Borrowers\"\n",
        ")\n",
        "\n",
        "fig.update_layout(\n",
        "    title=\"num of missed payments borrower segmentation\")"
      ],
      "metadata": {
        "colab": {
          "base_uri": "https://localhost:8080/",
          "height": 542
        },
        "id": "mkLkxtK2UxGu",
        "outputId": "3ad49423-3644-411c-8bd8-ce7b75e236f5"
      },
      "execution_count": null,
      "outputs": [
        {
          "output_type": "display_data",
          "data": {
            "text/html": [
              "<html>\n",
              "<head><meta charset=\"utf-8\" /></head>\n",
              "<body>\n",
              "    <div>            <script src=\"https://cdnjs.cloudflare.com/ajax/libs/mathjax/2.7.5/MathJax.js?config=TeX-AMS-MML_SVG\"></script><script type=\"text/javascript\">if (window.MathJax && window.MathJax.Hub && window.MathJax.Hub.Config) {window.MathJax.Hub.Config({SVG: {font: \"STIX-Web\"}});}</script>                <script type=\"text/javascript\">window.PlotlyConfig = {MathJaxConfig: 'local'};</script>\n",
              "        <script charset=\"utf-8\" src=\"https://cdn.plot.ly/plotly-2.35.2.min.js\"></script>                <div id=\"3b2d1d62-3fc5-42ee-8d7b-c071cf1b3403\" class=\"plotly-graph-div\" style=\"height:525px; width:100%;\"></div>            <script type=\"text/javascript\">                                    window.PLOTLYENV=window.PLOTLYENV || {};                                    if (document.getElementById(\"3b2d1d62-3fc5-42ee-8d7b-c071cf1b3403\")) {                    Plotly.newPlot(                        \"3b2d1d62-3fc5-42ee-8d7b-c071cf1b3403\",                        [{\"hovertemplate\":\"borrower_segments=%{y}\\u003cbr\\u003eNum_Missed_Payments=%{x}\\u003cextra\\u003e\\u003c\\u002fextra\\u003e\",\"legendgroup\":\"High Risk\",\"marker\":{\"color\":\"rgb(229, 134, 6)\",\"symbol\":\"circle\"},\"mode\":\"markers\",\"name\":\"High Risk\",\"orientation\":\"h\",\"showlegend\":true,\"x\":[0,1,0,0,1,2,0,0,0,2,1,0,2,0,2,2,0,2,1,3,1,2,3,1,2,0,2,1,0,1,3,2,0,0,0,0,1,1,3,1,0,2,0,1,0,0,3,1,2,0,0,0,0,0,1,0,2,2,1,3,0,0,3,1,2,1,2,1,0,1,0,0,0,0,0,2,3,0,2,3,1,2,0,3,0,0,1,2,1,2,2,3,1,0,1,1,1,0,3,3,1,0,1,3,0,1,3,2,3,1,0,1,2,2,0,1,3,3,3],\"xaxis\":\"x\",\"y\":[\"High Risk\",\"High Risk\",\"High Risk\",\"High Risk\",\"High Risk\",\"High Risk\",\"High Risk\",\"High Risk\",\"High Risk\",\"High Risk\",\"High Risk\",\"High Risk\",\"High Risk\",\"High Risk\",\"High Risk\",\"High Risk\",\"High Risk\",\"High Risk\",\"High Risk\",\"High Risk\",\"High Risk\",\"High Risk\",\"High Risk\",\"High Risk\",\"High Risk\",\"High Risk\",\"High Risk\",\"High Risk\",\"High Risk\",\"High Risk\",\"High Risk\",\"High Risk\",\"High Risk\",\"High Risk\",\"High Risk\",\"High Risk\",\"High Risk\",\"High Risk\",\"High Risk\",\"High Risk\",\"High Risk\",\"High Risk\",\"High Risk\",\"High Risk\",\"High Risk\",\"High Risk\",\"High Risk\",\"High Risk\",\"High Risk\",\"High Risk\",\"High Risk\",\"High Risk\",\"High Risk\",\"High Risk\",\"High Risk\",\"High Risk\",\"High Risk\",\"High Risk\",\"High Risk\",\"High Risk\",\"High Risk\",\"High Risk\",\"High Risk\",\"High Risk\",\"High Risk\",\"High Risk\",\"High Risk\",\"High Risk\",\"High Risk\",\"High Risk\",\"High Risk\",\"High Risk\",\"High Risk\",\"High Risk\",\"High Risk\",\"High Risk\",\"High Risk\",\"High Risk\",\"High Risk\",\"High Risk\",\"High Risk\",\"High Risk\",\"High Risk\",\"High Risk\",\"High Risk\",\"High Risk\",\"High Risk\",\"High Risk\",\"High Risk\",\"High Risk\",\"High Risk\",\"High Risk\",\"High Risk\",\"High Risk\",\"High Risk\",\"High Risk\",\"High Risk\",\"High Risk\",\"High Risk\",\"High Risk\",\"High Risk\",\"High Risk\",\"High Risk\",\"High Risk\",\"High Risk\",\"High Risk\",\"High Risk\",\"High Risk\",\"High Risk\",\"High Risk\",\"High Risk\",\"High Risk\",\"High Risk\",\"High Risk\",\"High Risk\",\"High Risk\",\"High Risk\",\"High Risk\",\"High Risk\"],\"yaxis\":\"y\",\"type\":\"scatter\"},{\"hovertemplate\":\"borrower_segments=%{y}\\u003cbr\\u003eNum_Missed_Payments=%{x}\\u003cextra\\u003e\\u003c\\u002fextra\\u003e\",\"legendgroup\":\"Defaulters\",\"marker\":{\"color\":\"rgb(93, 105, 177)\",\"symbol\":\"circle\"},\"mode\":\"markers\",\"name\":\"Defaulters\",\"orientation\":\"h\",\"showlegend\":true,\"x\":[0,2,1,3,2,1,1,2,0,2,2,0,2,1,2,3,10,3,2,3,8,2,2,1,2,0,1,3,2,3,3,1,8,3,0,3,2,3,0,10,0,3,6,3,1,9,1,1,0,1,3,2,1,2,2,2,2,1,3,0,3,0,3,3,0,3,2,4,1,0,3,2,2,2,11,3,2,2,3,6,2,3,3,3,1,3,3,10,4,4,2,1,3],\"xaxis\":\"x\",\"y\":[\"Defaulters\",\"Defaulters\",\"Defaulters\",\"Defaulters\",\"Defaulters\",\"Defaulters\",\"Defaulters\",\"Defaulters\",\"Defaulters\",\"Defaulters\",\"Defaulters\",\"Defaulters\",\"Defaulters\",\"Defaulters\",\"Defaulters\",\"Defaulters\",\"Defaulters\",\"Defaulters\",\"Defaulters\",\"Defaulters\",\"Defaulters\",\"Defaulters\",\"Defaulters\",\"Defaulters\",\"Defaulters\",\"Defaulters\",\"Defaulters\",\"Defaulters\",\"Defaulters\",\"Defaulters\",\"Defaulters\",\"Defaulters\",\"Defaulters\",\"Defaulters\",\"Defaulters\",\"Defaulters\",\"Defaulters\",\"Defaulters\",\"Defaulters\",\"Defaulters\",\"Defaulters\",\"Defaulters\",\"Defaulters\",\"Defaulters\",\"Defaulters\",\"Defaulters\",\"Defaulters\",\"Defaulters\",\"Defaulters\",\"Defaulters\",\"Defaulters\",\"Defaulters\",\"Defaulters\",\"Defaulters\",\"Defaulters\",\"Defaulters\",\"Defaulters\",\"Defaulters\",\"Defaulters\",\"Defaulters\",\"Defaulters\",\"Defaulters\",\"Defaulters\",\"Defaulters\",\"Defaulters\",\"Defaulters\",\"Defaulters\",\"Defaulters\",\"Defaulters\",\"Defaulters\",\"Defaulters\",\"Defaulters\",\"Defaulters\",\"Defaulters\",\"Defaulters\",\"Defaulters\",\"Defaulters\",\"Defaulters\",\"Defaulters\",\"Defaulters\",\"Defaulters\",\"Defaulters\",\"Defaulters\",\"Defaulters\",\"Defaulters\",\"Defaulters\",\"Defaulters\",\"Defaulters\",\"Defaulters\",\"Defaulters\",\"Defaulters\",\"Defaulters\",\"Defaulters\"],\"yaxis\":\"y\",\"type\":\"scatter\"},{\"hovertemplate\":\"borrower_segments=%{y}\\u003cbr\\u003eNum_Missed_Payments=%{x}\\u003cextra\\u003e\\u003c\\u002fextra\\u003e\",\"legendgroup\":\"Moderate Risk\",\"marker\":{\"color\":\"rgb(82, 188, 163)\",\"symbol\":\"circle\"},\"mode\":\"markers\",\"name\":\"Moderate Risk\",\"orientation\":\"h\",\"showlegend\":true,\"x\":[1,0,0,0,0,2,0,0,0,2,3,0,1,1,1,0,1,1,1,1,0,0,1,1,3,2,3,0,0,1,1,0,3,2,0,0,0,2,0,1,1,0,3,0,0,0,0,3,1,1,0,0,0,0,3,1,0,2,0,0,1,1,1,3,0,0,1,3,0,4,0,0,0,0,2,1,0,0,0,3,2,0,0,1,2,2,1,2,3,0,0,0,1,0,2,2,1,1,0,2,2,1,0,1,1,0,0,1,0,0,3,2,3,2,0,3,0,2,0,2,3,0,1,1,0,2,3,1,0,0,1,0,0,3,3,3,1,0,0,0],\"xaxis\":\"x\",\"y\":[\"Moderate Risk\",\"Moderate Risk\",\"Moderate Risk\",\"Moderate Risk\",\"Moderate Risk\",\"Moderate Risk\",\"Moderate Risk\",\"Moderate Risk\",\"Moderate Risk\",\"Moderate Risk\",\"Moderate Risk\",\"Moderate Risk\",\"Moderate Risk\",\"Moderate Risk\",\"Moderate Risk\",\"Moderate Risk\",\"Moderate Risk\",\"Moderate Risk\",\"Moderate Risk\",\"Moderate Risk\",\"Moderate Risk\",\"Moderate Risk\",\"Moderate Risk\",\"Moderate Risk\",\"Moderate Risk\",\"Moderate Risk\",\"Moderate Risk\",\"Moderate Risk\",\"Moderate Risk\",\"Moderate Risk\",\"Moderate Risk\",\"Moderate Risk\",\"Moderate Risk\",\"Moderate Risk\",\"Moderate Risk\",\"Moderate Risk\",\"Moderate Risk\",\"Moderate Risk\",\"Moderate Risk\",\"Moderate Risk\",\"Moderate Risk\",\"Moderate Risk\",\"Moderate Risk\",\"Moderate Risk\",\"Moderate Risk\",\"Moderate Risk\",\"Moderate Risk\",\"Moderate Risk\",\"Moderate Risk\",\"Moderate Risk\",\"Moderate Risk\",\"Moderate Risk\",\"Moderate Risk\",\"Moderate Risk\",\"Moderate Risk\",\"Moderate Risk\",\"Moderate Risk\",\"Moderate Risk\",\"Moderate Risk\",\"Moderate Risk\",\"Moderate Risk\",\"Moderate Risk\",\"Moderate Risk\",\"Moderate Risk\",\"Moderate Risk\",\"Moderate Risk\",\"Moderate Risk\",\"Moderate Risk\",\"Moderate Risk\",\"Moderate Risk\",\"Moderate Risk\",\"Moderate Risk\",\"Moderate Risk\",\"Moderate Risk\",\"Moderate Risk\",\"Moderate Risk\",\"Moderate Risk\",\"Moderate Risk\",\"Moderate Risk\",\"Moderate Risk\",\"Moderate Risk\",\"Moderate Risk\",\"Moderate Risk\",\"Moderate Risk\",\"Moderate Risk\",\"Moderate Risk\",\"Moderate Risk\",\"Moderate Risk\",\"Moderate Risk\",\"Moderate Risk\",\"Moderate Risk\",\"Moderate Risk\",\"Moderate Risk\",\"Moderate Risk\",\"Moderate Risk\",\"Moderate Risk\",\"Moderate Risk\",\"Moderate Risk\",\"Moderate Risk\",\"Moderate Risk\",\"Moderate Risk\",\"Moderate Risk\",\"Moderate Risk\",\"Moderate Risk\",\"Moderate Risk\",\"Moderate Risk\",\"Moderate Risk\",\"Moderate Risk\",\"Moderate Risk\",\"Moderate Risk\",\"Moderate Risk\",\"Moderate Risk\",\"Moderate Risk\",\"Moderate Risk\",\"Moderate Risk\",\"Moderate Risk\",\"Moderate Risk\",\"Moderate Risk\",\"Moderate Risk\",\"Moderate Risk\",\"Moderate Risk\",\"Moderate Risk\",\"Moderate Risk\",\"Moderate Risk\",\"Moderate Risk\",\"Moderate Risk\",\"Moderate Risk\",\"Moderate Risk\",\"Moderate Risk\",\"Moderate Risk\",\"Moderate Risk\",\"Moderate Risk\",\"Moderate Risk\",\"Moderate Risk\",\"Moderate Risk\",\"Moderate Risk\",\"Moderate Risk\",\"Moderate Risk\",\"Moderate Risk\",\"Moderate Risk\"],\"yaxis\":\"y\",\"type\":\"scatter\"},{\"hovertemplate\":\"borrower_segments=%{y}\\u003cbr\\u003eNum_Missed_Payments=%{x}\\u003cextra\\u003e\\u003c\\u002fextra\\u003e\",\"legendgroup\":\"Low Risk\",\"marker\":{\"color\":\"rgb(153, 201, 69)\",\"symbol\":\"circle\"},\"mode\":\"markers\",\"name\":\"Low Risk\",\"orientation\":\"h\",\"showlegend\":true,\"x\":[1,3,3,1,3,1,11,6,2,3,3,11,3,2,3,2,1,3,3,2,2,2,3,1,1,2,3,3,3,1,3,2,2,12,2,3,1,8,12,1,2,2,3,1,1,1,1,1,2,2,3,3,3,10,6,3,3,3,1,3,1,1,6,3,1,1,2,3,3,1,11,2,3,9,3,3,1,2,2,2,2,2,1,2,3,4,1,3,2,1,2,1,1,1,3,1,2,3,1,2,2,2,2,3,1,2,8,2,3,3,3,3,1,2,2,3,3,3,2,3,9,3,1,12,1,12,12,7,2,1,3,1,3,2,2,1,1,1,3,3,2,3,6,3,2,2,3,1],\"xaxis\":\"x\",\"y\":[\"Low Risk\",\"Low Risk\",\"Low Risk\",\"Low Risk\",\"Low Risk\",\"Low Risk\",\"Low Risk\",\"Low Risk\",\"Low Risk\",\"Low Risk\",\"Low Risk\",\"Low Risk\",\"Low Risk\",\"Low Risk\",\"Low Risk\",\"Low Risk\",\"Low Risk\",\"Low Risk\",\"Low Risk\",\"Low Risk\",\"Low Risk\",\"Low Risk\",\"Low Risk\",\"Low Risk\",\"Low Risk\",\"Low Risk\",\"Low Risk\",\"Low Risk\",\"Low Risk\",\"Low Risk\",\"Low Risk\",\"Low Risk\",\"Low Risk\",\"Low Risk\",\"Low Risk\",\"Low Risk\",\"Low Risk\",\"Low Risk\",\"Low Risk\",\"Low Risk\",\"Low Risk\",\"Low Risk\",\"Low Risk\",\"Low Risk\",\"Low Risk\",\"Low Risk\",\"Low Risk\",\"Low Risk\",\"Low Risk\",\"Low Risk\",\"Low Risk\",\"Low Risk\",\"Low Risk\",\"Low Risk\",\"Low Risk\",\"Low Risk\",\"Low Risk\",\"Low Risk\",\"Low Risk\",\"Low Risk\",\"Low Risk\",\"Low Risk\",\"Low Risk\",\"Low Risk\",\"Low Risk\",\"Low Risk\",\"Low Risk\",\"Low Risk\",\"Low Risk\",\"Low Risk\",\"Low Risk\",\"Low Risk\",\"Low Risk\",\"Low Risk\",\"Low Risk\",\"Low Risk\",\"Low Risk\",\"Low Risk\",\"Low Risk\",\"Low Risk\",\"Low Risk\",\"Low Risk\",\"Low Risk\",\"Low Risk\",\"Low Risk\",\"Low Risk\",\"Low Risk\",\"Low Risk\",\"Low Risk\",\"Low Risk\",\"Low Risk\",\"Low Risk\",\"Low Risk\",\"Low Risk\",\"Low Risk\",\"Low Risk\",\"Low Risk\",\"Low Risk\",\"Low Risk\",\"Low Risk\",\"Low Risk\",\"Low Risk\",\"Low Risk\",\"Low Risk\",\"Low Risk\",\"Low Risk\",\"Low Risk\",\"Low Risk\",\"Low Risk\",\"Low Risk\",\"Low Risk\",\"Low Risk\",\"Low Risk\",\"Low Risk\",\"Low Risk\",\"Low Risk\",\"Low Risk\",\"Low Risk\",\"Low Risk\",\"Low Risk\",\"Low Risk\",\"Low Risk\",\"Low Risk\",\"Low Risk\",\"Low Risk\",\"Low Risk\",\"Low Risk\",\"Low Risk\",\"Low Risk\",\"Low Risk\",\"Low Risk\",\"Low Risk\",\"Low Risk\",\"Low Risk\",\"Low Risk\",\"Low Risk\",\"Low Risk\",\"Low Risk\",\"Low Risk\",\"Low Risk\",\"Low Risk\",\"Low Risk\",\"Low Risk\",\"Low Risk\",\"Low Risk\",\"Low Risk\",\"Low Risk\",\"Low Risk\"],\"yaxis\":\"y\",\"type\":\"scatter\"}],                        {\"template\":{\"data\":{\"histogram2dcontour\":[{\"type\":\"histogram2dcontour\",\"colorbar\":{\"outlinewidth\":0,\"ticks\":\"\"},\"colorscale\":[[0.0,\"#0d0887\"],[0.1111111111111111,\"#46039f\"],[0.2222222222222222,\"#7201a8\"],[0.3333333333333333,\"#9c179e\"],[0.4444444444444444,\"#bd3786\"],[0.5555555555555556,\"#d8576b\"],[0.6666666666666666,\"#ed7953\"],[0.7777777777777778,\"#fb9f3a\"],[0.8888888888888888,\"#fdca26\"],[1.0,\"#f0f921\"]]}],\"choropleth\":[{\"type\":\"choropleth\",\"colorbar\":{\"outlinewidth\":0,\"ticks\":\"\"}}],\"histogram2d\":[{\"type\":\"histogram2d\",\"colorbar\":{\"outlinewidth\":0,\"ticks\":\"\"},\"colorscale\":[[0.0,\"#0d0887\"],[0.1111111111111111,\"#46039f\"],[0.2222222222222222,\"#7201a8\"],[0.3333333333333333,\"#9c179e\"],[0.4444444444444444,\"#bd3786\"],[0.5555555555555556,\"#d8576b\"],[0.6666666666666666,\"#ed7953\"],[0.7777777777777778,\"#fb9f3a\"],[0.8888888888888888,\"#fdca26\"],[1.0,\"#f0f921\"]]}],\"heatmap\":[{\"type\":\"heatmap\",\"colorbar\":{\"outlinewidth\":0,\"ticks\":\"\"},\"colorscale\":[[0.0,\"#0d0887\"],[0.1111111111111111,\"#46039f\"],[0.2222222222222222,\"#7201a8\"],[0.3333333333333333,\"#9c179e\"],[0.4444444444444444,\"#bd3786\"],[0.5555555555555556,\"#d8576b\"],[0.6666666666666666,\"#ed7953\"],[0.7777777777777778,\"#fb9f3a\"],[0.8888888888888888,\"#fdca26\"],[1.0,\"#f0f921\"]]}],\"heatmapgl\":[{\"type\":\"heatmapgl\",\"colorbar\":{\"outlinewidth\":0,\"ticks\":\"\"},\"colorscale\":[[0.0,\"#0d0887\"],[0.1111111111111111,\"#46039f\"],[0.2222222222222222,\"#7201a8\"],[0.3333333333333333,\"#9c179e\"],[0.4444444444444444,\"#bd3786\"],[0.5555555555555556,\"#d8576b\"],[0.6666666666666666,\"#ed7953\"],[0.7777777777777778,\"#fb9f3a\"],[0.8888888888888888,\"#fdca26\"],[1.0,\"#f0f921\"]]}],\"contourcarpet\":[{\"type\":\"contourcarpet\",\"colorbar\":{\"outlinewidth\":0,\"ticks\":\"\"}}],\"contour\":[{\"type\":\"contour\",\"colorbar\":{\"outlinewidth\":0,\"ticks\":\"\"},\"colorscale\":[[0.0,\"#0d0887\"],[0.1111111111111111,\"#46039f\"],[0.2222222222222222,\"#7201a8\"],[0.3333333333333333,\"#9c179e\"],[0.4444444444444444,\"#bd3786\"],[0.5555555555555556,\"#d8576b\"],[0.6666666666666666,\"#ed7953\"],[0.7777777777777778,\"#fb9f3a\"],[0.8888888888888888,\"#fdca26\"],[1.0,\"#f0f921\"]]}],\"surface\":[{\"type\":\"surface\",\"colorbar\":{\"outlinewidth\":0,\"ticks\":\"\"},\"colorscale\":[[0.0,\"#0d0887\"],[0.1111111111111111,\"#46039f\"],[0.2222222222222222,\"#7201a8\"],[0.3333333333333333,\"#9c179e\"],[0.4444444444444444,\"#bd3786\"],[0.5555555555555556,\"#d8576b\"],[0.6666666666666666,\"#ed7953\"],[0.7777777777777778,\"#fb9f3a\"],[0.8888888888888888,\"#fdca26\"],[1.0,\"#f0f921\"]]}],\"mesh3d\":[{\"type\":\"mesh3d\",\"colorbar\":{\"outlinewidth\":0,\"ticks\":\"\"}}],\"scatter\":[{\"fillpattern\":{\"fillmode\":\"overlay\",\"size\":10,\"solidity\":0.2},\"type\":\"scatter\"}],\"parcoords\":[{\"type\":\"parcoords\",\"line\":{\"colorbar\":{\"outlinewidth\":0,\"ticks\":\"\"}}}],\"scatterpolargl\":[{\"type\":\"scatterpolargl\",\"marker\":{\"colorbar\":{\"outlinewidth\":0,\"ticks\":\"\"}}}],\"bar\":[{\"error_x\":{\"color\":\"#2a3f5f\"},\"error_y\":{\"color\":\"#2a3f5f\"},\"marker\":{\"line\":{\"color\":\"#E5ECF6\",\"width\":0.5},\"pattern\":{\"fillmode\":\"overlay\",\"size\":10,\"solidity\":0.2}},\"type\":\"bar\"}],\"scattergeo\":[{\"type\":\"scattergeo\",\"marker\":{\"colorbar\":{\"outlinewidth\":0,\"ticks\":\"\"}}}],\"scatterpolar\":[{\"type\":\"scatterpolar\",\"marker\":{\"colorbar\":{\"outlinewidth\":0,\"ticks\":\"\"}}}],\"histogram\":[{\"marker\":{\"pattern\":{\"fillmode\":\"overlay\",\"size\":10,\"solidity\":0.2}},\"type\":\"histogram\"}],\"scattergl\":[{\"type\":\"scattergl\",\"marker\":{\"colorbar\":{\"outlinewidth\":0,\"ticks\":\"\"}}}],\"scatter3d\":[{\"type\":\"scatter3d\",\"line\":{\"colorbar\":{\"outlinewidth\":0,\"ticks\":\"\"}},\"marker\":{\"colorbar\":{\"outlinewidth\":0,\"ticks\":\"\"}}}],\"scattermapbox\":[{\"type\":\"scattermapbox\",\"marker\":{\"colorbar\":{\"outlinewidth\":0,\"ticks\":\"\"}}}],\"scatterternary\":[{\"type\":\"scatterternary\",\"marker\":{\"colorbar\":{\"outlinewidth\":0,\"ticks\":\"\"}}}],\"scattercarpet\":[{\"type\":\"scattercarpet\",\"marker\":{\"colorbar\":{\"outlinewidth\":0,\"ticks\":\"\"}}}],\"carpet\":[{\"aaxis\":{\"endlinecolor\":\"#2a3f5f\",\"gridcolor\":\"white\",\"linecolor\":\"white\",\"minorgridcolor\":\"white\",\"startlinecolor\":\"#2a3f5f\"},\"baxis\":{\"endlinecolor\":\"#2a3f5f\",\"gridcolor\":\"white\",\"linecolor\":\"white\",\"minorgridcolor\":\"white\",\"startlinecolor\":\"#2a3f5f\"},\"type\":\"carpet\"}],\"table\":[{\"cells\":{\"fill\":{\"color\":\"#EBF0F8\"},\"line\":{\"color\":\"white\"}},\"header\":{\"fill\":{\"color\":\"#C8D4E3\"},\"line\":{\"color\":\"white\"}},\"type\":\"table\"}],\"barpolar\":[{\"marker\":{\"line\":{\"color\":\"#E5ECF6\",\"width\":0.5},\"pattern\":{\"fillmode\":\"overlay\",\"size\":10,\"solidity\":0.2}},\"type\":\"barpolar\"}],\"pie\":[{\"automargin\":true,\"type\":\"pie\"}]},\"layout\":{\"autotypenumbers\":\"strict\",\"colorway\":[\"#636efa\",\"#EF553B\",\"#00cc96\",\"#ab63fa\",\"#FFA15A\",\"#19d3f3\",\"#FF6692\",\"#B6E880\",\"#FF97FF\",\"#FECB52\"],\"font\":{\"color\":\"#2a3f5f\"},\"hovermode\":\"closest\",\"hoverlabel\":{\"align\":\"left\"},\"paper_bgcolor\":\"white\",\"plot_bgcolor\":\"#E5ECF6\",\"polar\":{\"bgcolor\":\"#E5ECF6\",\"angularaxis\":{\"gridcolor\":\"white\",\"linecolor\":\"white\",\"ticks\":\"\"},\"radialaxis\":{\"gridcolor\":\"white\",\"linecolor\":\"white\",\"ticks\":\"\"}},\"ternary\":{\"bgcolor\":\"#E5ECF6\",\"aaxis\":{\"gridcolor\":\"white\",\"linecolor\":\"white\",\"ticks\":\"\"},\"baxis\":{\"gridcolor\":\"white\",\"linecolor\":\"white\",\"ticks\":\"\"},\"caxis\":{\"gridcolor\":\"white\",\"linecolor\":\"white\",\"ticks\":\"\"}},\"coloraxis\":{\"colorbar\":{\"outlinewidth\":0,\"ticks\":\"\"}},\"colorscale\":{\"sequential\":[[0.0,\"#0d0887\"],[0.1111111111111111,\"#46039f\"],[0.2222222222222222,\"#7201a8\"],[0.3333333333333333,\"#9c179e\"],[0.4444444444444444,\"#bd3786\"],[0.5555555555555556,\"#d8576b\"],[0.6666666666666666,\"#ed7953\"],[0.7777777777777778,\"#fb9f3a\"],[0.8888888888888888,\"#fdca26\"],[1.0,\"#f0f921\"]],\"sequentialminus\":[[0.0,\"#0d0887\"],[0.1111111111111111,\"#46039f\"],[0.2222222222222222,\"#7201a8\"],[0.3333333333333333,\"#9c179e\"],[0.4444444444444444,\"#bd3786\"],[0.5555555555555556,\"#d8576b\"],[0.6666666666666666,\"#ed7953\"],[0.7777777777777778,\"#fb9f3a\"],[0.8888888888888888,\"#fdca26\"],[1.0,\"#f0f921\"]],\"diverging\":[[0,\"#8e0152\"],[0.1,\"#c51b7d\"],[0.2,\"#de77ae\"],[0.3,\"#f1b6da\"],[0.4,\"#fde0ef\"],[0.5,\"#f7f7f7\"],[0.6,\"#e6f5d0\"],[0.7,\"#b8e186\"],[0.8,\"#7fbc41\"],[0.9,\"#4d9221\"],[1,\"#276419\"]]},\"xaxis\":{\"gridcolor\":\"white\",\"linecolor\":\"white\",\"ticks\":\"\",\"title\":{\"standoff\":15},\"zerolinecolor\":\"white\",\"automargin\":true,\"zerolinewidth\":2},\"yaxis\":{\"gridcolor\":\"white\",\"linecolor\":\"white\",\"ticks\":\"\",\"title\":{\"standoff\":15},\"zerolinecolor\":\"white\",\"automargin\":true,\"zerolinewidth\":2},\"scene\":{\"xaxis\":{\"backgroundcolor\":\"#E5ECF6\",\"gridcolor\":\"white\",\"linecolor\":\"white\",\"showbackground\":true,\"ticks\":\"\",\"zerolinecolor\":\"white\",\"gridwidth\":2},\"yaxis\":{\"backgroundcolor\":\"#E5ECF6\",\"gridcolor\":\"white\",\"linecolor\":\"white\",\"showbackground\":true,\"ticks\":\"\",\"zerolinecolor\":\"white\",\"gridwidth\":2},\"zaxis\":{\"backgroundcolor\":\"#E5ECF6\",\"gridcolor\":\"white\",\"linecolor\":\"white\",\"showbackground\":true,\"ticks\":\"\",\"zerolinecolor\":\"white\",\"gridwidth\":2}},\"shapedefaults\":{\"line\":{\"color\":\"#2a3f5f\"}},\"annotationdefaults\":{\"arrowcolor\":\"#2a3f5f\",\"arrowhead\":0,\"arrowwidth\":1},\"geo\":{\"bgcolor\":\"white\",\"landcolor\":\"#E5ECF6\",\"subunitcolor\":\"white\",\"showland\":true,\"showlakes\":true,\"lakecolor\":\"white\"},\"title\":{\"x\":0.05},\"mapbox\":{\"style\":\"light\"}}},\"xaxis\":{\"anchor\":\"y\",\"domain\":[0.0,1.0],\"title\":{\"text\":\"Num_Missed_Payments\"}},\"yaxis\":{\"anchor\":\"x\",\"domain\":[0.0,1.0],\"title\":{\"text\":\"borrower_segments\"},\"categoryorder\":\"array\",\"categoryarray\":[\"Low Risk\",\"Moderate Risk\",\"Defaulters\",\"High Risk\"]},\"legend\":{\"title\":{\"text\":\"borrower_segments\"},\"tracegroupgap\":0},\"margin\":{\"t\":60},\"annotations\":[{\"arrowcolor\":\"green\",\"showarrow\":true,\"text\":\"min number of payments leads to Low Risk Borrowers\",\"x\":0,\"y\":\"Low Risk\"},{\"arrowcolor\":\"red\",\"showarrow\":true,\"text\":\"max number of payments leads to High Risk Borrowers\",\"x\":12,\"y\":\"High Risk\"},{\"arrowcolor\":\"black\",\"showarrow\":true,\"text\":\"average number of payments leads to Moderate Risk Borrowers\",\"x\":1.912,\"y\":\"Moderate Risk\"}],\"title\":{\"text\":\"num of missed payments borrower segmentation\"}},                        {\"responsive\": true}                    ).then(function(){\n",
              "                            \n",
              "var gd = document.getElementById('3b2d1d62-3fc5-42ee-8d7b-c071cf1b3403');\n",
              "var x = new MutationObserver(function (mutations, observer) {{\n",
              "        var display = window.getComputedStyle(gd).display;\n",
              "        if (!display || display === 'none') {{\n",
              "            console.log([gd, 'removed!']);\n",
              "            Plotly.purge(gd);\n",
              "            observer.disconnect();\n",
              "        }}\n",
              "}});\n",
              "\n",
              "// Listen for the removal of the full notebook cells\n",
              "var notebookContainer = gd.closest('#notebook-container');\n",
              "if (notebookContainer) {{\n",
              "    x.observe(notebookContainer, {childList: true});\n",
              "}}\n",
              "\n",
              "// Listen for the clearing of the current output cell\n",
              "var outputEl = gd.closest('.output');\n",
              "if (outputEl) {{\n",
              "    x.observe(outputEl, {childList: true});\n",
              "}}\n",
              "\n",
              "                        })                };                            </script>        </div>\n",
              "</body>\n",
              "</html>"
            ]
          },
          "metadata": {}
        }
      ]
    }
  ],
  "metadata": {
    "colab": {
      "provenance": [],
      "toc_visible": true
    },
    "kernelspec": {
      "display_name": "Python 3",
      "name": "python3"
    },
    "language_info": {
      "name": "python"
    }
  },
  "nbformat": 4,
  "nbformat_minor": 0
}